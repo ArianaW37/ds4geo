{
  "nbformat": 4,
  "nbformat_minor": 0,
  "metadata": {
    "colab": {
      "name": "DS4GEO_L2.ipynb",
      "provenance": [],
      "authorship_tag": "ABX9TyNXAds57i7z9cSzhj11xE/k",
      "include_colab_link": true
    },
    "kernelspec": {
      "name": "python3",
      "display_name": "Python 3"
    }
  },
  "cells": [
    {
      "cell_type": "markdown",
      "metadata": {
        "id": "view-in-github",
        "colab_type": "text"
      },
      "source": [
        "<a href=\"https://colab.research.google.com/github/ds4geo/ds4geo/blob/master/DS4GEO_L2.ipynb\" target=\"_parent\"><img src=\"https://colab.research.google.com/assets/colab-badge.svg\" alt=\"Open In Colab\"/></a>"
      ]
    },
    {
      "cell_type": "code",
      "metadata": {
        "id": "1uesGbaB67Bt",
        "colab_type": "code",
        "colab": {}
      },
      "source": [
        "import pandas as pd\n",
        "import matplotlib.pyplot as plt\n",
        "import numpy as np"
      ],
      "execution_count": 12,
      "outputs": []
    },
    {
      "cell_type": "markdown",
      "metadata": {
        "id": "_YmWXvv_1Gvx",
        "colab_type": "text"
      },
      "source": [
        "Topics:\n",
        "1. Indexing lists\n",
        "2. Dicts and indexing dicts\n",
        "3. argmax vs boolean array indexing examples\n",
        "4. "
      ]
    },
    {
      "cell_type": "code",
      "metadata": {
        "id": "ELKupH7g9Cua",
        "colab_type": "code",
        "colab": {}
      },
      "source": [
        "file_name_list = [\"STD-1.csv\",\"Sample-1.csv\"]\n",
        "data_list = []\n",
        "for fn in file_name_list:\n",
        "  data_list.append(pd.read_csv(r\"https://raw.githubusercontent.com/oscarbranson/latools/master/tests/test_dir/test_data/\"+fn, header=3))\n",
        "data_list[1][\"Time [Sec]\"] = data_list[1][\"Time [Sec]\"] + data_list[0][\"Time [Sec]\"].max()\n",
        "data = pd.concat(data_list)"
      ],
      "execution_count": 3,
      "outputs": []
    },
    {
      "cell_type": "code",
      "metadata": {
        "id": "OyG5a7Sg_uqx",
        "colab_type": "code",
        "colab": {
          "base_uri": "https://localhost:8080/",
          "height": 419
        },
        "outputId": "0c1e9c0b-0b7e-4e27-999a-0f472f92fb0f"
      },
      "source": [
        "data"
      ],
      "execution_count": 4,
      "outputs": [
        {
          "output_type": "execute_result",
          "data": {
            "text/html": [
              "<div>\n",
              "<style scoped>\n",
              "    .dataframe tbody tr th:only-of-type {\n",
              "        vertical-align: middle;\n",
              "    }\n",
              "\n",
              "    .dataframe tbody tr th {\n",
              "        vertical-align: top;\n",
              "    }\n",
              "\n",
              "    .dataframe thead th {\n",
              "        text-align: right;\n",
              "    }\n",
              "</style>\n",
              "<table border=\"1\" class=\"dataframe\">\n",
              "  <thead>\n",
              "    <tr style=\"text-align: right;\">\n",
              "      <th></th>\n",
              "      <th>Time [Sec]</th>\n",
              "      <th>Mg24</th>\n",
              "      <th>Mg25</th>\n",
              "      <th>Al27</th>\n",
              "      <th>Ca43</th>\n",
              "      <th>Ca44</th>\n",
              "      <th>Mn55</th>\n",
              "      <th>Sr88</th>\n",
              "      <th>Ba137</th>\n",
              "      <th>Ba138</th>\n",
              "    </tr>\n",
              "  </thead>\n",
              "  <tbody>\n",
              "    <tr>\n",
              "      <th>0</th>\n",
              "      <td>0.367</td>\n",
              "      <td>200.00</td>\n",
              "      <td>300.00</td>\n",
              "      <td>2200.14</td>\n",
              "      <td>366.67</td>\n",
              "      <td>17809.04</td>\n",
              "      <td>8652.16</td>\n",
              "      <td>0.00</td>\n",
              "      <td>0.0</td>\n",
              "      <td>12.5</td>\n",
              "    </tr>\n",
              "    <tr>\n",
              "      <th>1</th>\n",
              "      <td>0.725</td>\n",
              "      <td>466.67</td>\n",
              "      <td>200.00</td>\n",
              "      <td>2800.22</td>\n",
              "      <td>200.00</td>\n",
              "      <td>14506.00</td>\n",
              "      <td>7551.64</td>\n",
              "      <td>0.00</td>\n",
              "      <td>0.0</td>\n",
              "      <td>12.5</td>\n",
              "    </tr>\n",
              "    <tr>\n",
              "      <th>2</th>\n",
              "      <td>1.082</td>\n",
              "      <td>366.67</td>\n",
              "      <td>175.00</td>\n",
              "      <td>2000.11</td>\n",
              "      <td>466.67</td>\n",
              "      <td>13255.01</td>\n",
              "      <td>7151.47</td>\n",
              "      <td>100.00</td>\n",
              "      <td>25.0</td>\n",
              "      <td>0.0</td>\n",
              "    </tr>\n",
              "    <tr>\n",
              "      <th>3</th>\n",
              "      <td>1.439</td>\n",
              "      <td>466.67</td>\n",
              "      <td>75.00</td>\n",
              "      <td>1600.07</td>\n",
              "      <td>300.00</td>\n",
              "      <td>14405.92</td>\n",
              "      <td>8652.16</td>\n",
              "      <td>33.33</td>\n",
              "      <td>0.0</td>\n",
              "      <td>0.0</td>\n",
              "    </tr>\n",
              "    <tr>\n",
              "      <th>4</th>\n",
              "      <td>1.796</td>\n",
              "      <td>466.67</td>\n",
              "      <td>225.00</td>\n",
              "      <td>3000.25</td>\n",
              "      <td>200.00</td>\n",
              "      <td>14506.00</td>\n",
              "      <td>7551.64</td>\n",
              "      <td>100.00</td>\n",
              "      <td>0.0</td>\n",
              "      <td>0.0</td>\n",
              "    </tr>\n",
              "    <tr>\n",
              "      <th>...</th>\n",
              "      <td>...</td>\n",
              "      <td>...</td>\n",
              "      <td>...</td>\n",
              "      <td>...</td>\n",
              "      <td>...</td>\n",
              "      <td>...</td>\n",
              "      <td>...</td>\n",
              "      <td>...</td>\n",
              "      <td>...</td>\n",
              "      <td>...</td>\n",
              "    </tr>\n",
              "    <tr>\n",
              "      <th>694</th>\n",
              "      <td>497.717</td>\n",
              "      <td>166.67</td>\n",
              "      <td>150.00</td>\n",
              "      <td>2400.16</td>\n",
              "      <td>433.34</td>\n",
              "      <td>14105.67</td>\n",
              "      <td>6801.33</td>\n",
              "      <td>66.67</td>\n",
              "      <td>0.0</td>\n",
              "      <td>0.0</td>\n",
              "    </tr>\n",
              "    <tr>\n",
              "      <th>695</th>\n",
              "      <td>498.074</td>\n",
              "      <td>466.67</td>\n",
              "      <td>275.00</td>\n",
              "      <td>3200.29</td>\n",
              "      <td>300.00</td>\n",
              "      <td>14606.08</td>\n",
              "      <td>8702.18</td>\n",
              "      <td>33.33</td>\n",
              "      <td>0.0</td>\n",
              "      <td>25.0</td>\n",
              "    </tr>\n",
              "    <tr>\n",
              "      <th>696</th>\n",
              "      <td>498.431</td>\n",
              "      <td>200.00</td>\n",
              "      <td>350.00</td>\n",
              "      <td>3100.27</td>\n",
              "      <td>400.00</td>\n",
              "      <td>14455.96</td>\n",
              "      <td>9102.38</td>\n",
              "      <td>133.33</td>\n",
              "      <td>0.0</td>\n",
              "      <td>0.0</td>\n",
              "    </tr>\n",
              "    <tr>\n",
              "      <th>697</th>\n",
              "      <td>498.788</td>\n",
              "      <td>333.34</td>\n",
              "      <td>500.01</td>\n",
              "      <td>2500.18</td>\n",
              "      <td>100.00</td>\n",
              "      <td>13505.20</td>\n",
              "      <td>8452.06</td>\n",
              "      <td>33.33</td>\n",
              "      <td>50.0</td>\n",
              "      <td>25.0</td>\n",
              "    </tr>\n",
              "    <tr>\n",
              "      <th>698</th>\n",
              "      <td>499.142</td>\n",
              "      <td>433.34</td>\n",
              "      <td>50.00</td>\n",
              "      <td>1300.05</td>\n",
              "      <td>566.68</td>\n",
              "      <td>13655.32</td>\n",
              "      <td>7601.66</td>\n",
              "      <td>0.00</td>\n",
              "      <td>12.5</td>\n",
              "      <td>0.0</td>\n",
              "    </tr>\n",
              "  </tbody>\n",
              "</table>\n",
              "<p>1398 rows × 10 columns</p>\n",
              "</div>"
            ],
            "text/plain": [
              "     Time [Sec]    Mg24    Mg25     Al27  ...     Mn55    Sr88  Ba137  Ba138\n",
              "0         0.367  200.00  300.00  2200.14  ...  8652.16    0.00    0.0   12.5\n",
              "1         0.725  466.67  200.00  2800.22  ...  7551.64    0.00    0.0   12.5\n",
              "2         1.082  366.67  175.00  2000.11  ...  7151.47  100.00   25.0    0.0\n",
              "3         1.439  466.67   75.00  1600.07  ...  8652.16   33.33    0.0    0.0\n",
              "4         1.796  466.67  225.00  3000.25  ...  7551.64  100.00    0.0    0.0\n",
              "..          ...     ...     ...      ...  ...      ...     ...    ...    ...\n",
              "694     497.717  166.67  150.00  2400.16  ...  6801.33   66.67    0.0    0.0\n",
              "695     498.074  466.67  275.00  3200.29  ...  8702.18   33.33    0.0   25.0\n",
              "696     498.431  200.00  350.00  3100.27  ...  9102.38  133.33    0.0    0.0\n",
              "697     498.788  333.34  500.01  2500.18  ...  8452.06   33.33   50.0   25.0\n",
              "698     499.142  433.34   50.00  1300.05  ...  7601.66    0.00   12.5    0.0\n",
              "\n",
              "[1398 rows x 10 columns]"
            ]
          },
          "metadata": {
            "tags": []
          },
          "execution_count": 4
        }
      ]
    },
    {
      "cell_type": "code",
      "metadata": {
        "id": "iqoj5D2n_zQd",
        "colab_type": "code",
        "colab": {
          "base_uri": "https://localhost:8080/",
          "height": 307
        },
        "outputId": "18572838-53b7-43e9-f879-5f6234e6a498"
      },
      "source": [
        "data.plot(\"Time [Sec]\", \"Ca43\")"
      ],
      "execution_count": 5,
      "outputs": [
        {
          "output_type": "execute_result",
          "data": {
            "text/plain": [
              "<matplotlib.axes._subplots.AxesSubplot at 0x7fa27894b780>"
            ]
          },
          "metadata": {
            "tags": []
          },
          "execution_count": 5
        },
        {
          "output_type": "display_data",
          "data": {
            "image/png": "[encoded data removed]",
            "text/plain": [
              "<Figure size 432x288 with 1 Axes>"
            ]
          },
          "metadata": {
            "tags": [],
            "needs_background": "light"
          }
        }
      ]
    },
    {
      "cell_type": "markdown",
      "metadata": {
        "id": "iHECC3QyzSl3",
        "colab_type": "text"
      },
      "source": [
        "1. Identify Signal (Sample and Standard), and Background parts of signal\n",
        "Do manually - can be done with GUI or algorithms, but do it manually now to teach basics.\n",
        "\n",
        "A) Create list of start and end values for each background section"
      ]
    },
    {
      "cell_type": "code",
      "metadata": {
        "id": "U5-VOVN9_5_z",
        "colab_type": "code",
        "colab": {
          "base_uri": "https://localhost:8080/",
          "height": 300
        },
        "outputId": "74ddd02e-2d7b-4b6f-afe1-1ac41503438a"
      },
      "source": [
        "data.plot(\"Time [Sec]\", \"Ca43\")\n",
        "plt.xlim(470,500)\n",
        "plt.ylim(0,0.3e6)"
      ],
      "execution_count": 10,
      "outputs": [
        {
          "output_type": "execute_result",
          "data": {
            "text/plain": [
              "(0.0, 300000.0)"
            ]
          },
          "metadata": {
            "tags": []
          },
          "execution_count": 10
        },
        {
          "output_type": "display_data",
          "data": {
            "image/png": "[encoded data removed]",
            "text/plain": [
              "<Figure size 432x288 with 1 Axes>"
            ]
          },
          "metadata": {
            "tags": [],
            "needs_background": "light"
          }
        }
      ]
    },
    {
      "cell_type": "code",
      "metadata": {
        "id": "l4OOljhgk7oK",
        "colab_type": "code",
        "colab": {}
      },
      "source": [
        "background_locations = [{\"start\": 0, \"end\": 25},\n",
        "                        {\"start\": 225, \"end\": 225},\n",
        "                        {\"start\": 491, \"end\": 498}]\n"
      ],
      "execution_count": 11,
      "outputs": []
    },
    {
      "cell_type": "code",
      "metadata": {
        "id": "P08vot09lRK6",
        "colab_type": "code",
        "colab": {
          "base_uri": "https://localhost:8080/",
          "height": 51
        },
        "outputId": "6bebc27e-1ac0-4990-ad5b-03d6212f6faf"
      },
      "source": [
        "data[\"Ca43\"][np.argmax(data[\"Time [Sec]\"] >=0): np.argmax(data[\"Time [Sec]\"] >=25)].mean())\n",
        "data[\"Ca43\"][np.argmax(data[\"Time [Sec]\"] >=491): np.argmax(data[\"Time [Sec]\"] >=498)].mean()"
      ],
      "execution_count": 18,
      "outputs": [
        {
          "output_type": "stream",
          "text": [
            "379.2310144927534\n"
          ],
          "name": "stdout"
        },
        {
          "output_type": "execute_result",
          "data": {
            "text/plain": [
              "371.93421052631584"
            ]
          },
          "metadata": {
            "tags": []
          },
          "execution_count": 18
        }
      ]
    },
    {
      "cell_type": "code",
      "metadata": {
        "id": "J2NdiLeV3Isz",
        "colab_type": "code",
        "colab": {
          "base_uri": "https://localhost:8080/",
          "height": 286
        },
        "outputId": "417974d6-054f-468f-e84c-ca36556570e4"
      },
      "source": [
        "plt.plot(np.array(data[\"Ca43\"])[data[\"Ca43\"]<2000])\n",
        "plt.ylim(0,1000)"
      ],
      "execution_count": 23,
      "outputs": [
        {
          "output_type": "execute_result",
          "data": {
            "text/plain": [
              "(0.0, 1000.0)"
            ]
          },
          "metadata": {
            "tags": []
          },
          "execution_count": 23
        },
        {
          "output_type": "display_data",
          "data": {
            "image/png": "[encoded data removed]",
            "text/plain": [
              "<Figure size 432x288 with 1 Axes>"
            ]
          },
          "metadata": {
            "tags": [],
            "needs_background": "light"
          }
        }
      ]
    },
    {
      "cell_type": "code",
      "metadata": {
        "id": "rRquaa6V7fNI",
        "colab_type": "code",
        "colab": {
          "base_uri": "https://localhost:8080/",
          "height": 221
        },
        "outputId": "01e3fda0-a23c-481c-c2ec-3894c7f89989"
      },
      "source": [
        ""
      ],
      "execution_count": 22,
      "outputs": [
        {
          "output_type": "execute_result",
          "data": {
            "text/plain": [
              "264    200.00\n",
              "265    300.00\n",
              "266    533.34\n",
              "267    133.33\n",
              "268    300.00\n",
              "        ...  \n",
              "640    333.34\n",
              "641    133.33\n",
              "642    300.00\n",
              "643    266.67\n",
              "644    500.01\n",
              "Name: Ca43, Length: 100, dtype: float64"
            ]
          },
          "metadata": {
            "tags": []
          },
          "execution_count": 22
        }
      ]
    },
    {
      "cell_type": "code",
      "metadata": {
        "id": "MNPn4Gtx7teL",
        "colab_type": "code",
        "colab": {}
      },
      "source": [
        ""
      ],
      "execution_count": null,
      "outputs": []
    }
  ]
}