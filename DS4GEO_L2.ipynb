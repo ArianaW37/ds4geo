{
  "nbformat": 4,
  "nbformat_minor": 0,
  "metadata": {
    "colab": {
      "name": "DS4GEO_L2.ipynb",
      "provenance": [],
      "authorship_tag": "ABX9TyPbwbtZtbxrsWg9Dil0CHqg",
      "include_colab_link": true
    },
    "kernelspec": {
      "name": "python3",
      "display_name": "Python 3"
    }
  },
  "cells": [
    {
      "cell_type": "markdown",
      "metadata": {
        "id": "view-in-github",
        "colab_type": "text"
      },
      "source": [
        "<a href=\"https://colab.research.google.com/github/ds4geo/ds4geo/blob/master/DS4GEO_L2.ipynb\" target=\"_parent\"><img src=\"https://colab.research.google.com/assets/colab-badge.svg\" alt=\"Open In Colab\"/></a>"
      ]
    },
    {
      "cell_type": "code",
      "metadata": {
        "id": "1uesGbaB67Bt",
        "colab_type": "code",
        "colab": {}
      },
      "source": [
        "import pandas as pd"
      ],
      "execution_count": 1,
      "outputs": []
    },
    {
      "cell_type": "code",
      "metadata": {
        "id": "ELKupH7g9Cua",
        "colab_type": "code",
        "colab": {}
      },
      "source": [
        "file_name_list = [\"STD-1.csv\", \"STD-2.csv\", \"Sample-1.csv\", \"Sample-2.csv\", \"Sample-3.csv\"]\n",
        "data_list = []\n",
        "for fn in file_name_list:\n",
        "  data_list.append(pd.read_csv(r\"https://raw.githubusercontent.com/oscarbranson/latools/master/tests/test_dir/test_data/\"+fn, header=3))\n",
        "data = pd.concatenate(data_list)"
      ],
      "execution_count": 4,
      "outputs": []
    },
    {
      "cell_type": "code",
      "metadata": {
        "id": "osfxRF7L9Jf8",
        "colab_type": "code",
        "colab": {}
      },
      "source": [
        "data = pd.concat(data_list)"
      ],
      "execution_count": 6,
      "outputs": []
    },
    {
      "cell_type": "code",
      "metadata": {
        "id": "OyG5a7Sg_uqx",
        "colab_type": "code",
        "colab": {
          "base_uri": "https://localhost:8080/",
          "height": 419
        },
        "outputId": "62a430be-b058-4507-f33a-4f4f40915b3a"
      },
      "source": [
        "data"
      ],
      "execution_count": 7,
      "outputs": [
        {
          "output_type": "execute_result",
          "data": {
            "text/html": [
              "<div>\n",
              "<style scoped>\n",
              "    .dataframe tbody tr th:only-of-type {\n",
              "        vertical-align: middle;\n",
              "    }\n",
              "\n",
              "    .dataframe tbody tr th {\n",
              "        vertical-align: top;\n",
              "    }\n",
              "\n",
              "    .dataframe thead th {\n",
              "        text-align: right;\n",
              "    }\n",
              "</style>\n",
              "<table border=\"1\" class=\"dataframe\">\n",
              "  <thead>\n",
              "    <tr style=\"text-align: right;\">\n",
              "      <th></th>\n",
              "      <th>Time [Sec]</th>\n",
              "      <th>Mg24</th>\n",
              "      <th>Mg25</th>\n",
              "      <th>Al27</th>\n",
              "      <th>Ca43</th>\n",
              "      <th>Ca44</th>\n",
              "      <th>Mn55</th>\n",
              "      <th>Sr88</th>\n",
              "      <th>Ba137</th>\n",
              "      <th>Ba138</th>\n",
              "    </tr>\n",
              "  </thead>\n",
              "  <tbody>\n",
              "    <tr>\n",
              "      <th>0</th>\n",
              "      <td>0.367</td>\n",
              "      <td>200.00</td>\n",
              "      <td>300.0</td>\n",
              "      <td>2200.14</td>\n",
              "      <td>366.67</td>\n",
              "      <td>17809.04</td>\n",
              "      <td>8652.16</td>\n",
              "      <td>0.00</td>\n",
              "      <td>0.0</td>\n",
              "      <td>12.5</td>\n",
              "    </tr>\n",
              "    <tr>\n",
              "      <th>1</th>\n",
              "      <td>0.725</td>\n",
              "      <td>466.67</td>\n",
              "      <td>200.0</td>\n",
              "      <td>2800.22</td>\n",
              "      <td>200.00</td>\n",
              "      <td>14506.00</td>\n",
              "      <td>7551.64</td>\n",
              "      <td>0.00</td>\n",
              "      <td>0.0</td>\n",
              "      <td>12.5</td>\n",
              "    </tr>\n",
              "    <tr>\n",
              "      <th>2</th>\n",
              "      <td>1.082</td>\n",
              "      <td>366.67</td>\n",
              "      <td>175.0</td>\n",
              "      <td>2000.11</td>\n",
              "      <td>466.67</td>\n",
              "      <td>13255.01</td>\n",
              "      <td>7151.47</td>\n",
              "      <td>100.00</td>\n",
              "      <td>25.0</td>\n",
              "      <td>0.0</td>\n",
              "    </tr>\n",
              "    <tr>\n",
              "      <th>3</th>\n",
              "      <td>1.439</td>\n",
              "      <td>466.67</td>\n",
              "      <td>75.0</td>\n",
              "      <td>1600.07</td>\n",
              "      <td>300.00</td>\n",
              "      <td>14405.92</td>\n",
              "      <td>8652.16</td>\n",
              "      <td>33.33</td>\n",
              "      <td>0.0</td>\n",
              "      <td>0.0</td>\n",
              "    </tr>\n",
              "    <tr>\n",
              "      <th>4</th>\n",
              "      <td>1.796</td>\n",
              "      <td>466.67</td>\n",
              "      <td>225.0</td>\n",
              "      <td>3000.25</td>\n",
              "      <td>200.00</td>\n",
              "      <td>14506.00</td>\n",
              "      <td>7551.64</td>\n",
              "      <td>100.00</td>\n",
              "      <td>0.0</td>\n",
              "      <td>0.0</td>\n",
              "    </tr>\n",
              "    <tr>\n",
              "      <th>...</th>\n",
              "      <td>...</td>\n",
              "      <td>...</td>\n",
              "      <td>...</td>\n",
              "      <td>...</td>\n",
              "      <td>...</td>\n",
              "      <td>...</td>\n",
              "      <td>...</td>\n",
              "      <td>...</td>\n",
              "      <td>...</td>\n",
              "      <td>...</td>\n",
              "    </tr>\n",
              "    <tr>\n",
              "      <th>694</th>\n",
              "      <td>248.146</td>\n",
              "      <td>333.34</td>\n",
              "      <td>100.0</td>\n",
              "      <td>2500.18</td>\n",
              "      <td>133.33</td>\n",
              "      <td>13405.12</td>\n",
              "      <td>9052.36</td>\n",
              "      <td>33.33</td>\n",
              "      <td>12.5</td>\n",
              "      <td>0.0</td>\n",
              "    </tr>\n",
              "    <tr>\n",
              "      <th>695</th>\n",
              "      <td>248.503</td>\n",
              "      <td>266.67</td>\n",
              "      <td>125.0</td>\n",
              "      <td>2100.12</td>\n",
              "      <td>600.01</td>\n",
              "      <td>14906.34</td>\n",
              "      <td>7951.82</td>\n",
              "      <td>0.00</td>\n",
              "      <td>0.0</td>\n",
              "      <td>0.0</td>\n",
              "    </tr>\n",
              "    <tr>\n",
              "      <th>696</th>\n",
              "      <td>248.860</td>\n",
              "      <td>333.34</td>\n",
              "      <td>200.0</td>\n",
              "      <td>2400.16</td>\n",
              "      <td>266.67</td>\n",
              "      <td>13104.90</td>\n",
              "      <td>7951.82</td>\n",
              "      <td>66.67</td>\n",
              "      <td>0.0</td>\n",
              "      <td>0.0</td>\n",
              "    </tr>\n",
              "    <tr>\n",
              "      <th>697</th>\n",
              "      <td>249.217</td>\n",
              "      <td>266.67</td>\n",
              "      <td>275.0</td>\n",
              "      <td>1400.06</td>\n",
              "      <td>333.34</td>\n",
              "      <td>14656.13</td>\n",
              "      <td>8602.13</td>\n",
              "      <td>100.00</td>\n",
              "      <td>0.0</td>\n",
              "      <td>0.0</td>\n",
              "    </tr>\n",
              "    <tr>\n",
              "      <th>698</th>\n",
              "      <td>249.570</td>\n",
              "      <td>233.33</td>\n",
              "      <td>275.0</td>\n",
              "      <td>1900.10</td>\n",
              "      <td>366.67</td>\n",
              "      <td>14155.71</td>\n",
              "      <td>8502.08</td>\n",
              "      <td>0.00</td>\n",
              "      <td>25.0</td>\n",
              "      <td>25.0</td>\n",
              "    </tr>\n",
              "  </tbody>\n",
              "</table>\n",
              "<p>3495 rows × 10 columns</p>\n",
              "</div>"
            ],
            "text/plain": [
              "     Time [Sec]    Mg24   Mg25     Al27  ...     Mn55    Sr88  Ba137  Ba138\n",
              "0         0.367  200.00  300.0  2200.14  ...  8652.16    0.00    0.0   12.5\n",
              "1         0.725  466.67  200.0  2800.22  ...  7551.64    0.00    0.0   12.5\n",
              "2         1.082  366.67  175.0  2000.11  ...  7151.47  100.00   25.0    0.0\n",
              "3         1.439  466.67   75.0  1600.07  ...  8652.16   33.33    0.0    0.0\n",
              "4         1.796  466.67  225.0  3000.25  ...  7551.64  100.00    0.0    0.0\n",
              "..          ...     ...    ...      ...  ...      ...     ...    ...    ...\n",
              "694     248.146  333.34  100.0  2500.18  ...  9052.36   33.33   12.5    0.0\n",
              "695     248.503  266.67  125.0  2100.12  ...  7951.82    0.00    0.0    0.0\n",
              "696     248.860  333.34  200.0  2400.16  ...  7951.82   66.67    0.0    0.0\n",
              "697     249.217  266.67  275.0  1400.06  ...  8602.13  100.00    0.0    0.0\n",
              "698     249.570  233.33  275.0  1900.10  ...  8502.08    0.00   25.0   25.0\n",
              "\n",
              "[3495 rows x 10 columns]"
            ]
          },
          "metadata": {
            "tags": []
          },
          "execution_count": 7
        }
      ]
    },
    {
      "cell_type": "code",
      "metadata": {
        "id": "iqoj5D2n_zQd",
        "colab_type": "code",
        "colab": {
          "base_uri": "https://localhost:8080/",
          "height": 307
        },
        "outputId": "db0eccad-3ac7-42f8-a34d-6db0c98b0470"
      },
      "source": [
        "data.plot(\"Time [Sec]\", \"Mg24\")"
      ],
      "execution_count": 8,
      "outputs": [
        {
          "output_type": "execute_result",
          "data": {
            "text/plain": [
              "<matplotlib.axes._subplots.AxesSubplot at 0x7feed66139e8>"
            ]
          },
          "metadata": {
            "tags": []
          },
          "execution_count": 8
        },
        {
          "output_type": "display_data",
          "data": {
            "image/png": "[encoded data removed]",
            "text/plain": [
              "<Figure size 432x288 with 1 Axes>"
            ]
          },
          "metadata": {
            "tags": [],
            "needs_background": "light"
          }
        }
      ]
    },
    {
      "cell_type": "code",
      "metadata": {
        "id": "U5-VOVN9_5_z",
        "colab_type": "code",
        "colab": {}
      },
      "source": [
        ""
      ],
      "execution_count": null,
      "outputs": []
    }
  ]
}