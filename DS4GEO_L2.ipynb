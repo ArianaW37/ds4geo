{
  "nbformat": 4,
  "nbformat_minor": 0,
  "metadata": {
    "colab": {
      "name": "DS4GEO_L2.ipynb",
      "provenance": [],
      "private_outputs": true,
      "toc_visible": true,
      "authorship_tag": "ABX9TyMMJ4kmxBbxN41hR0scyuS8",
      "include_colab_link": true
    },
    "kernelspec": {
      "name": "python3",
      "display_name": "Python 3"
    }
  },
  "cells": [
    {
      "cell_type": "markdown",
      "metadata": {
        "id": "view-in-github",
        "colab_type": "text"
      },
      "source": [
        "<a href=\"https://colab.research.google.com/github/ds4geo/ds4geo/blob/master/DS4GEO_L2.ipynb\" target=\"_parent\"><img src=\"https://colab.research.google.com/assets/colab-badge.svg\" alt=\"Open In Colab\"/></a>"
      ]
    },
    {
      "cell_type": "markdown",
      "metadata": {
        "id": "b3yfRRs6n8q0",
        "colab_type": "text"
      },
      "source": [
        "# **Data Science for Geoscientists - Winter Semester 2020**\n",
        "# **Session 2**\n",
        "\n",
        "**Intro/overview of session**\n",
        "\n",
        "\n"
      ]
    },
    {
      "cell_type": "markdown",
      "metadata": {
        "id": "1QMoY59BoZBt",
        "colab_type": "text"
      },
      "source": [
        "# Section 1 - Lists, Dictionaries and Indexing\n"
      ]
    },
    {
      "cell_type": "code",
      "metadata": {
        "id": "4RsAroYgmrqY",
        "colab_type": "code",
        "colab": {}
      },
      "source": [
        ""
      ],
      "execution_count": null,
      "outputs": []
    },
    {
      "cell_type": "markdown",
      "metadata": {
        "id": "hoBZl5Rjoiuq",
        "colab_type": "text"
      },
      "source": [
        "# Section 2 - Numpy 1\n",
        "\n",
        "Overview, creating arrays, and array operations\n",
        "\n"
      ]
    },
    {
      "cell_type": "code",
      "metadata": {
        "id": "QAPAdQKrr9V0",
        "colab_type": "code",
        "colab": {}
      },
      "source": [
        ""
      ],
      "execution_count": null,
      "outputs": []
    },
    {
      "cell_type": "markdown",
      "metadata": {
        "id": "hAgJFIO5r9o2",
        "colab_type": "text"
      },
      "source": [
        "# Section 3 - Numpy 2\n",
        "\n",
        "Aggregations and Indexing"
      ]
    },
    {
      "cell_type": "code",
      "metadata": {
        "id": "-jLSIBPHsXyU",
        "colab_type": "code",
        "colab": {}
      },
      "source": [
        ""
      ],
      "execution_count": null,
      "outputs": []
    },
    {
      "cell_type": "markdown",
      "metadata": {
        "id": "J7n8GC7ssYOZ",
        "colab_type": "text"
      },
      "source": [
        "# Section 4 - LA-ICPMS data reduction excercise\n",
        "\n",
        "Motivation and overview"
      ]
    }
  ]
}