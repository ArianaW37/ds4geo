{
 "cells": [
  {
   "cell_type": "code",
   "execution_count": 1,
   "metadata": {},
   "outputs": [],
   "source": [
    "import pandas as pd\n",
    "import matplotlib.pyplot as plt\n",
    "import numpy as np"
   ]
  },
  {
   "cell_type": "code",
   "execution_count": 2,
   "metadata": {},
   "outputs": [],
   "source": [
    "dat = pd.read_csv(r\"../../data/Antico-etal_2019/datasets/Parana_Rosario_daily.tab\", sep=\"\\t\", header=15)"
   ]
  },
  {
   "cell_type": "code",
   "execution_count": 3,
   "metadata": {},
   "outputs": [
    {
     "data": {
      "text/html": [
       "<div>\n",
       "<style scoped>\n",
       "    .dataframe tbody tr th:only-of-type {\n",
       "        vertical-align: middle;\n",
       "    }\n",
       "\n",
       "    .dataframe tbody tr th {\n",
       "        vertical-align: top;\n",
       "    }\n",
       "\n",
       "    .dataframe thead th {\n",
       "        text-align: right;\n",
       "    }\n",
       "</style>\n",
       "<table border=\"1\" class=\"dataframe\">\n",
       "  <thead>\n",
       "    <tr style=\"text-align: right;\">\n",
       "      <th></th>\n",
       "      <th>Date/Time</th>\n",
       "      <th>WL [m] (daily, official)</th>\n",
       "      <th>WL [m] (daily, corrected)</th>\n",
       "      <th>Q [m**3/s] (daily, official)</th>\n",
       "      <th>Q [m**3/s] (daily, corrected)</th>\n",
       "      <th>Flag [#] (Flag = 1 if the data value pa...)</th>\n",
       "    </tr>\n",
       "  </thead>\n",
       "  <tbody>\n",
       "    <tr>\n",
       "      <th>0</th>\n",
       "      <td>1875-01-01</td>\n",
       "      <td>1.24</td>\n",
       "      <td>1.88</td>\n",
       "      <td>11442</td>\n",
       "      <td>13363</td>\n",
       "      <td>1</td>\n",
       "    </tr>\n",
       "    <tr>\n",
       "      <th>1</th>\n",
       "      <td>1875-01-02</td>\n",
       "      <td>1.26</td>\n",
       "      <td>1.90</td>\n",
       "      <td>11508</td>\n",
       "      <td>13433</td>\n",
       "      <td>1</td>\n",
       "    </tr>\n",
       "    <tr>\n",
       "      <th>2</th>\n",
       "      <td>1875-01-03</td>\n",
       "      <td>1.28</td>\n",
       "      <td>1.92</td>\n",
       "      <td>11575</td>\n",
       "      <td>13503</td>\n",
       "      <td>1</td>\n",
       "    </tr>\n",
       "    <tr>\n",
       "      <th>3</th>\n",
       "      <td>1875-01-04</td>\n",
       "      <td>1.31</td>\n",
       "      <td>1.95</td>\n",
       "      <td>11641</td>\n",
       "      <td>13573</td>\n",
       "      <td>1</td>\n",
       "    </tr>\n",
       "    <tr>\n",
       "      <th>4</th>\n",
       "      <td>1875-01-05</td>\n",
       "      <td>1.33</td>\n",
       "      <td>1.97</td>\n",
       "      <td>11708</td>\n",
       "      <td>13643</td>\n",
       "      <td>1</td>\n",
       "    </tr>\n",
       "    <tr>\n",
       "      <th>...</th>\n",
       "      <td>...</td>\n",
       "      <td>...</td>\n",
       "      <td>...</td>\n",
       "      <td>...</td>\n",
       "      <td>...</td>\n",
       "      <td>...</td>\n",
       "    </tr>\n",
       "    <tr>\n",
       "      <th>52072</th>\n",
       "      <td>2017-07-27</td>\n",
       "      <td>4.32</td>\n",
       "      <td>4.32</td>\n",
       "      <td>21848</td>\n",
       "      <td>21848</td>\n",
       "      <td>1</td>\n",
       "    </tr>\n",
       "    <tr>\n",
       "      <th>52073</th>\n",
       "      <td>2017-07-28</td>\n",
       "      <td>4.27</td>\n",
       "      <td>4.27</td>\n",
       "      <td>21655</td>\n",
       "      <td>21655</td>\n",
       "      <td>1</td>\n",
       "    </tr>\n",
       "    <tr>\n",
       "      <th>52074</th>\n",
       "      <td>2017-07-29</td>\n",
       "      <td>4.26</td>\n",
       "      <td>4.26</td>\n",
       "      <td>21617</td>\n",
       "      <td>21617</td>\n",
       "      <td>1</td>\n",
       "    </tr>\n",
       "    <tr>\n",
       "      <th>52075</th>\n",
       "      <td>2017-07-30</td>\n",
       "      <td>4.20</td>\n",
       "      <td>4.20</td>\n",
       "      <td>21387</td>\n",
       "      <td>21387</td>\n",
       "      <td>1</td>\n",
       "    </tr>\n",
       "    <tr>\n",
       "      <th>52076</th>\n",
       "      <td>2017-07-31</td>\n",
       "      <td>4.10</td>\n",
       "      <td>4.10</td>\n",
       "      <td>21007</td>\n",
       "      <td>21007</td>\n",
       "      <td>1</td>\n",
       "    </tr>\n",
       "  </tbody>\n",
       "</table>\n",
       "<p>52077 rows × 6 columns</p>\n",
       "</div>"
      ],
      "text/plain": [
       "        Date/Time  WL [m] (daily, official)  WL [m] (daily, corrected)  \\\n",
       "0      1875-01-01                      1.24                       1.88   \n",
       "1      1875-01-02                      1.26                       1.90   \n",
       "2      1875-01-03                      1.28                       1.92   \n",
       "3      1875-01-04                      1.31                       1.95   \n",
       "4      1875-01-05                      1.33                       1.97   \n",
       "...           ...                       ...                        ...   \n",
       "52072  2017-07-27                      4.32                       4.32   \n",
       "52073  2017-07-28                      4.27                       4.27   \n",
       "52074  2017-07-29                      4.26                       4.26   \n",
       "52075  2017-07-30                      4.20                       4.20   \n",
       "52076  2017-07-31                      4.10                       4.10   \n",
       "\n",
       "       Q [m**3/s] (daily, official)  Q [m**3/s] (daily, corrected)  \\\n",
       "0                             11442                          13363   \n",
       "1                             11508                          13433   \n",
       "2                             11575                          13503   \n",
       "3                             11641                          13573   \n",
       "4                             11708                          13643   \n",
       "...                             ...                            ...   \n",
       "52072                         21848                          21848   \n",
       "52073                         21655                          21655   \n",
       "52074                         21617                          21617   \n",
       "52075                         21387                          21387   \n",
       "52076                         21007                          21007   \n",
       "\n",
       "       Flag [#] (Flag = 1 if the data value pa...)  \n",
       "0                                                1  \n",
       "1                                                1  \n",
       "2                                                1  \n",
       "3                                                1  \n",
       "4                                                1  \n",
       "...                                            ...  \n",
       "52072                                            1  \n",
       "52073                                            1  \n",
       "52074                                            1  \n",
       "52075                                            1  \n",
       "52076                                            1  \n",
       "\n",
       "[52077 rows x 6 columns]"
      ]
     },
     "execution_count": 3,
     "metadata": {},
     "output_type": "execute_result"
    }
   ],
   "source": [
    "dat"
   ]
  },
  {
   "cell_type": "code",
   "execution_count": 6,
   "metadata": {
    "scrolled": true
   },
   "outputs": [
    {
     "data": {
      "text/plain": [
       "[<matplotlib.lines.Line2D at 0x2d87fe1ddc8>]"
      ]
     },
     "execution_count": 6,
     "metadata": {},
     "output_type": "execute_result"
    },
    {
     "data": {
      "image/png": "[encoded data removed]",
      "text/plain": [
       "<Figure size 432x288 with 1 Axes>"
      ]
     },
     "metadata": {
      "needs_background": "light"
     },
     "output_type": "display_data"
    }
   ],
   "source": [
    "dtp = dat.iloc[0:3000]\n",
    "plt.plot(dtp[\"Date/Time\"], dtp[\"WL [m] (daily, corrected)\"])"
   ]
  },
  {
   "cell_type": "code",
   "execution_count": null,
   "metadata": {},
   "outputs": [],
   "source": [
    "\n"
   ]
  },
  {
   "cell_type": "code",
   "execution_count": null,
   "metadata": {},
   "outputs": [],
   "source": [
    "\n"
   ]
  },
  {
   "cell_type": "code",
   "execution_count": null,
   "metadata": {},
   "outputs": [],
   "source": []
  }
 ],
 "metadata": {
  "kernelspec": {
   "display_name": "Python 3",
   "language": "python",
   "name": "python3"
  },
  "language_info": {
   "codemirror_mode": {
    "name": "ipython",
    "version": 3
   },
   "file_extension": ".py",
   "mimetype": "text/x-python",
   "name": "python",
   "nbconvert_exporter": "python",
   "pygments_lexer": "ipython3",
   "version": "3.7.7"
  }
 },
 "nbformat": 4,
 "nbformat_minor": 4
}
