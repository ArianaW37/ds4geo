{
  "nbformat": 4,
  "nbformat_minor": 0,
  "metadata": {
    "colab": {
      "name": "DS4GEO_L3.ipynb",
      "provenance": [],
      "private_outputs": true,
      "authorship_tag": "ABX9TyMLOCLo0NlfdlUVaC6jWfy4",
      "include_colab_link": true
    },
    "kernelspec": {
      "name": "python3",
      "display_name": "Python 3"
    }
  },
  "cells": [
    {
      "cell_type": "markdown",
      "metadata": {
        "id": "view-in-github",
        "colab_type": "text"
      },
      "source": [
        "<a href=\"https://colab.research.google.com/github/ds4geo/ds4geo/blob/master/DS4GEO_L3.ipynb\" target=\"_parent\"><img src=\"https://colab.research.google.com/assets/colab-badge.svg\" alt=\"Open In Colab\"/></a>"
      ]
    },
    {
      "cell_type": "code",
      "metadata": {
        "id": "E0bm5Y1VJorJ",
        "colab_type": "code",
        "colab": {}
      },
      "source": [
        "import pandas as pd\n",
        "import matplotlib.pyplot as plt\n",
        "import datetime"
      ],
      "execution_count": null,
      "outputs": []
    },
    {
      "cell_type": "code",
      "metadata": {
        "id": "T-qkkrfbJqqM",
        "colab_type": "code",
        "colab": {}
      },
      "source": [
        "air_temp = pd.read_excel(\"https://github.com/ds4geo/ds4geo/raw/master/data/timeseries/Au%C3%9Fenluft%2BEingangslabyrinth.xlsx\", sheet_name=\"Daten3\", usecols=[0,6], names=[\"time\", \"air_temp\"])"
      ],
      "execution_count": null,
      "outputs": []
    },
    {
      "cell_type": "code",
      "metadata": {
        "id": "PSWfplfXJ8gP",
        "colab_type": "code",
        "colab": {}
      },
      "source": [
        "air_temp"
      ],
      "execution_count": null,
      "outputs": []
    },
    {
      "cell_type": "code",
      "metadata": {
        "id": "peXGtCn8JuPT",
        "colab_type": "code",
        "colab": {}
      },
      "source": [
        "cave_temp = pd.read_excel(\"https://github.com/ds4geo/ds4geo/raw/master/data/timeseries/Au%C3%9Fenluft%2BEingangslabyrinth.xlsx\", sheet_name=\"Daten3\", usecols=[8,9], names=[\"time\", \"cave_temp\"])"
      ],
      "execution_count": null,
      "outputs": []
    },
    {
      "cell_type": "code",
      "metadata": {
        "id": "NEfRiHNlRhHR",
        "colab_type": "code",
        "colab": {}
      },
      "source": [
        "cave_temp"
      ],
      "execution_count": null,
      "outputs": []
    },
    {
      "cell_type": "code",
      "metadata": {
        "id": "eVHe3WnAlnpW",
        "colab_type": "code",
        "colab": {}
      },
      "source": [
        "cave_temp.plot(\"time\", \"cave_temp\")\n",
        "air_temp.plot(\"time\", \"air_temp\")"
      ],
      "execution_count": null,
      "outputs": []
    },
    {
      "cell_type": "code",
      "metadata": {
        "id": "Joi9uTx8nxek",
        "colab_type": "code",
        "colab": {}
      },
      "source": [
        "cave_co2 = pd.read_excel(r\"https://github.com/ds4geo/ds4geo/raw/master/data/timeseries/CO2%20_compiled.xlsx\",\n",
        "                         sheet_name=\"Data Stream (2)\", names=[\"time\", \"unknown\", \"d13C\", \"d18O\", \"ppm CO2\", \"ctime\"])"
      ],
      "execution_count": null,
      "outputs": []
    },
    {
      "cell_type": "code",
      "metadata": {
        "id": "gxgQH2VMGKvk",
        "colab_type": "code",
        "colab": {}
      },
      "source": [
        "cave_co2"
      ],
      "execution_count": null,
      "outputs": []
    },
    {
      "cell_type": "code",
      "metadata": {
        "id": "U-QH0rCUGkA5",
        "colab_type": "code",
        "colab": {}
      },
      "source": [
        "fig, ax = plt.subplots(figsize=(18,10))\n",
        "ax2 = ax.twinx()\n",
        "air_temp.plot(\" \", \"Temp korr\", ax=ax)\n",
        "cave_temp.plot(\"Date\", \"Eingangslaby Temp\", ax=ax)\n",
        "cave_co2.plot(\"time\", \"ppm CO2\", ax=ax2, color=\"r\")\n",
        "ax.set_xlim([datetime.date(2015,9,17), datetime.date(2015,11,20)])"
      ],
      "execution_count": null,
      "outputs": []
    },
    {
      "cell_type": "code",
      "metadata": {
        "id": "qV3tvhbHGz4D",
        "colab_type": "code",
        "colab": {}
      },
      "source": [
        "# get data only in range\n",
        "air_temp.index = air_temp.time # make time the index\n",
        "air_select = air_temp[\"2015-9-17\" : \"2015-11-20\"]\n",
        "\n",
        "cave_temp.index = cave_temp.time\n",
        "cave_select = cave_temp[\"2015-9-17\" : \"2015-11-20\"]\n",
        "\n",
        "cave_co2.index = cave_co2.time\n",
        "co2_select = cave_co2[\"2015-9-17\" : \"2015-11-20\"]"
      ],
      "execution_count": null,
      "outputs": []
    },
    {
      "cell_type": "code",
      "metadata": {
        "id": "5Jk_uBaz9ZvB",
        "colab_type": "code",
        "colab": {}
      },
      "source": [
        "# Check lengths\n",
        "print(\"air data shape:\", air_select.shape)\n",
        "print(\"cave data shape:\", cave_select.shape)\n",
        "print(\"co2 data shape:\", co2_select.shape)\n",
        "# All different"
      ],
      "execution_count": null,
      "outputs": []
    },
    {
      "cell_type": "code",
      "metadata": {
        "id": "SPH4U71N9caQ",
        "colab_type": "code",
        "colab": {}
      },
      "source": [
        "# Check sampling rate/timing\n"
      ],
      "execution_count": null,
      "outputs": []
    },
    {
      "cell_type": "code",
      "metadata": {
        "id": "v9pC5now-S-V",
        "colab_type": "code",
        "colab": {}
      },
      "source": [
        "air_temp"
      ],
      "execution_count": null,
      "outputs": []
    },
    {
      "cell_type": "code",
      "metadata": {
        "id": "qgFEl7iD-W0o",
        "colab_type": "code",
        "colab": {}
      },
      "source": [
        ""
      ],
      "execution_count": null,
      "outputs": []
    }
  ]
}