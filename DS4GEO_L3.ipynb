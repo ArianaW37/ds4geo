{
  "nbformat": 4,
  "nbformat_minor": 0,
  "metadata": {
    "colab": {
      "name": "DS4GEO_L3.ipynb",
      "provenance": [],
      "private_outputs": true,
      "authorship_tag": "ABX9TyNb5W5dv22V0nVFZmB/xtBN",
      "include_colab_link": true
    },
    "kernelspec": {
      "name": "python3",
      "display_name": "Python 3"
    }
  },
  "cells": [
    {
      "cell_type": "markdown",
      "metadata": {
        "id": "view-in-github",
        "colab_type": "text"
      },
      "source": [
        "<a href=\"https://colab.research.google.com/github/ds4geo/ds4geo/blob/master/DS4GEO_L3.ipynb\" target=\"_parent\"><img src=\"https://colab.research.google.com/assets/colab-badge.svg\" alt=\"Open In Colab\"/></a>"
      ]
    },
    {
      "cell_type": "code",
      "metadata": {
        "id": "E0bm5Y1VJorJ",
        "colab_type": "code",
        "colab": {}
      },
      "source": [
        "import pandas as pd\n",
        "import matplotlib.pyplot as plt\n",
        "import datetime"
      ],
      "execution_count": null,
      "outputs": []
    },
    {
      "cell_type": "code",
      "metadata": {
        "id": "T-qkkrfbJqqM",
        "colab_type": "code",
        "colab": {}
      },
      "source": [
        "air_temp = pd.read_excel(\"https://github.com/ds4geo/ds4geo/raw/master/data/timeseries/Au%C3%9Fenluft%2BEingangslabyrinth.xlsx\", sheet_name=\"Daten3\", usecols=[0,6])"
      ],
      "execution_count": null,
      "outputs": []
    },
    {
      "cell_type": "code",
      "metadata": {
        "id": "PSWfplfXJ8gP",
        "colab_type": "code",
        "colab": {}
      },
      "source": [
        "air_temp"
      ],
      "execution_count": null,
      "outputs": []
    },
    {
      "cell_type": "code",
      "metadata": {
        "id": "peXGtCn8JuPT",
        "colab_type": "code",
        "colab": {}
      },
      "source": [
        "cave_temp = pd.read_excel(\"https://github.com/ds4geo/ds4geo/raw/master/data/timeseries/Au%C3%9Fenluft%2BEingangslabyrinth.xlsx\", sheet_name=\"Daten3\", usecols=[8,9])"
      ],
      "execution_count": null,
      "outputs": []
    },
    {
      "cell_type": "code",
      "metadata": {
        "id": "NEfRiHNlRhHR",
        "colab_type": "code",
        "colab": {}
      },
      "source": [
        "cave_temp"
      ],
      "execution_count": null,
      "outputs": []
    },
    {
      "cell_type": "code",
      "metadata": {
        "id": "eVHe3WnAlnpW",
        "colab_type": "code",
        "colab": {}
      },
      "source": [
        "cave_temp.plot(\"Date\", \"Eingangslaby Temp\")\n",
        "air_temp.plot(\" \", \"Temp korr\")"
      ],
      "execution_count": null,
      "outputs": []
    },
    {
      "cell_type": "code",
      "metadata": {
        "id": "Joi9uTx8nxek",
        "colab_type": "code",
        "colab": {}
      },
      "source": [
        "cave_co2 = pd.read_excel(r\"https://github.com/ds4geo/ds4geo/raw/master/data/timeseries/CO2%20_compiled.xlsx\",\n",
        "                         sheet_name=\"Data Stream (2)\", names=[\"time\", \"unknown\", \"d13C\", \"d18O\", \"ppm CO2\", \"ctime\"])"
      ],
      "execution_count": null,
      "outputs": []
    },
    {
      "cell_type": "code",
      "metadata": {
        "id": "gxgQH2VMGKvk",
        "colab_type": "code",
        "colab": {}
      },
      "source": [
        "cave_co2"
      ],
      "execution_count": null,
      "outputs": []
    },
    {
      "cell_type": "code",
      "metadata": {
        "id": "U-QH0rCUGkA5",
        "colab_type": "code",
        "colab": {}
      },
      "source": [
        "fig, ax = plt.subplots(figsize=(18,10))\n",
        "ax2 = ax.twinx()\n",
        "air_temp.plot(\" \", \"Temp korr\", ax=ax)\n",
        "cave_temp.plot(\"Date\", \"Eingangslaby Temp\", ax=ax)\n",
        "cave_co2.plot(\"time\", \"ppm CO2\", ax=ax2, color=\"r\")\n",
        "ax.set_xlim([datetime.date(2015,9,1), datetime.date(2016,1,1)])"
      ],
      "execution_count": null,
      "outputs": []
    },
    {
      "cell_type": "code",
      "metadata": {
        "id": "qV3tvhbHGz4D",
        "colab_type": "code",
        "colab": {}
      },
      "source": [
        ""
      ],
      "execution_count": null,
      "outputs": []
    }
  ]
}