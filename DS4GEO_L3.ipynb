{
  "nbformat": 4,
  "nbformat_minor": 0,
  "metadata": {
    "colab": {
      "name": "DS4GEO_L3.ipynb",
      "provenance": [],
      "private_outputs": true,
      "authorship_tag": "ABX9TyOD3dCRKkDGkiwzcUay07sM",
      "include_colab_link": true
    },
    "kernelspec": {
      "name": "python3",
      "display_name": "Python 3"
    }
  },
  "cells": [
    {
      "cell_type": "markdown",
      "metadata": {
        "id": "view-in-github",
        "colab_type": "text"
      },
      "source": [
        "<a href=\"https://colab.research.google.com/github/ds4geo/ds4geo/blob/master/DS4GEO_L3.ipynb\" target=\"_parent\"><img src=\"https://colab.research.google.com/assets/colab-badge.svg\" alt=\"Open In Colab\"/></a>"
      ]
    },
    {
      "cell_type": "code",
      "metadata": {
        "id": "E0bm5Y1VJorJ",
        "colab_type": "code",
        "colab": {}
      },
      "source": [
        "import pandas as pd\n",
        "import matplotlib.pyplot as plt\n",
        "import datetime\n",
        "import numpy as np\n",
        "from scipy import interpolate"
      ],
      "execution_count": null,
      "outputs": []
    },
    {
      "cell_type": "code",
      "metadata": {
        "id": "T-qkkrfbJqqM",
        "colab_type": "code",
        "colab": {}
      },
      "source": [
        "air_temp = pd.read_excel(\"https://github.com/ds4geo/ds4geo/raw/master/data/timeseries/Au%C3%9Fenluft%2BEingangslabyrinth.xlsx\", sheet_name=\"Daten3\", usecols=[0,6], names=[\"time\", \"air_temp\"])"
      ],
      "execution_count": null,
      "outputs": []
    },
    {
      "cell_type": "code",
      "metadata": {
        "id": "PSWfplfXJ8gP",
        "colab_type": "code",
        "colab": {}
      },
      "source": [
        "air_temp"
      ],
      "execution_count": null,
      "outputs": []
    },
    {
      "cell_type": "code",
      "metadata": {
        "id": "peXGtCn8JuPT",
        "colab_type": "code",
        "colab": {}
      },
      "source": [
        "cave_temp = pd.read_excel(\"https://github.com/ds4geo/ds4geo/raw/master/data/timeseries/Au%C3%9Fenluft%2BEingangslabyrinth.xlsx\", sheet_name=\"Daten3\", usecols=[8,9], names=[\"time\", \"cave_temp\"])"
      ],
      "execution_count": null,
      "outputs": []
    },
    {
      "cell_type": "code",
      "metadata": {
        "id": "NEfRiHNlRhHR",
        "colab_type": "code",
        "colab": {}
      },
      "source": [
        "cave_temp"
      ],
      "execution_count": null,
      "outputs": []
    },
    {
      "cell_type": "code",
      "metadata": {
        "id": "eVHe3WnAlnpW",
        "colab_type": "code",
        "colab": {}
      },
      "source": [
        "cave_temp.plot(\"time\", \"cave_temp\")\n",
        "air_temp.plot(\"time\", \"air_temp\")"
      ],
      "execution_count": null,
      "outputs": []
    },
    {
      "cell_type": "code",
      "metadata": {
        "id": "Joi9uTx8nxek",
        "colab_type": "code",
        "colab": {}
      },
      "source": [
        "cave_co2 = pd.read_excel(r\"https://github.com/ds4geo/ds4geo/raw/master/data/timeseries/CO2%20_compiled.xlsx\",\n",
        "                         sheet_name=\"Data Stream (2)\", names=[\"time\", \"unknown\", \"d13C\", \"d18O\", \"ppm CO2\", \"ctime\"])"
      ],
      "execution_count": null,
      "outputs": []
    },
    {
      "cell_type": "code",
      "metadata": {
        "id": "gxgQH2VMGKvk",
        "colab_type": "code",
        "colab": {}
      },
      "source": [
        "cave_co2"
      ],
      "execution_count": null,
      "outputs": []
    },
    {
      "cell_type": "code",
      "metadata": {
        "id": "U-QH0rCUGkA5",
        "colab_type": "code",
        "colab": {}
      },
      "source": [
        "fig, ax = plt.subplots(figsize=(18,10))\n",
        "ax2 = ax.twinx()\n",
        "air_temp.plot(\"time\", \"air_temp\", ax=ax)\n",
        "cave_temp.plot(\"time\", \"cave_temp\", ax=ax)\n",
        "cave_co2.plot(\"time\", \"ppm CO2\", ax=ax2, color=\"r\")\n",
        "ax.set_xlim([datetime.date(2015,9,17), datetime.date(2015,11,20)])"
      ],
      "execution_count": null,
      "outputs": []
    },
    {
      "cell_type": "code",
      "metadata": {
        "id": "qV3tvhbHGz4D",
        "colab_type": "code",
        "colab": {}
      },
      "source": [
        "# get data only in range\n",
        "air_temp.index = air_temp.time # make time the index\n",
        "air_select = air_temp[\"2015-9-17\" : \"2015-11-20\"]\n",
        "\n",
        "cave_temp.index = cave_temp.time\n",
        "cave_select = cave_temp[\"2015-9-17\" : \"2015-11-20\"]\n",
        "\n",
        "cave_co2.index = cave_co2.time\n",
        "co2_select = cave_co2[\"2015-9-17\" : \"2015-11-20\"]"
      ],
      "execution_count": null,
      "outputs": []
    },
    {
      "cell_type": "code",
      "metadata": {
        "id": "5Jk_uBaz9ZvB",
        "colab_type": "code",
        "colab": {}
      },
      "source": [
        "# Check lengths\n",
        "print(\"air data shape:\", air_select.shape)\n",
        "print(\"cave data shape:\", cave_select.shape)\n",
        "print(\"co2 data shape:\", co2_select.shape)\n",
        "# All different"
      ],
      "execution_count": null,
      "outputs": []
    },
    {
      "cell_type": "code",
      "metadata": {
        "id": "SPH4U71N9caQ",
        "colab_type": "code",
        "colab": {}
      },
      "source": [
        "# Check sampling rate/timing\n",
        "print(\"air sampling rate:\",(air_select.index[1:] - air_select.index[:-1]).value_counts())\n",
        "print(\"cave sampling rate:\",(cave_select.index[1:] - cave_select.index[:-1]).value_counts())\n",
        "print(\"co2 sampling rate:\",(co2_select.index[1:] - co2_select.index[:-1]).value_counts())\n",
        "# air is 1 hour, cave temp is 15 mins, co2 is all over the place. Mostly around 5 minutes, but sometimes 10, or much longer.\n",
        "# If we resample to the cave temp 15 mins, then we are upsampling air temp, and downsampling the co2 data"
      ],
      "execution_count": null,
      "outputs": []
    },
    {
      "cell_type": "code",
      "metadata": {
        "id": "v9pC5now-S-V",
        "colab_type": "code",
        "colab": {}
      },
      "source": [
        "# Testing upsampling of air temps\n",
        "kinds = [\"linear\", \"nearest\", \"zero\", \"slinear\", \"quadratic\", \"cubic\"]#, \"previous\", \"next\"]\n",
        "intp_air = []\n",
        "for k in kinds:\n",
        "  interpf = interpolate.interp1d(air_select.time.to_numpy().astype(float), air_select.air_temp, kind=k, fill_value=\"extrapolate\")\n",
        "  air_interp = interpf(cave_select.time.to_numpy().astype(float))\n",
        "  intp_air.append(air_interp)"
      ],
      "execution_count": null,
      "outputs": []
    },
    {
      "cell_type": "code",
      "metadata": {
        "id": "qgFEl7iD-W0o",
        "colab_type": "code",
        "colab": {}
      },
      "source": [
        "fig, ax = plt.subplots(figsize=(15,10))\n",
        "for i,l in zip(intp_air, kinds):\n",
        "  ax.plot(cave_select.index, i, \"x-\", label=l)\n",
        "ax.plot(air_select.index, air_select.air_temp, \"o\")\n",
        "ax.set_xlim(datetime.date(2015,10,15), datetime.date(2015,10,16))\n",
        "ax.set_ylim(-4, 3)\n",
        "ax.legend()"
      ],
      "execution_count": null,
      "outputs": []
    },
    {
      "cell_type": "code",
      "metadata": {
        "id": "8VWpRFJWmap8",
        "colab_type": "code",
        "colab": {}
      },
      "source": [
        "# Downsampling of co2 data\n",
        "kinds = [\"linear\", \"nearest\", \"zero\", \"slinear\", \"quadratic\", \"cubic\"]#, \"previous\", \"next\"]\n",
        "intp_co2 = []\n",
        "for k in kinds:\n",
        "  interpf = interpolate.interp1d(co2_select.time.to_numpy().astype(float), co2_select[\"ppm CO2\"], kind=k, fill_value=\"extrapolate\")\n",
        "  air_interp = interpf(cave_select.time.to_numpy().astype(float))\n",
        "  intp_co2.append(air_interp)"
      ],
      "execution_count": null,
      "outputs": []
    },
    {
      "cell_type": "code",
      "metadata": {
        "id": "6Va6FZw2aC48",
        "colab_type": "code",
        "colab": {}
      },
      "source": [
        "fig, ax = plt.subplots(figsize=(15,10))\n",
        "ax.plot(co2_select.index, co2_select[\"ppm CO2\"], \"o\")\n",
        "for i,l in zip(intp_co2, kinds):\n",
        "  ax.plot(cave_select.index, i, \"x-\", label=l)\n",
        "#ax.set_xlim(datetime.date(2015,10,17), datetime.date(2015,10,18))\n",
        "ax.set_xlim(datetime.datetime(2015,10,17, 9), datetime.datetime(2015,10,17,15))\n",
        "ax.set_ylim(425, 465)\n",
        "ax.legend()\n",
        "# alternative downsampling to be addressed while filtering in next section - e.g. mean of window, decimate, etc."
      ],
      "execution_count": null,
      "outputs": []
    },
    {
      "cell_type": "code",
      "metadata": {
        "id": "hWY1J1Y9amR3",
        "colab_type": "code",
        "colab": {}
      },
      "source": [
        "# Now interpolated, can do direct comparisons:\n",
        "fig, ax = plt.subplots(figsize=(15,10))\n",
        "ax.scatter(intp_co2[0], intp_air[0]-cave_select.cave_temp, marker=\"x\")\n",
        "ax.set_xlim([375, 450])"
      ],
      "execution_count": null,
      "outputs": []
    },
    {
      "cell_type": "code",
      "metadata": {
        "id": "wRzFLdQOk8ld",
        "colab_type": "code",
        "colab": {}
      },
      "source": [
        "cave_select.cave_temp.shape"
      ],
      "execution_count": null,
      "outputs": []
    },
    {
      "cell_type": "code",
      "metadata": {
        "id": "Y_13xa-zcrHi",
        "colab_type": "code",
        "colab": {}
      },
      "source": [
        "# Smoothing - need relevant data set to smooth!\n",
        "#scipy-cookbook.readthedocs.io/items/SignalSmooth.html"
      ],
      "execution_count": null,
      "outputs": []
    },
    {
      "cell_type": "code",
      "metadata": {
        "id": "Rx_AoGYPFb7o",
        "colab_type": "code",
        "colab": {}
      },
      "source": [
        "xdat = pd.read_csv(\"https://doi.pangaea.de/10.1594/PANGAEA.859980?format=textfile\", header=48, sep=\"\\t\")\n"
      ],
      "execution_count": null,
      "outputs": []
    },
    {
      "cell_type": "code",
      "metadata": {
        "id": "_jvC3DAPFi1S",
        "colab_type": "code",
        "colab": {}
      },
      "source": [
        "xdat"
      ],
      "execution_count": null,
      "outputs": []
    },
    {
      "cell_type": "code",
      "metadata": {
        "id": "jCDrax8cFkqP",
        "colab_type": "code",
        "colab": {}
      },
      "source": [
        ""
      ],
      "execution_count": null,
      "outputs": []
    },
    {
      "cell_type": "code",
      "metadata": {
        "id": "Sa70kdkOQR98",
        "colab_type": "code",
        "colab": {}
      },
      "source": [
        "fig, ax1 = plt.subplots(figsize=(12,8))\n",
        "ax2 = ax1.twinx()\n",
        "ax3 = ax1.twinx()\n",
        "ax4 = ax1.twinx()\n",
        "xdat.plot(\"Depth [m]\", \"Al [cps]\", ax=ax1, color=\"C0\")\n",
        "xdat.plot(\"Depth [m]\", \"K [cps]\", ax=ax2, color=\"C1\")\n",
        "xdat.plot(\"Depth [m]\", \"Ti [cps]\", ax=ax3, color=\"C2\")\n",
        "xdat.plot(\"Depth [m]\", \"V [cps]\", ax=ax4, color=\"C3\")\n",
        "ax1.set_xlim(0.4,0.5)"
      ],
      "execution_count": null,
      "outputs": []
    },
    {
      "cell_type": "code",
      "metadata": {
        "id": "A4Jj8lWtRguU",
        "colab_type": "code",
        "colab": {}
      },
      "source": [
        "xdat.columns"
      ],
      "execution_count": null,
      "outputs": []
    },
    {
      "cell_type": "code",
      "metadata": {
        "id": "fCepK8VnR0px",
        "colab_type": "code",
        "colab": {}
      },
      "source": [
        "filter_length = 5\n",
        "filter = np.ones(filter_length ) / filter_length"
      ],
      "execution_count": null,
      "outputs": []
    },
    {
      "cell_type": "code",
      "metadata": {
        "id": "JLPO5EMq1ECt",
        "colab_type": "code",
        "colab": {}
      },
      "source": [
        "filter"
      ],
      "execution_count": null,
      "outputs": []
    },
    {
      "cell_type": "code",
      "metadata": {
        "id": "3OphNx0R1diw",
        "colab_type": "code",
        "colab": {}
      },
      "source": [
        "Vf = np.convolve(xdat[\"V [cps]\"],filter)"
      ],
      "execution_count": null,
      "outputs": []
    },
    {
      "cell_type": "code",
      "metadata": {
        "id": "85BKIalM1np9",
        "colab_type": "code",
        "colab": {}
      },
      "source": [
        "Vf"
      ],
      "execution_count": null,
      "outputs": []
    },
    {
      "cell_type": "code",
      "metadata": {
        "id": "RZYcSEGE1pH_",
        "colab_type": "code",
        "colab": {}
      },
      "source": [
        "%matplotlib notebook\n",
        "fig, ax = plt.subplots(figsize=(12,8))\n",
        "ax.plot(xdat[\"Depth [m]\"], Vf[2:-2])\n",
        "ax.plot(xdat[\"Depth [m]\"], xdat[\"V [cps]\"])\n",
        "ax.set_xlim(0.4,0.5)\n",
        "plt.show()"
      ],
      "execution_count": null,
      "outputs": []
    },
    {
      "cell_type": "code",
      "metadata": {
        "id": "j9lzKq2O6iil",
        "colab_type": "code",
        "colab": {}
      },
      "source": [
        "'''\n",
        "Rule of thumb:\n",
        "Matplotlib for static graphics, quick plotting and publication quality graphics\n",
        "Plotly for interactive or static/publication quality\n",
        "Bokeh for interactive/web plots\n",
        "Seaborn for quick but powerful stats plots\n",
        "Altair - different approach to making plots based on how we reason about data\n",
        "\n",
        "'''\n",
        "# Lets try bokeh\n",
        "from bokeh.plotting import figure, show\n",
        "from bokeh.io import output_notebook\n",
        "\n",
        "# Call once to configure Bokeh to display plots inline in the notebook.\n",
        "output_notebook()"
      ],
      "execution_count": null,
      "outputs": []
    },
    {
      "cell_type": "code",
      "metadata": {
        "id": "g0jzHNOcIiQQ",
        "colab_type": "code",
        "colab": {}
      },
      "source": [
        "p = figure()\n",
        "p.line(xdat[\"Depth [m]\"], Vf[2:-2])\n",
        "p.line(xdat[\"Depth [m]\"], xdat[\"V [cps]\"])\n",
        "show(p)"
      ],
      "execution_count": null,
      "outputs": []
    },
    {
      "cell_type": "code",
      "metadata": {
        "id": "u8FZUJC9LSiQ",
        "colab_type": "code",
        "colab": {}
      },
      "source": [
        ""
      ],
      "execution_count": null,
      "outputs": []
    }
  ]
}