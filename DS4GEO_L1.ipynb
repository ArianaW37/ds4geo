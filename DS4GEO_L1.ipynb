{
  "nbformat": 4,
  "nbformat_minor": 0,
  "metadata": {
    "colab": {
      "name": "DS4GEO_L1.ipynb",
      "provenance": [],
      "private_outputs": true,
      "collapsed_sections": [],
      "toc_visible": true,
      "authorship_tag": "ABX9TyMOmL7WVjz/fYb3R0/TUbNf",
      "include_colab_link": true
    },
    "kernelspec": {
      "name": "python3",
      "display_name": "Python 3"
    }
  },
  "cells": [
    {
      "cell_type": "markdown",
      "metadata": {
        "id": "view-in-github",
        "colab_type": "text"
      },
      "source": [
        "<a href=\"https://colab.research.google.com/github/ds4geo/ds4geo/blob/master/DS4GEO_L1.ipynb\" target=\"_parent\"><img src=\"https://colab.research.google.com/assets/colab-badge.svg\" alt=\"Open In Colab\"/></a>"
      ]
    },
    {
      "cell_type": "markdown",
      "metadata": {
        "id": "ePFVMXDqR8m9",
        "colab_type": "text"
      },
      "source": [
        "# **Data Science for Geoscientists - Winter Semester 2020**\n",
        "# **Session 1**\n",
        "\n",
        "Welcome to python running in a Jupyter Notebook in Google Colab!\n",
        "Python, Jupyter, Colab and these notebooks will be explained fully later.\n",
        "Notebooks like this comprise the lecture notes and practical excercises for the course.\n",
        "\n",
        "To make the notebook interactive, and allow the python code to be run, click the \"Open in Colab\" button at the top.\n"
      ]
    },
    {
      "cell_type": "markdown",
      "metadata": {
        "id": "RWOHY3HXSOvG",
        "colab_type": "text"
      },
      "source": [
        "# Part 1.1 - Data Ice-breaker - PPT\n",
        "???\n"
      ]
    },
    {
      "cell_type": "markdown",
      "metadata": {
        "id": "F8YMI0pRSomw",
        "colab_type": "text"
      },
      "source": [
        "# Part 1.2 - Course Introduction - PPT\n",
        "\n",
        "*   Who am I?\n",
        "*   What is data science and why is it important?\n",
        "*   Who are you?\n",
        "*   Structure of Session 1\n",
        "\n",
        "\n",
        "\n"
      ]
    },
    {
      "cell_type": "markdown",
      "metadata": {
        "id": "0AzNOwMiBnIw",
        "colab_type": "text"
      },
      "source": [
        "# Part 1.3 - Super Simple Python Plotting Example - *Walkthrough*\n",
        "\n",
        "No theory until we see at least a simple python script in action!\n",
        "\n",
        "We are going to load, view and plot the famous Lisiecki and Raymo (2005) \"LR04 stack\" benthic d18O stack with just a few lines of python code.\n",
        "\n",
        "Below is a \"code cell\".\n",
        "Follow the instructions in the comments (lines starting with #).\n"
      ]
    },
    {
      "cell_type": "code",
      "metadata": {
        "id": "6j50f2MA6SV1",
        "colab_type": "code",
        "colab": {}
      },
      "source": [
        "# Click here and run the code cell by pressing the play button, or ctrl+enter\n",
        "# Import some libraries with useful functionality\n",
        "import pandas as pd # For loading and manipulating data\n",
        "import matplotlib.pyplot as plt"
      ],
      "execution_count": null,
      "outputs": []
    },
    {
      "cell_type": "code",
      "metadata": {
        "id": "--0CP6Cv6SV_",
        "colab_type": "code",
        "colab": {}
      },
      "source": [
        "# Load the LR04 stack from a csv file hosted in the course github repository using pandas\n",
        "dat_LR04 = pd.read_csv(r\"https://raw.githubusercontent.com/ds4geo/ds4geo/master/data/timeseries/LR04stack_short.csv\")"
      ],
      "execution_count": null,
      "outputs": []
    },
    {
      "cell_type": "code",
      "metadata": {
        "id": "Iu2mr3z26SWF",
        "colab_type": "code",
        "colab": {}
      },
      "source": [
        "# Display an overview of the loaded data\n",
        "dat_LR04"
      ],
      "execution_count": null,
      "outputs": []
    },
    {
      "cell_type": "code",
      "metadata": {
        "scrolled": true,
        "id": "RnSosePP6SWL",
        "colab_type": "code",
        "colab": {}
      },
      "source": [
        "# Plot the data using matplotlib\n",
        "plt.plot(dat_LR04[\"Time\"], dat_LR04[\"d18O\"])"
      ],
      "execution_count": null,
      "outputs": []
    },
    {
      "cell_type": "markdown",
      "metadata": {
        "id": "obcxZJq_WP-_",
        "colab_type": "text"
      },
      "source": [
        "# Part 1.4 - A Short Introduction to Python - PPT\n",
        "\n",
        "*Short notes here*"
      ]
    },
    {
      "cell_type": "markdown",
      "metadata": {
        "id": "_Qo4aR40WiVE",
        "colab_type": "text"
      },
      "source": [
        "# Part 1.5 - A Short Introduction to Jupyter Notebooks and Google Colab\n",
        "\n",
        "**Jupyter**\n",
        "\n",
        "In this course, the notes are and most of the assignments will be Jupyter Notebooks. Jupyter allows one to combine text, images, code and code outputs in a single document, making it perfect for data story telling.\n",
        "\n",
        "For more detail, see:\n",
        "* https://jupyter-notebook.readthedocs.io/en/stable/examples/Notebook/What%20is%20the%20Jupyter%20Notebook.html\n",
        "* https://www.earthdatascience.org/courses/intro-to-earth-data-science/open-reproducible-science/jupyter-python/\n",
        "\n",
        "**Google Colab(oratory)**\n",
        "\n",
        "Google Colab is an web-based Jupyter Notebook based system where the python code is executed on Google cloud servers. We use it in this course to avoid having to set up python on personal computers (but you are encouraged to do this in your own time).\n",
        "\n",
        "For more detail, see:\n",
        "* https://research.google.com/colaboratory/faq.html\n",
        "* https://colab.research.google.com/notebooks/basic_features_overview.ipynb (use this as reference later for explanation of many useful features like code completion)\n"
      ]
    },
    {
      "cell_type": "markdown",
      "metadata": {
        "id": "Tw2cCB5IsNZG",
        "colab_type": "text"
      },
      "source": [
        "# Part 1.6 - Plotting LR04\n",
        "\n",
        "The above example uses simplified data and the most basic plotting.\n",
        "Now we will load data from the actual data file published by Lisiecki and Raymo (2005), and we will improve the plotting. To do this we will need to use additional arguments and functions.\n"
      ]
    },
    {
      "cell_type": "code",
      "metadata": {
        "id": "uDvtWKELvR10",
        "colab_type": "code",
        "colab": {}
      },
      "source": [
        "'''\n",
        "Multi-line comments can be created using triple inverted commas.\n",
        "\n",
        "Load the original LR04 stack from a tab delimited txt file\n",
        "Check the data file here: https://github.com/ds4geo/ds4geo/blob/master/data/timeseries/LR04stack.txt\n",
        "\n",
        "You'll notice the column headings are on line/row 5 and the data starts on row 6.\n",
        "Therefore we need to tell pd.read_csv which row the headings are on.\n",
        "We can do this by adding a keyword argument called \"header\".\n",
        "pd.read_csv ignores blank lines by default, and python starts counts at 0, so we pass header=3\n",
        "\n",
        "The delimiter of this file is tab, not comma, so we also need to use the sep argument with the value \"\\t\" for tab.\n",
        "\n",
        "'''\n",
        "# Read the original LR04 stack\n",
        "dat_LR04 = pd.read_csv(r\"https://raw.githubusercontent.com/ds4geo/ds4geo/master/data/timeseries/LR04stack.txt\", sep=\"\\t\", header=3)\n"
      ],
      "execution_count": null,
      "outputs": []
    },
    {
      "cell_type": "code",
      "metadata": {
        "id": "mW9vg3Ol3qFj",
        "colab_type": "code",
        "colab": {}
      },
      "source": [
        "# Display an overview of the loaded data. The data is stored as a pandas DataFrame\n",
        "dat_LR04"
      ],
      "execution_count": null,
      "outputs": []
    },
    {
      "cell_type": "code",
      "metadata": {
        "id": "XEDASHu_5WE1",
        "colab_type": "code",
        "colab": {}
      },
      "source": [
        "# The long column names are annoying to type out while coding, so we can rename them if we want:\n",
        "# The DataFrame object dat has an attribute called columns.\n",
        "# We can use the core python print function to display objects in the cell output (or terminal)\n",
        "print(dat_LR04.columns)\n",
        "\n",
        "# We can overwrite the column names by assigning a list of new ones to the columns attribute.\n",
        "dat_LR04.columns = [\"Time\", \"d18O\", \"error\"]\n",
        "\n",
        "# Print the column names again to see the change\n",
        "print(dat_LR04.columns)"
      ],
      "execution_count": null,
      "outputs": []
    },
    {
      "cell_type": "code",
      "metadata": {
        "id": "raNr9Jyw6SWP",
        "colab_type": "code",
        "colab": {}
      },
      "source": [
        "# Plot the data with matplotlib\n",
        "plt.plot(dat_LR04[\"Time\"], dat_LR04[\"d18O\"])"
      ],
      "execution_count": null,
      "outputs": []
    },
    {
      "cell_type": "code",
      "metadata": {
        "id": "nQBW_Gdf6ZAk",
        "colab_type": "code",
        "colab": {}
      },
      "source": [
        "# That shows the whole record which isn't easy to read\n",
        "# Now we add some basic plotting controls: axes limits\n",
        "\n",
        "# Plot the data\n",
        "plt.plot(dat_LR04[\"Time\"], dat_LR04[\"d18O\"])\n",
        "\n",
        "# Limit the X axis to the last 140 ka\n",
        "plt.xlim(0, 140)\n",
        "# Limit the Y axis to a sensible range\n",
        "plt.ylim(3, 5.5)"
      ],
      "execution_count": null,
      "outputs": []
    },
    {
      "cell_type": "code",
      "metadata": {
        "id": "IG4azvJd6SWT",
        "colab_type": "code",
        "colab": {}
      },
      "source": [
        "# This record is often shown filpped vertically so warm inter-glacial periods are \"up\"\n",
        "# Sometimes it is also shown flipped horizontally so time goes left to right\n",
        "\n",
        "# Plot the data\n",
        "plt.plot(dat_LR04[\"Time\"], dat_LR04[\"d18O\"])\n",
        "\n",
        "# Flip the X axis by reversing\n",
        "plt.xlim(140, 0)\n",
        "# Flip the Y axis in the same way\n",
        "plt.ylim(5.5, 3)"
      ],
      "execution_count": null,
      "outputs": []
    },
    {
      "cell_type": "markdown",
      "metadata": {
        "id": "rw7Nc9Jg9xnO",
        "colab_type": "text"
      },
      "source": [
        "# Part 1.7 - Guided Plotting of NGRIP oxygen isotope record\n",
        "\n",
        "Try plotting the NGRIP oxygen isotope record. Each step is prepared, but you will need to fill in the correct arguments where you see the $ symbol. You should also add short comments for each line/section.\n",
        "\n",
        "The dataset can be found here:\n",
        "\n",
        "For viewing: https://github.com/ds4geo/ds4geo/blob/master/data/timeseries/NGRIP_chronology_20.tab\n",
        "\n",
        "Raw version for loading: https://raw.githubusercontent.com/ds4geo/ds4geo/master/data/timeseries/NGRIP_chronology_20.tab"
      ]
    },
    {
      "cell_type": "code",
      "metadata": {
        "id": "tNsFN91X6SWX",
        "colab_type": "code",
        "colab": {}
      },
      "source": [
        "# $\n",
        "# dat_NGRIP = pd.read_csv(\"https://raw.githubusercontent.com/ds4geo/ds4geo/master/data/timeseries/NGRIP_chronology_20.tab\", sep=\"\\t\", header=20)\n",
        "dat_NGRIP = pd.read_csv($, sep=$, header=$)"
      ],
      "execution_count": null,
      "outputs": []
    },
    {
      "cell_type": "code",
      "metadata": {
        "id": "NQwUrDCUqGy8",
        "colab_type": "code",
        "colab": {}
      },
      "source": [
        "# $\n",
        "dat_NGRIP"
      ],
      "execution_count": null,
      "outputs": []
    },
    {
      "cell_type": "code",
      "metadata": {
        "id": "3tku93c3-F7O",
        "colab_type": "code",
        "colab": {}
      },
      "source": [
        "# $\n",
        "# dat_NGRIP.columns = [\"age\", \"depth\", \"error\", \"d18O\"]\n",
        "dat_NGRIP.columns = [$]"
      ],
      "execution_count": null,
      "outputs": []
    },
    {
      "cell_type": "code",
      "metadata": {
        "id": "MGmWbwCEgKP5",
        "colab_type": "code",
        "colab": {}
      },
      "source": [
        "# $\n",
        "# plt.plot(dat_NGRIP[\"age\"], dat_NGRIP[\"d18O\"])\n",
        "# plt.xlim(40, 30)\n",
        "plt.plot($)\n",
        "plt.xlim($)"
      ],
      "execution_count": null,
      "outputs": []
    },
    {
      "cell_type": "markdown",
      "metadata": {
        "id": "KJkJml5yIoBE",
        "colab_type": "text"
      },
      "source": [
        "# Part 1.8 - Plotting Alpine flood record from scratch\n",
        "\n",
        "Using the previous examples, plot the Wirth et al. 2013 Alpine flood record.\n",
        "\n",
        "For viewing: https://github.com/ds4geo/ds4geo/blob/master/data/timeseries/Alps_flood_de.txt\n",
        "\n",
        "Raw version for loading: https://raw.githubusercontent.com/ds4geo/ds4geo/master/data/timeseries/Alps_flood_de.txt\n",
        "\n",
        "Beware, I've added a quirk in the data which will require you to use an additional argument when loading the data. Create an empty code cell and type `pd.read_csv?` and run the cell to see the `pd.read_csv` documentation.\n",
        "\n",
        "Also, try to add some important features to your plot such as a legend and axes labels. To find useful functions, type `plt.` and wait a second. A scrollable list of available functions/methods will appear.\n",
        "See also here: https://colab.research.google.com/notebooks/basic_features_overview.ipynb#scrollTo=d4L9TOP9QSHn\n",
        "\n",
        "Remember to add comments to your code!\n"
      ]
    },
    {
      "cell_type": "code",
      "metadata": {
        "id": "_bVKoVLaTc_g",
        "colab_type": "code",
        "colab": {}
      },
      "source": [
        ""
      ],
      "execution_count": null,
      "outputs": []
    },
    {
      "cell_type": "code",
      "metadata": {
        "id": "GHL-HPoynut9",
        "colab_type": "code",
        "colab": {}
      },
      "source": [
        "# dat_flood = pd.read_csv(\"\", sep=\";\", header=9, decimal=\",\")\n",
        "# dat_flood.columns = [\"age\", \"north\", \"south\"]\n",
        "# plt.plot(dat_flood[\"age\"], dat_flood[\"north\"], label=\"north\")\n",
        "# plt.plot(dat_flood[\"age\"], dat_flood[\"south\"], label=\"south\")\n",
        "# plt.legend()\n",
        "# plt.xlabel(\"age (ka)\")\n",
        "# plt.ylabel(\"\")\n",
        "# plt.xlim(10,0)"
      ],
      "execution_count": null,
      "outputs": []
    },
    {
      "cell_type": "markdown",
      "metadata": {
        "id": "qtEpINpY0-kL",
        "colab_type": "text"
      },
      "source": [
        "# Part 1.9 - Python Objects\n",
        "\n",
        "Python has a number of in-built object types. More are provided by imported libraries, and it is possible to create new types.\n",
        "The type of an object determines how/what data is stored and what can be done with the object."
      ]
    },
    {
      "cell_type": "code",
      "metadata": {
        "id": "wayBUiQqKjhi",
        "colab_type": "code",
        "colab": {}
      },
      "source": [
        "# Create object/variable \"a\" and assign integer value 5\n",
        "a = 5\n",
        "# See which type \"a\" is\n",
        "type(a)"
      ],
      "execution_count": null,
      "outputs": []
    },
    {
      "cell_type": "code",
      "metadata": {
        "id": "vZZyzHwtm-n9",
        "colab_type": "code",
        "colab": {}
      },
      "source": [
        "# Add an int to an int\n",
        "a + 2"
      ],
      "execution_count": null,
      "outputs": []
    },
    {
      "cell_type": "code",
      "metadata": {
        "id": "8Sl5KaDtm-kS",
        "colab_type": "code",
        "colab": {}
      },
      "source": [
        "# Create object \"b\" and assign float value 2.5\n",
        "b = 2.5\n",
        "# See which type \"b\" is\n",
        "type(b)"
      ],
      "execution_count": null,
      "outputs": []
    },
    {
      "cell_type": "code",
      "metadata": {
        "id": "0bxcqi5Im-Zk",
        "colab_type": "code",
        "colab": {}
      },
      "source": [
        "# Add an integer and a float\n",
        "a+b"
      ],
      "execution_count": null,
      "outputs": []
    },
    {
      "cell_type": "code",
      "metadata": {
        "id": "ekgu4BVCnHzn",
        "colab_type": "code",
        "colab": {}
      },
      "source": [
        "# Create some strings\n",
        "c = \"Geology \"\n",
        "d = \"Rocks!\"\n",
        "type(c)"
      ],
      "execution_count": null,
      "outputs": []
    },
    {
      "cell_type": "code",
      "metadata": {
        "id": "U23_ROqSnHw8",
        "colab_type": "code",
        "colab": {}
      },
      "source": [
        "# Concatenate strings with the + operator\n",
        "c+d"
      ],
      "execution_count": null,
      "outputs": []
    },
    {
      "cell_type": "code",
      "metadata": {
        "id": "hFzyW0-mnHn3",
        "colab_type": "code",
        "colab": {}
      },
      "source": [
        "# Create a list out of the objects we just made\n",
        "e = [a, b, c, d]\n",
        "type(e)"
      ],
      "execution_count": null,
      "outputs": []
    },
    {
      "cell_type": "code",
      "metadata": {
        "id": "0sicLJURoc1s",
        "colab_type": "code",
        "colab": {}
      },
      "source": [
        "# View e\n",
        "e"
      ],
      "execution_count": null,
      "outputs": []
    },
    {
      "cell_type": "code",
      "metadata": {
        "id": "VL_b3cNDsNRR",
        "colab_type": "code",
        "colab": {}
      },
      "source": [
        "# Get help and info on an object:\n",
        "e?"
      ],
      "execution_count": null,
      "outputs": []
    },
    {
      "cell_type": "code",
      "metadata": {
        "id": "4fqK4pwuokqF",
        "colab_type": "code",
        "colab": {}
      },
      "source": [
        "# Objects have methods depending on their type. Methods are functions applied on\n",
        "# an object.\n",
        "# Use dir to list object methods. Ignore those with form __x__\n",
        "dir(e)"
      ],
      "execution_count": null,
      "outputs": []
    },
    {
      "cell_type": "code",
      "metadata": {
        "id": "9pHuwZ3Lsj3N",
        "colab_type": "code",
        "colab": {}
      },
      "source": [
        "# See help on \"append\" method\n",
        "e.append?"
      ],
      "execution_count": null,
      "outputs": []
    },
    {
      "cell_type": "code",
      "metadata": {
        "id": "D2JKNHAls5R1",
        "colab_type": "code",
        "colab": {}
      },
      "source": [
        "# Try appending something\n",
        "e.append(\"(Not really!)\")\n",
        "e"
      ],
      "execution_count": null,
      "outputs": []
    },
    {
      "cell_type": "code",
      "metadata": {
        "id": "YdKY5E5ztB0S",
        "colab_type": "code",
        "colab": {}
      },
      "source": [
        "# That's not right, perhaps the \"remove\" method can help:\n",
        "e.remove(\"(Not really!)\")\n",
        "e"
      ],
      "execution_count": null,
      "outputs": []
    },
    {
      "cell_type": "markdown",
      "metadata": {
        "id": "9Z0JdQI1E4n7",
        "colab_type": "text"
      },
      "source": [
        "For more detail see:\n",
        "\n",
        "*   https://colab.research.google.com/github/jakevdp/PythonDataScienceHandbook/blob/master/notebooks/02.01-Understanding-Data-Types.ipynb\n",
        "*   https://medium.com/analytics-vidhya/data-types-in-python-506009234f89\n",
        "\n"
      ]
    },
    {
      "cell_type": "markdown",
      "metadata": {
        "id": "sR5h6LKgnA6-",
        "colab_type": "text"
      },
      "source": [
        "# Part 1.10 - Advanced/Object Based Plotting\n",
        "\n",
        "Matplotlib provides a more advanced system for plotting and controlling figures. One explicitly creates figure and axes object and uses their methods to control all aspects of creating figures.\n",
        "\n",
        "**Task**:\n",
        "Create a plot with both the LR04 and NGRIP records with a shared x axis but separate y axes, and view only the time period covered by both records.\n",
        "\n",
        "Try using `plt.subplots` to create a figure and axis which you can then use for plotting. `ax.twinx` will also be useful.\n",
        "\n",
        "Use code completion and the help documentation. The help documentation usually contains a useful examples section.\n",
        "\n",
        "Remember to comment your code!"
      ]
    },
    {
      "cell_type": "code",
      "metadata": {
        "id": "FPGiPeh4K-PM",
        "colab_type": "code",
        "colab": {}
      },
      "source": [
        "# \n",
        "fig, ax = plt.subplots()\n",
        "# Create a second axis in the same location and with a linked x scale with ax.twinx()\n",
        "ax2 = ax.twinx()\n",
        "\n",
        "ax.plot(dat_NGRIP[\"age\"], dat_NGRIP[\"d18O\"], color=\"orange\", label=\"NGRIP\")\n",
        "ax2.plot(dat_LR04[\"Time\"], dat_LR04[\"d18O\"], color=\"blue\", label=\"LR04\")\n",
        "ax.set_xlim(0,45) # x axes are linked, so only need to set one of them\n",
        "ax2.set_ylim(5.5,3)\n",
        "# \n",
        "ax.set_xlabel(\"time (ka)\")\n",
        "ax.set_ylabel(\"NGRIP ice d18O\")\n",
        "ax2.set_ylabel(\"LR04 d18O d18O\")\n",
        "ax.set_title(\"Comparison of LR04 and NGRIP ice d18O for mid-MIS3 to present\")"
      ],
      "execution_count": null,
      "outputs": []
    },
    {
      "cell_type": "markdown",
      "metadata": {
        "id": "xOCxO3vIdbUU",
        "colab_type": "text"
      },
      "source": [
        "# Part 1.11 - Week 1 Assignment\n",
        "\n",
        "This course is all about working with data. Example data is provided for each class, but you will be expected to try out what you learn on datasets of your choice during class, and you will require such datasets for the homework assignemnts and main project.\n",
        "\n",
        "**Task**\n",
        "\n",
        "Find and submit 3 datasets for shared use by the rest of the class:\n",
        "* At least 1 should be a timeseries like the NGRIP or LR04 datasets we used this week. Where the data is ordered by time, depth, distance, etc. (Geoscience is full of these!)\n",
        "* At least 1 should be non-ordered, for example, a database of lakes with metadata (e.g. area, depth, etc.), tephra REE chemistries, data on fault plane orientations, etc. This data may have a spatial component but does not have to.\n",
        "* Datasets should be freely available on the internet , OR be your own data which you are willing to share for use in this course.\n",
        "* If sharing one's own data, file sizes should be maximum 25 mb (you can split the dataset into multiple files if required, or make a sub-set).\n",
        "* It should be possible to load the data easily with pandas (e.g. csv, excel, ect.) or geopandas (shapefile, geojson, gpkg).\n",
        "* The topic of the data is open - it does not need to be geoscience related.\n",
        "* Large, interesting and complex datasets make the course more interesting for everyone involved.\n",
        "\n",
        "**Submission**\n",
        "\n",
        "* Data should be submitted by sending a link (to public dataset or e.g. shareable Google Drive link) to x@uibk.ac.at\n",
        "* The **deadline** is 23:59 on 13th October 2020.\n",
        "* This assignment comprises 5% of the assessment for the course. Full marks are awarded for providing 3 datasets fulfilling the above criteria, no marks are given otherwise.\n",
        "\n",
        "\n",
        "**Useful sources of geoscience data**\n",
        "\n",
        "* http://www.pangaea.de\n",
        "* Supplementary data from journal articles\n",
        "* Google!\n",
        "\n",
        "**Useful sources of other data**\n",
        "\n",
        "* https://inspire-geoportal.ec.europa.eu/ (spatial data)\n",
        "* https://data.europa.eu/\n",
        "* https://www.data.gv.at/\n",
        "* https://datasetsearch.research.google.com/\n",
        "* lists from https://www.wikipedia.org (convert to csv files using: https://wikitable2csv.ggor.de/)\n"
      ]
    },
    {
      "cell_type": "markdown",
      "metadata": {
        "id": "g-HsCZJjc5eb",
        "colab_type": "text"
      },
      "source": [
        "# Part 1.12 - Course Structure\n",
        "https://github.com/ds4geo/ds4geo/blob/master/Course%20Overview"
      ]
    },
    {
      "cell_type": "markdown",
      "metadata": {
        "id": "wnS3JHwXPR7J",
        "colab_type": "text"
      },
      "source": [
        "# References\n",
        "\n",
        "\n",
        "*   LR04\n",
        "*   NGRIP\n",
        "* Alpine flood\n",
        "\n",
        "\n"
      ]
    }
  ]
}