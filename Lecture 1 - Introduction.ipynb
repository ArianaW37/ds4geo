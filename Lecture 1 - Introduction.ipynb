{
  "nbformat": 4,
  "nbformat_minor": 0,
  "metadata": {
    "colab": {
      "name": "DS4GEO_L1.ipynb",
      "provenance": [],
      "private_outputs": true,
      "authorship_tag": "ABX9TyP2LfddATt6/2ue7hk62Iss",
      "include_colab_link": true
    },
    "kernelspec": {
      "name": "python3",
      "display_name": "Python 3"
    }
  },
  "cells": [
    {
      "cell_type": "markdown",
      "metadata": {
        "id": "view-in-github",
        "colab_type": "text"
      },
      "source": [
        "<a href=\"https://colab.research.google.com/github/ds4geo/ds4geo/blob/master/Lecture%201%20-%20Introduction.ipynb\" target=\"_parent\"><img src=\"https://colab.research.google.com/assets/colab-badge.svg\" alt=\"Open In Colab\"/></a>"
      ]
    },
    {
      "cell_type": "markdown",
      "metadata": {
        "id": "0AzNOwMiBnIw",
        "colab_type": "text"
      },
      "source": [
        "**Lecture 1 Practical Excercises**\n",
        "\n",
        "**Section 1**\n",
        "\n",
        "Welcome to python running in a Jupyter Notebook in Google Colab!\n",
        "\n",
        "We are going to load, view and plot the famous Lisiecki and Raymo (2005) \"LR04 stack\" benthic d18O stack with just a few lines of python code.\n",
        "\n",
        "Below is a \"code cell\".\n",
        "Follow the instructions in the comments.\n"
      ]
    },
    {
      "cell_type": "code",
      "metadata": {
        "id": "6j50f2MA6SV1",
        "colab_type": "code",
        "colab": {}
      },
      "source": [
        "# Click here and run the code cell by pressing the play button, or ctrl+enter\n",
        "# Import some libraries with useful functionality\n",
        "import pandas as pd # For loading and manipulating data\n",
        "import matplotlib.pyplot as plt"
      ],
      "execution_count": null,
      "outputs": []
    },
    {
      "cell_type": "code",
      "metadata": {
        "id": "--0CP6Cv6SV_",
        "colab_type": "code",
        "colab": {}
      },
      "source": [
        "# Load the LR04 stack from a csv file hosted in the course github repository using pandas\n",
        "dat = pd.read_csv(r\"https://raw.githubusercontent.com/ds4geo/ds4geo/master/data/timeseries/LR04stack_short.csv\")"
      ],
      "execution_count": null,
      "outputs": []
    },
    {
      "cell_type": "code",
      "metadata": {
        "id": "Iu2mr3z26SWF",
        "colab_type": "code",
        "colab": {}
      },
      "source": [
        "# Display an overview of the loaded data\n",
        "dat"
      ],
      "execution_count": null,
      "outputs": []
    },
    {
      "cell_type": "code",
      "metadata": {
        "scrolled": true,
        "id": "RnSosePP6SWL",
        "colab_type": "code",
        "colab": {}
      },
      "source": [
        "# Plot the data using matplotlib\n",
        "plt.plot(dat[\"Time\"], dat[\"d18O\"])"
      ],
      "execution_count": null,
      "outputs": []
    },
    {
      "cell_type": "markdown",
      "metadata": {
        "id": "Tw2cCB5IsNZG",
        "colab_type": "text"
      },
      "source": [
        "**Section 2**\n",
        "\n",
        "The above example uses simplified data and the most basic plotting.\n",
        "Now we will load data from the actual data file published by Lisiecki and Raymo (2005), and we will improve the plotting. To do this we will need to use additional arguments and functions.\n"
      ]
    },
    {
      "cell_type": "code",
      "metadata": {
        "id": "uDvtWKELvR10",
        "colab_type": "code",
        "colab": {}
      },
      "source": [
        "'''\n",
        "Multi-line comments can be created using triple inverted commas.\n",
        "\n",
        "Load the original LR04 stack from a tab delimited txt file\n",
        "Check the data file here: https://github.com/ds4geo/ds4geo/blob/master/data/timeseries/LR04stack.txt\n",
        "\n",
        "You'll notice the column headings are on line/row 5 and the data starts on row 6.\n",
        "Therefore we need to tell pd.read_csv which row the headings are on.\n",
        "We can do this by adding a keyword argument called \"header\".\n",
        "pd.read_csv ignores blank lines by default, and python starts counts at 0, so we pass header=3\n",
        "\n",
        "The delimiter of this file is tab, not comma, so we also need to use the sep argument with the value \"\\t\" for tab.\n",
        "'''\n",
        "# Read the original LR04 stack\n",
        "dat = pd.read_csv(r\"https://raw.githubusercontent.com/ds4geo/ds4geo/master/data/timeseries/LR04stack.txt\", sep=\"\\t\", header=3)\n"
      ],
      "execution_count": null,
      "outputs": []
    },
    {
      "cell_type": "code",
      "metadata": {
        "id": "mW9vg3Ol3qFj",
        "colab_type": "code",
        "colab": {}
      },
      "source": [
        "# Display an overview of the loaded data. The data is stored as a pandas DataFrame\n",
        "dat"
      ],
      "execution_count": null,
      "outputs": []
    },
    {
      "cell_type": "code",
      "metadata": {
        "id": "XEDASHu_5WE1",
        "colab_type": "code",
        "colab": {}
      },
      "source": [
        "# The long column names are annoying to type out while coding, so we can rename them if we want:\n",
        "# The DataFrame object dat has an attribute called columns.\n",
        "# We can use the core python print function to display objects in the cell output (or terminal)\n",
        "print(dat.columns)\n",
        "\n",
        "# We can overwrite the column names by assigning a list of new ones to the columns attribute.\n",
        "dat.columns = [\"Time\", \"d18O\", \"error\"]\n",
        "\n",
        "# Print the column names again to see the change\n",
        "print(dat.columns)"
      ],
      "execution_count": null,
      "outputs": []
    },
    {
      "cell_type": "code",
      "metadata": {
        "id": "raNr9Jyw6SWP",
        "colab_type": "code",
        "colab": {}
      },
      "source": [
        "# Plot the data with matplotlib\n",
        "plt.plot(dat[\"Time\"], dat[\"d18O\"])"
      ],
      "execution_count": null,
      "outputs": []
    },
    {
      "cell_type": "code",
      "metadata": {
        "id": "nQBW_Gdf6ZAk",
        "colab_type": "code",
        "colab": {}
      },
      "source": [
        "# That shows the whole record which isn't easy to read\n",
        "# Now we add some basic plotting controls: axes limits\n",
        "\n",
        "# Plot the data\n",
        "plt.plot(dat[\"Time\"], dat[\"d18O\"])\n",
        "\n",
        "# Limit the X axis to the last 140 ka\n",
        "plt.xlim(0, 140)\n",
        "# Limit the Y axis to a sensible range\n",
        "plt.ylim(3, 5.5)"
      ],
      "execution_count": null,
      "outputs": []
    },
    {
      "cell_type": "code",
      "metadata": {
        "id": "IG4azvJd6SWT",
        "colab_type": "code",
        "colab": {}
      },
      "source": [
        "# This record is often shown filpped vertically so warm inter-glacial periods are \"up\"\n",
        "# Sometimes it is also shown flipped horizontally so time goes left to right\n",
        "\n",
        "# Plot the data\n",
        "plt.plot(dat[\"Time\"], dat[\"d18O\"])\n",
        "\n",
        "# Flip the X axis by reversing\n",
        "plt.xlim(140, 0)\n",
        "# Flip the Y axis in the same way\n",
        "plt.ylim(5.5, 3)"
      ],
      "execution_count": null,
      "outputs": []
    },
    {
      "cell_type": "markdown",
      "metadata": {
        "id": "rw7Nc9Jg9xnO",
        "colab_type": "text"
      },
      "source": [
        "**Section 3**\n"
      ]
    },
    {
      "cell_type": "code",
      "metadata": {
        "id": "tNsFN91X6SWX",
        "colab_type": "code",
        "colab": {}
      },
      "source": [
        "dat = pd.read_csv(\"https://raw.githubusercontent.com/ds4geo/ds4geo/master/data/timeseries/NGRIP_chronology_20.tab\", sep=\"\\t\", header=20)\n",
        "#dat = pd.read_csv(r\"https://raw.githubusercontent.com/ds4geo/ds4geo/master/data/timeseries/NGRIP_chronology_20.tab\", sep=, header=)"
      ],
      "execution_count": null,
      "outputs": []
    },
    {
      "cell_type": "code",
      "metadata": {
        "id": "NQwUrDCUqGy8",
        "colab_type": "code",
        "colab": {}
      },
      "source": [
        "dat"
      ],
      "execution_count": null,
      "outputs": []
    },
    {
      "cell_type": "code",
      "metadata": {
        "id": "3tku93c3-F7O",
        "colab_type": "code",
        "colab": {}
      },
      "source": [
        "dat.columns = [\"age\", \"depth\", \"error\", \"d18O\"]\n",
        "# dat.columns = [$]"
      ],
      "execution_count": null,
      "outputs": []
    },
    {
      "cell_type": "code",
      "metadata": {
        "id": "MGmWbwCEgKP5",
        "colab_type": "code",
        "colab": {}
      },
      "source": [
        "plt.plot(dat[\"age\"], dat[\"d18O\"])\n",
        "plt.xlim(40, 30)"
      ],
      "execution_count": null,
      "outputs": []
    },
    {
      "cell_type": "markdown",
      "metadata": {
        "id": "KJkJml5yIoBE",
        "colab_type": "text"
      },
      "source": [
        ""
      ]
    },
    {
      "cell_type": "code",
      "metadata": {
        "id": "GHL-HPoynut9",
        "colab_type": "code",
        "colab": {}
      },
      "source": [
        "dat = pd.read_csv(\"https://raw.githubusercontent.com/ds4geo/ds4geo/master/data/timeseries/Alps_flood_de.txt\", sep=\";\", header=9, decimal=\",\")"
      ],
      "execution_count": null,
      "outputs": []
    }
  ]
}