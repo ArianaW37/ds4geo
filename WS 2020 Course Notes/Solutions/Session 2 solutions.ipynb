{
  "nbformat": 4,
  "nbformat_minor": 0,
  "metadata": {
    "colab": {
      "name": "Untitled2.ipynb",
      "provenance": [],
      "authorship_tag": "ABX9TyPSxDrGWoOn0/W2RUf3PlSU",
      "include_colab_link": true
    },
    "kernelspec": {
      "name": "python3",
      "display_name": "Python 3"
    }
  },
  "cells": [
    {
      "cell_type": "markdown",
      "metadata": {
        "id": "view-in-github",
        "colab_type": "text"
      },
      "source": [
        "<a href=\"https://colab.research.google.com/github/ds4geo/ds4geo/blob/master/WS%202020%20Course%20Notes/Solutions/Session%202%20solutions.ipynb\" target=\"_parent\"><img src=\"https://colab.research.google.com/assets/colab-badge.svg\" alt=\"Open In Colab\"/></a>"
      ]
    },
    {
      "cell_type": "markdown",
      "metadata": {
        "id": "SWhLk7E_r1nz"
      },
      "source": [
        "# **Data Science for Geoscientists - Winter Semester 2020**\n",
        "# **Session 2 - Introduction - 14th October 2020**\n",
        "# **Workshop Solutions**\n",
        "\n",
        "Rough example solutions to the workshops are given below."
      ]
    },
    {
      "cell_type": "code",
      "metadata": {
        "id": "7eUYqNY2r0GB"
      },
      "source": [
        "# Import libraries\n",
        "import pandas as pd\n",
        "import matplotlib.pyplot as plt"
      ],
      "execution_count": null,
      "outputs": []
    },
    {
      "cell_type": "markdown",
      "metadata": {
        "id": "sRrob5sbr6zs"
      },
      "source": [
        "# Part 2.5 - Indexing excercise - *Workshop: 15 minutes*"
      ]
    },
    {
      "cell_type": "code",
      "metadata": {
        "id": "HSpJlCSHtkn4"
      },
      "source": [
        "# From this list\n",
        "base_list = [\"a\", \"b\", \"c\", \"d\", \"e\",\n",
        "             \"f\", \"g\", \"h\", \"i\", \"j\",\n",
        "             \"k\", \"l\", \"m\", \"n\", \"o\",\n",
        "             \"p\", \"q\", \"r\", \"s\", \"t\",\n",
        "             \"u\", \"v\", \"w\", \"x\", \"y\", \"z\"]"
      ],
      "execution_count": null,
      "outputs": []
    },
    {
      "cell_type": "code",
      "metadata": {
        "id": "LN4ia6SgtlE6"
      },
      "source": [
        "# Create the following lists using indexing:\n",
        "# 1. [\"a\", \"b\", \"c\", \"d\", \"e\"]\n",
        "# 2. [\"x\", \"y\", \"z\"]\n",
        "# 3. [\"a\", \"f\", \"k\", \"p\", \"u\", \"z\"]\n",
        "# 4. [\"m\", \"p\", \"s\", \"v\", \"y\"]\n",
        "# 5. From the dictionary \"rocks\", get the last sedimentary rock type\n",
        "# 6. From the dictionary \"complex_dict\", get the string \"five\"\n",
        "# 7. From the dictionary \"rock_dict\", get the y coordinate of the second location of granite"
      ],
      "execution_count": null,
      "outputs": []
    },
    {
      "cell_type": "code",
      "metadata": {
        "id": "e-lqOiXptpPH"
      },
      "source": [
        "# 1-4\n",
        "print(base_list[0:5])\n",
        "print(base_list[-3:])\n",
        "print(base_list[0::5])\n",
        "print(base_list[-14::3])\n",
        "\n",
        "# 5-7\n",
        "print(rocks[\"Sedimentary\"][-1])\n",
        "print(complex_dict[2.5][-1])\n",
        "print(rock_dict[\"granite\"][\"locations\"][1][1])"
      ],
      "execution_count": null,
      "outputs": []
    }
  ]
}