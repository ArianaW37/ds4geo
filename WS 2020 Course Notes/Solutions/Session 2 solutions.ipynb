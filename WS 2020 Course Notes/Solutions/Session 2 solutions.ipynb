{
  "nbformat": 4,
  "nbformat_minor": 0,
  "metadata": {
    "colab": {
      "name": "Untitled2.ipynb",
      "provenance": [],
      "authorship_tag": "ABX9TyMj4XxnQTVW+2wZio4Yx4+1",
      "include_colab_link": true
    },
    "kernelspec": {
      "name": "python3",
      "display_name": "Python 3"
    }
  },
  "cells": [
    {
      "cell_type": "markdown",
      "metadata": {
        "id": "view-in-github",
        "colab_type": "text"
      },
      "source": [
        "<a href=\"https://colab.research.google.com/github/ds4geo/ds4geo/blob/master/WS%202020%20Course%20Notes/Solutions/Session%202%20solutions.ipynb\" target=\"_parent\"><img src=\"https://colab.research.google.com/assets/colab-badge.svg\" alt=\"Open In Colab\"/></a>"
      ]
    },
    {
      "cell_type": "markdown",
      "metadata": {
        "id": "SWhLk7E_r1nz"
      },
      "source": [
        "# **Data Science for Geoscientists - Winter Semester 2020**\n",
        "# **Session 2 - Introduction - 14th October 2020**\n",
        "# **Workshop Solutions**\n",
        "\n",
        "Rough example solutions to the workshops are given below."
      ]
    },
    {
      "cell_type": "code",
      "metadata": {
        "id": "7eUYqNY2r0GB"
      },
      "source": [
        "# Import libraries\n",
        "import pandas as pd\n",
        "import matplotlib.pyplot as plt"
      ],
      "execution_count": null,
      "outputs": []
    },
    {
      "cell_type": "markdown",
      "metadata": {
        "id": "sRrob5sbr6zs"
      },
      "source": [
        "# Part 2.5 - Indexing excercise - *Workshop: 15 minutes*"
      ]
    },
    {
      "cell_type": "code",
      "metadata": {
        "id": "HSpJlCSHtkn4"
      },
      "source": [
        "# From this list\n",
        "base_list = [\"a\", \"b\", \"c\", \"d\", \"e\",\n",
        "             \"f\", \"g\", \"h\", \"i\", \"j\",\n",
        "             \"k\", \"l\", \"m\", \"n\", \"o\",\n",
        "             \"p\", \"q\", \"r\", \"s\", \"t\",\n",
        "             \"u\", \"v\", \"w\", \"x\", \"y\", \"z\"]"
      ],
      "execution_count": null,
      "outputs": []
    },
    {
      "cell_type": "code",
      "metadata": {
        "id": "LN4ia6SgtlE6"
      },
      "source": [
        "# Create the following lists using indexing:\n",
        "# 1. [\"a\", \"b\", \"c\", \"d\", \"e\"]\n",
        "# 2. [\"x\", \"y\", \"z\"]\n",
        "# 3. [\"a\", \"f\", \"k\", \"p\", \"u\", \"z\"]\n",
        "# 4. [\"m\", \"p\", \"s\", \"v\", \"y\"]\n",
        "# 5. From the dictionary \"rocks\", get the last sedimentary rock type\n",
        "# 6. From the dictionary \"complex_dict\", get the string \"five\"\n",
        "# 7. From the dictionary \"rock_dict\", get the y coordinate of the second location of granite"
      ],
      "execution_count": null,
      "outputs": []
    },
    {
      "cell_type": "code",
      "metadata": {
        "id": "e-lqOiXptpPH"
      },
      "source": [
        "# 1-4\n",
        "print(base_list[0:5])\n",
        "print(base_list[-3:])\n",
        "print(base_list[0::5])\n",
        "print(base_list[-14::3])\n",
        "\n",
        "# 5-7\n",
        "print(rocks[\"Sedimentary\"][-1])\n",
        "print(complex_dict[2.5][-1])\n",
        "print(rock_dict[\"granite\"][\"locations\"][1][1])"
      ],
      "execution_count": null,
      "outputs": []
    },
    {
      "cell_type": "markdown",
      "metadata": {
        "id": "O7tsJ5Tdt_Cr"
      },
      "source": [
        "# Part 2.6 - Advanced/Object Based Plotting - *Workshop: 10 minutes*"
      ]
    },
    {
      "cell_type": "code",
      "metadata": {
        "id": "vexU1Ms2t_yh"
      },
      "source": [
        "# Load data as in previous session:\n",
        "dat_LR04 = pd.read_csv(\"https://raw.githubusercontent.com/ds4geo/ds4geo/master/data/timeseries/LR04stack.txt\", sep=\"\\t\", header=3)\n",
        "dat_LR04.columns = [\"Time\", \"d18O\", \"error\"]\n",
        "dat_NGRIP = pd.read_csv(\"https://raw.githubusercontent.com/ds4geo/ds4geo/master/data/timeseries/NGRIP_chronology_20.tab\", sep=\"\\t\", header=20)\n",
        "dat_NGRIP.columns = [\"age\", \"depth\", \"error\", \"d18O\"]"
      ],
      "execution_count": null,
      "outputs": []
    },
    {
      "cell_type": "code",
      "metadata": {
        "id": "7eTyNlbCuB8n"
      },
      "source": [
        "# Plot the data\n",
        "fig, ax = plt.subplots()\n",
        "# Create a second axis in the same location and with a linked x scale with ax.twinx()\n",
        "ax2 = ax.twinx()\n",
        "\n",
        "# Create the line plots\n",
        "ax.plot(dat_NGRIP[\"age\"], dat_NGRIP[\"d18O\"], color=\"orange\", label=\"NGRIP\")\n",
        "ax2.plot(dat_LR04[\"Time\"], dat_LR04[\"d18O\"], color=\"blue\", label=\"LR04\")\n",
        "\n",
        "# Set axes limits\n",
        "ax.set_xlim(0,45) # x axes are linked, so only need to set one of them\n",
        "ax2.set_ylim(5.5,3)\n",
        "\n",
        "# Create axes labels and title \n",
        "ax.set_xlabel(\"time (ka)\")\n",
        "ax.set_ylabel(\"NGRIP ice d18O\")\n",
        "ax2.set_ylabel(\"LR04 d18O d18O\")\n",
        "ax.set_title(\"Comparison of LR04 and NGRIP ice d18O for mid-MIS3 to present\")"
      ],
      "execution_count": null,
      "outputs": []
    },
    {
      "cell_type": "markdown",
      "metadata": {
        "id": "gkJ4Jf4kuRBX"
      },
      "source": [
        "# Part 2.8 - Flow control excercise - *Workshop: 15 minutes*"
      ]
    },
    {
      "cell_type": "code",
      "metadata": {
        "id": "hgUwNmUeuT-o"
      },
      "source": [
        "# Create the following lists using loops:\n",
        "# 1. [3,6,9,12,15,18....300] \n",
        "# 2. The above list by a different approach\n",
        "# 3. A list of all integers divisible by 3 and 7 between 1 and 1000"
      ],
      "execution_count": null,
      "outputs": []
    },
    {
      "cell_type": "code",
      "metadata": {
        "id": "8glryGnVuRlK"
      },
      "source": [
        "# 1/2 option a\n",
        "ans1a = []\n",
        "for i in range(3,301,3):\n",
        "  ans1a.append(i)\n",
        "\n",
        "# 1/2 option b\n",
        "ans1b = list(range(3,301,3))\n",
        "\n",
        "# 1/2 option c\n",
        "ans1c = []\n",
        "for i in range(1,101):\n",
        "  ans1c.append(i*3)\n",
        "\n",
        "# 3\n",
        "ans3 = []\n",
        "for i in range(1,1001):\n",
        "  if i%3 == 0 and i%7 == 0:\n",
        "    ans3.append(i)"
      ],
      "execution_count": null,
      "outputs": []
    }
  ]
}