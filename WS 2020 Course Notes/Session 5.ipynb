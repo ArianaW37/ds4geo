{
  "nbformat": 4,
  "nbformat_minor": 0,
  "metadata": {
    "colab": {
      "name": "Session 5.ipynb",
      "provenance": [],
      "toc_visible": true,
      "authorship_tag": "ABX9TyNKSJj3gPvmJpAtCFMpfOXK",
      "include_colab_link": true
    },
    "kernelspec": {
      "name": "python3",
      "display_name": "Python 3"
    }
  },
  "cells": [
    {
      "cell_type": "markdown",
      "metadata": {
        "id": "view-in-github",
        "colab_type": "text"
      },
      "source": [
        "<a href=\"https://colab.research.google.com/github/ds4geo/ds4geo/blob/master/WS%202020%20Course%20Notes/Session%205.ipynb\" target=\"_parent\"><img src=\"https://colab.research.google.com/assets/colab-badge.svg\" alt=\"Open In Colab\"/></a>"
      ]
    },
    {
      "cell_type": "markdown",
      "metadata": {
        "id": "Do_8_lVv88uX"
      },
      "source": [
        "# To Do\n",
        "\n",
        "* Student assignment submissions link.\n",
        "\n",
        "**Other**\n",
        "* Submission method\n",
        "* References\n",
        "\n",
        "\n",
        "* Create separate solutions notebook\n",
        "* Enable output cells\n",
        "* Final go-through and checks"
      ]
    },
    {
      "cell_type": "markdown",
      "metadata": {
        "id": "pIsCL6JYm2bk"
      },
      "source": [
        "# **Data Science for Geoscientists - Winter Semester 2020**\n",
        "# **Session 5 - Data Story Telling - 4th November 2020**"
      ]
    },
    {
      "cell_type": "markdown",
      "metadata": {
        "id": "YEL0Cwnfm36b"
      },
      "source": [
        "Weather assignment discuss\n",
        "\n",
        "Simple stats, mean --> kde\n",
        "\n",
        "Data story telling\n",
        "\n",
        "How do I do that open workshop\n",
        "\n",
        "Assignment: weather 2"
      ]
    },
    {
      "cell_type": "markdown",
      "metadata": {
        "id": "qJE4U_5pPN0q"
      },
      "source": [
        "# Part 5.1 - Weather data assignment review - *Discussion*\n",
        "We will look at the assignment submissions and discuss the conclusions (what is the weather like in these cities?) and the effectiveness of the analysis, visualisations and story-telling."
      ]
    },
    {
      "cell_type": "code",
      "metadata": {
        "id": "pi1X-nHbmscW"
      },
      "source": [
        ""
      ],
      "execution_count": null,
      "outputs": []
    },
    {
      "cell_type": "markdown",
      "metadata": {
        "id": "8Aoo3WubaHwl"
      },
      "source": [
        "# Part 5.2 - Statistics: Describing data - *Workshop*\n",
        "As we see in the "
      ]
    },
    {
      "cell_type": "code",
      "metadata": {
        "id": "n-dijd5eajli"
      },
      "source": [
        "import pandas as pd\n",
        "from scipy import stats"
      ],
      "execution_count": 10,
      "outputs": []
    },
    {
      "cell_type": "code",
      "metadata": {
        "id": "74VZmb-BastV"
      },
      "source": [
        "# Load the data from here: \"/content/sample_data/anscombe.json\"\n",
        "# format is json - find a pandas function to load it\n",
        "dat = pd.read_json(\"/content/sample_data/anscombe.json\")"
      ],
      "execution_count": 5,
      "outputs": []
    },
    {
      "cell_type": "code",
      "metadata": {
        "id": "VwZuGpzja-yf",
        "outputId": "6f042066-de6b-40e9-86ba-0342b0acf4db",
        "colab": {
          "base_uri": "https://localhost:8080/",
          "height": 105
        }
      },
      "source": [
        "# Select one of the datasets:\n",
        "series_names = [\"I\", \"II\", \"III\", \"IV\"]\n",
        "for n in series_names:\n",
        "  #print(dat.loc[dat.Series==n].std())\n",
        "  sdat = dat.loc[dat.Series==n]\n",
        "  print(stats.linregress(sdat.X, sdat.Y))"
      ],
      "execution_count": 12,
      "outputs": [
        {
          "output_type": "stream",
          "text": [
            "LinregressResult(slope=0.5002727272727273, intercept=2.9975454545454543, rvalue=0.81618645422891, pvalue=0.0021813202598156855, stderr=0.11804977471937325)\n",
            "LinregressResult(slope=0.5000000000000001, intercept=3.000909090909089, rvalue=0.816236506000243, pvalue=0.0021788162369107845, stderr=0.11796374596764074)\n",
            "LinregressResult(slope=0.4997272727272729, intercept=3.002454545454544, rvalue=0.8162867394895984, pvalue=0.002176305279228015, stderr=0.11787766222100221)\n",
            "LinregressResult(slope=0.4999090909090909, intercept=3.0017272727272726, rvalue=0.8165214368885028, pvalue=0.002164602347197222, stderr=0.11781894172968553)\n"
          ],
          "name": "stdout"
        }
      ]
    },
    {
      "cell_type": "markdown",
      "metadata": {
        "id": "6HJHklGQakDj"
      },
      "source": [
        ""
      ]
    }
  ]
}