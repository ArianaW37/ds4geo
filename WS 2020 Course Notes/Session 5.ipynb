{
  "nbformat": 4,
  "nbformat_minor": 0,
  "metadata": {
    "colab": {
      "name": "Session 5.ipynb",
      "provenance": [],
      "toc_visible": true,
      "authorship_tag": "ABX9TyN/6gPg80NiVPJrPsFvYbqV",
      "include_colab_link": true
    },
    "kernelspec": {
      "name": "python3",
      "display_name": "Python 3"
    }
  },
  "cells": [
    {
      "cell_type": "markdown",
      "metadata": {
        "id": "view-in-github",
        "colab_type": "text"
      },
      "source": [
        "<a href=\"https://colab.research.google.com/github/ds4geo/ds4geo/blob/master/WS%202020%20Course%20Notes/Session%205.ipynb\" target=\"_parent\"><img src=\"https://colab.research.google.com/assets/colab-badge.svg\" alt=\"Open In Colab\"/></a>"
      ]
    },
    {
      "cell_type": "markdown",
      "metadata": {
        "id": "Do_8_lVv88uX"
      },
      "source": [
        "# To Do\n",
        "\n",
        "* Student assignment submissions link.\n",
        "* Univariate stats mini-lecture & notes\n",
        "* Data story telling mini-lecture * notes\n",
        "* Lake workshop\n",
        "\n",
        "\n",
        "\n",
        "**Other**\n",
        "* Submission method\n",
        "* References\n",
        "\n",
        "\n",
        "* Create separate solutions notebook\n",
        "* Enable output cells\n",
        "* Final go-through and checks\n",
        "* Workshop timings"
      ]
    },
    {
      "cell_type": "markdown",
      "metadata": {
        "id": "pIsCL6JYm2bk"
      },
      "source": [
        "# **Data Science for Geoscientists - Winter Semester 2020**\n",
        "# **Session 5 - Data Story Telling - 4th November 2020**"
      ]
    },
    {
      "cell_type": "markdown",
      "metadata": {
        "id": "YEL0Cwnfm36b"
      },
      "source": [
        "Weather assignment discuss\n",
        "\n",
        "Simple stats, mean --> kde\n",
        "\n",
        "Data story telling\n",
        "\n",
        "How do I do that open workshop\n",
        "\n",
        "Assignment: weather 2"
      ]
    },
    {
      "cell_type": "markdown",
      "metadata": {
        "id": "qJE4U_5pPN0q"
      },
      "source": [
        "# Part 5.1 - Weather data assignment review - *Discussion*\n",
        "We will look at the assignment submissions and discuss the conclusions (what is the weather like in these cities?) and the effectiveness of the analysis, visualisations and story-telling."
      ]
    },
    {
      "cell_type": "code",
      "metadata": {
        "id": "pi1X-nHbmscW"
      },
      "source": [
        ""
      ],
      "execution_count": null,
      "outputs": []
    },
    {
      "cell_type": "markdown",
      "metadata": {
        "id": "8Aoo3WubaHwl"
      },
      "source": [
        "# Part 5.2 - Statistics: Describing data part 1 - *Workshop*\n",
        "It is useful to be able to describe datasets statistically to summarise their properties.\n",
        "\n",
        "You are provided with 4 small datasets each containing 2 variables (x and y). Describe the datasets by simple statistics (e.g. mean, range, linear regression/correlation coefficient - see if Scipy has a useful function).\n",
        "\n",
        "**Do not plot the data or closely inspect the individual data points** (we will do this later).\n",
        "\n",
        "On the basis of the statistics, comment on these datasets."
      ]
    },
    {
      "cell_type": "code",
      "metadata": {
        "id": "n-dijd5eajli"
      },
      "source": [
        "import pandas as pd\n",
        "from scipy import stats"
      ],
      "execution_count": null,
      "outputs": []
    },
    {
      "cell_type": "code",
      "metadata": {
        "id": "74VZmb-BastV"
      },
      "source": [
        "'''\n",
        "Load the data from here: \"/content/sample_data/anscombe.json\"\n",
        "format is json - find a pandas function to load it\n",
        "'''"
      ],
      "execution_count": null,
      "outputs": []
    },
    {
      "cell_type": "code",
      "metadata": {
        "id": "VwZuGpzja-yf"
      },
      "source": [
        "'''# The 4 datasets are in the same json file (and therefore loaded Pandas DataFrame)\n",
        "They can be distinguished by a column called \"Series\" with values: [\"I\", \"II\", \"III\", \"IV\"]\n",
        "In Pandas, you can select e.g. all the rows of Series I as follows:\n",
        "dat.loc[dat.Series==\"I\"]\n",
        "'''\n"
      ],
      "execution_count": null,
      "outputs": []
    },
    {
      "cell_type": "code",
      "metadata": {
        "id": "FLp0iobRdyjY"
      },
      "source": [
        "### ANSWERS\n",
        "import pandas as pd\n",
        "from scipy import stats\n",
        "dat = pd.read_json(\"/content/sample_data/anscombe.json\")\n",
        "# Select one of the datasets:\n",
        "series_names = [\"I\", \"II\", \"III\", \"IV\"]\n",
        "for n in series_names:\n",
        "  print(dat.loc[dat.Series==n].mean()) # same for std, max, min, etc.\n",
        "  sdat = dat.loc[dat.Series==n]\n",
        "  print(stats.linregress(sdat.X, sdat.Y))"
      ],
      "execution_count": null,
      "outputs": []
    },
    {
      "cell_type": "markdown",
      "metadata": {
        "id": "6HJHklGQakDj"
      },
      "source": [
        "# Part 5.3 - Anscombe's Quartet - *Workshop/Discussion*\n",
        "First we discuss the conclusions of the previous excercise.\n",
        "\n",
        "Then plot each of the datasets. Do you have any additional comments/conclusions?\n",
        "\n",
        "You can read more about Anscombe's Quartet here:\n",
        "\n",
        "**DO NOT read this until you have completed the excercise!**\n",
        "\n",
        "https://en.wikipedia.org/wiki/Anscombe%27s_quartet\n"
      ]
    },
    {
      "cell_type": "code",
      "metadata": {
        "id": "nrsM9VIqfGoy"
      },
      "source": [
        ""
      ],
      "execution_count": null,
      "outputs": []
    },
    {
      "cell_type": "code",
      "metadata": {
        "id": "5LexIQ1QfFSR"
      },
      "source": [
        "#### ANSWERs\n",
        "for n in series_names:\n",
        "  sdat = dat.loc[dat.Series==n]\n",
        "  sdat.plot.scatter(\"X\",\"Y\")"
      ],
      "execution_count": null,
      "outputs": []
    },
    {
      "cell_type": "markdown",
      "metadata": {
        "id": "PFP_GxspfvNR"
      },
      "source": [
        "#Part 5.4 - Univariate Statistics (briefly) - *Mini-lecture*\n"
      ]
    },
    {
      "cell_type": "markdown",
      "metadata": {
        "id": "4xwV5W3ffvK_"
      },
      "source": [
        "# Part 5.5 - Describing data part 2 - *Workshop*\n",
        "\n",
        "The Global Lakes and Wetlands Database (GLWD - https://www.worldwildlife.org/pages/global-lakes-and-wetlands-database) contains information on all lakes and reservoirs in the world with surface areas greater than 0.1 km2 (almost 250,000).\n",
        "The dataset is split into two parts:\n",
        "\n",
        "* Level 1 containing all lakes > 50 km2 in size with many attributes (area, elevation, location, geometry): https://github.com/ds4geo/ds4geo/blob/master/data/unordered/Global_Lakes_GLWD/glwd_1.csv (raw:https://raw.githubusercontent.com/ds4geo/ds4geo/master/data/unordered/Global_Lakes_GLWD/glwd_1.csv)\n",
        "* Level 2 containing all lakes >0.1 km2 (excluding those in level 1) with a limited set of attributes: https://github.com/ds4geo/ds4geo/blob/master/data/unordered/Global_Lakes_GLWD/glwd_2.csv (raw:https://raw.githubusercontent.com/ds4geo/ds4geo/master/data/unordered/Global_Lakes_GLWD/glwd_2.csv)\n",
        "\n",
        "Both original parts include polygon geometries, but these have been removed to reduce the file sizes.\n",
        "\n",
        "Explore both datasets individually and together, and analyse and visualise the patterns in the data."
      ]
    },
    {
      "cell_type": "code",
      "metadata": {
        "id": "wFo43RwPujaS"
      },
      "source": [
        "import pandas as pd"
      ],
      "execution_count": 3,
      "outputs": []
    },
    {
      "cell_type": "code",
      "metadata": {
        "id": "G5p0q_OL-bg5"
      },
      "source": [
        "# ANSWERS\n",
        "glwd1 = pd.read_csv(\"https://raw.githubusercontent.com/ds4geo/ds4geo/master/data/unordered/Global_Lakes_GLWD/glwd_1.csv\")\n",
        "glwd2 = pd.read_csv(\"https://raw.githubusercontent.com/ds4geo/ds4geo/master/data/unordered/Global_Lakes_GLWD/glwd_2.csv\")"
      ],
      "execution_count": 4,
      "outputs": []
    },
    {
      "cell_type": "code",
      "metadata": {
        "id": "HFNXY1Rr_Af_",
        "outputId": "1d15ecce-6ce2-4297-e658-bcf420b68151",
        "colab": {
          "base_uri": "https://localhost:8080/",
          "height": 626
        }
      },
      "source": [
        "#ANSWERS\n",
        "glwd1"
      ],
      "execution_count": 14,
      "outputs": [
        {
          "output_type": "execute_result",
          "data": {
            "text/html": [
              "<div>\n",
              "<style scoped>\n",
              "    .dataframe tbody tr th:only-of-type {\n",
              "        vertical-align: middle;\n",
              "    }\n",
              "\n",
              "    .dataframe tbody tr th {\n",
              "        vertical-align: top;\n",
              "    }\n",
              "\n",
              "    .dataframe thead th {\n",
              "        text-align: right;\n",
              "    }\n",
              "</style>\n",
              "<table border=\"1\" class=\"dataframe\">\n",
              "  <thead>\n",
              "    <tr style=\"text-align: right;\">\n",
              "      <th></th>\n",
              "      <th>GLWD_ID</th>\n",
              "      <th>TYPE</th>\n",
              "      <th>LAKE_NAME</th>\n",
              "      <th>DAM_NAME</th>\n",
              "      <th>POLY_SRC</th>\n",
              "      <th>AREA_SKM</th>\n",
              "      <th>PERIM_KM</th>\n",
              "      <th>LONG_DEG</th>\n",
              "      <th>LAT_DEG</th>\n",
              "      <th>ELEV_M</th>\n",
              "      <th>CATCH_TSKM</th>\n",
              "      <th>INFLOW_CMS</th>\n",
              "      <th>VOLUME_CKM</th>\n",
              "      <th>VOL_SRC</th>\n",
              "      <th>COUNTRY</th>\n",
              "      <th>SEC_CNTRY</th>\n",
              "      <th>RIVER</th>\n",
              "      <th>NEAR_CITY</th>\n",
              "      <th>MGLD_TYPE</th>\n",
              "      <th>MGLD_AREA</th>\n",
              "      <th>LRS_AREA</th>\n",
              "      <th>LRS_AR_SRC</th>\n",
              "      <th>LRS_CATCH</th>\n",
              "      <th>DAM_HEIGHT</th>\n",
              "      <th>DAM_YEAR</th>\n",
              "      <th>USE_1</th>\n",
              "      <th>USE_2</th>\n",
              "      <th>USE_3</th>\n",
              "    </tr>\n",
              "  </thead>\n",
              "  <tbody>\n",
              "    <tr>\n",
              "      <th>0</th>\n",
              "      <td>1</td>\n",
              "      <td>Lake</td>\n",
              "      <td>Caspian Sea</td>\n",
              "      <td>NaN</td>\n",
              "      <td>ArcWorld</td>\n",
              "      <td>378119.3</td>\n",
              "      <td>6820.3</td>\n",
              "      <td>50.36</td>\n",
              "      <td>41.85</td>\n",
              "      <td>-22</td>\n",
              "      <td>3174.0</td>\n",
              "      <td>8644.8</td>\n",
              "      <td>NaN</td>\n",
              "      <td>NaN</td>\n",
              "      <td>Kazakhstan</td>\n",
              "      <td>+4: Russia, Turkmenistan, Azerbaijan, Iran</td>\n",
              "      <td>NaN</td>\n",
              "      <td>NaN</td>\n",
              "      <td>closedx</td>\n",
              "      <td>380000.0</td>\n",
              "      <td>NaN</td>\n",
              "      <td>NaN</td>\n",
              "      <td>NaN</td>\n",
              "      <td>NaN</td>\n",
              "      <td>NaN</td>\n",
              "      <td>NaN</td>\n",
              "      <td>NaN</td>\n",
              "      <td>NaN</td>\n",
              "    </tr>\n",
              "    <tr>\n",
              "      <th>1</th>\n",
              "      <td>2</td>\n",
              "      <td>Lake</td>\n",
              "      <td>Lake Superior</td>\n",
              "      <td>NaN</td>\n",
              "      <td>ArcWorld</td>\n",
              "      <td>81935.7</td>\n",
              "      <td>3469.6</td>\n",
              "      <td>-88.23</td>\n",
              "      <td>47.72</td>\n",
              "      <td>184</td>\n",
              "      <td>203.2</td>\n",
              "      <td>2115.8</td>\n",
              "      <td>NaN</td>\n",
              "      <td>NaN</td>\n",
              "      <td>Canada</td>\n",
              "      <td>United States</td>\n",
              "      <td>NaN</td>\n",
              "      <td>NaN</td>\n",
              "      <td>open</td>\n",
              "      <td>82000.0</td>\n",
              "      <td>NaN</td>\n",
              "      <td>NaN</td>\n",
              "      <td>NaN</td>\n",
              "      <td>NaN</td>\n",
              "      <td>NaN</td>\n",
              "      <td>NaN</td>\n",
              "      <td>NaN</td>\n",
              "      <td>NaN</td>\n",
              "    </tr>\n",
              "    <tr>\n",
              "      <th>2</th>\n",
              "      <td>3</td>\n",
              "      <td>Lake</td>\n",
              "      <td>Lake Victoria</td>\n",
              "      <td>Owen Falls (Lake Victoria)</td>\n",
              "      <td>DCW</td>\n",
              "      <td>67075.2</td>\n",
              "      <td>6041.4</td>\n",
              "      <td>33.23</td>\n",
              "      <td>-1.30</td>\n",
              "      <td>1140</td>\n",
              "      <td>257.9</td>\n",
              "      <td>1201.7</td>\n",
              "      <td>204.80</td>\n",
              "      <td>LRs</td>\n",
              "      <td>Tanzania</td>\n",
              "      <td>+2: Uganda, Kenya</td>\n",
              "      <td>Nile</td>\n",
              "      <td>Jinta</td>\n",
              "      <td>open</td>\n",
              "      <td>68800.0</td>\n",
              "      <td>69000.0</td>\n",
              "      <td>Other</td>\n",
              "      <td>0.0</td>\n",
              "      <td>31.0</td>\n",
              "      <td>1954.0</td>\n",
              "      <td>i</td>\n",
              "      <td>h</td>\n",
              "      <td>NaN</td>\n",
              "    </tr>\n",
              "    <tr>\n",
              "      <th>3</th>\n",
              "      <td>4</td>\n",
              "      <td>Lake</td>\n",
              "      <td>Aral Sea</td>\n",
              "      <td>NaN</td>\n",
              "      <td>ArcWorld</td>\n",
              "      <td>65966.8</td>\n",
              "      <td>3580.4</td>\n",
              "      <td>60.08</td>\n",
              "      <td>45.13</td>\n",
              "      <td>42</td>\n",
              "      <td>255.5</td>\n",
              "      <td>27.4</td>\n",
              "      <td>NaN</td>\n",
              "      <td>NaN</td>\n",
              "      <td>Kazakhstan</td>\n",
              "      <td>Uzbekistan</td>\n",
              "      <td>NaN</td>\n",
              "      <td>NaN</td>\n",
              "      <td>closedx</td>\n",
              "      <td>40000.0</td>\n",
              "      <td>NaN</td>\n",
              "      <td>NaN</td>\n",
              "      <td>NaN</td>\n",
              "      <td>NaN</td>\n",
              "      <td>NaN</td>\n",
              "      <td>NaN</td>\n",
              "      <td>NaN</td>\n",
              "      <td>NaN</td>\n",
              "    </tr>\n",
              "    <tr>\n",
              "      <th>4</th>\n",
              "      <td>5</td>\n",
              "      <td>Lake</td>\n",
              "      <td>Lake Huron</td>\n",
              "      <td>NaN</td>\n",
              "      <td>ArcWorld</td>\n",
              "      <td>59756.5</td>\n",
              "      <td>3943.9</td>\n",
              "      <td>-82.21</td>\n",
              "      <td>44.78</td>\n",
              "      <td>176</td>\n",
              "      <td>486.8</td>\n",
              "      <td>4069.9</td>\n",
              "      <td>NaN</td>\n",
              "      <td>NaN</td>\n",
              "      <td>Canada</td>\n",
              "      <td>United States</td>\n",
              "      <td>NaN</td>\n",
              "      <td>NaN</td>\n",
              "      <td>open</td>\n",
              "      <td>59500.0</td>\n",
              "      <td>NaN</td>\n",
              "      <td>NaN</td>\n",
              "      <td>NaN</td>\n",
              "      <td>NaN</td>\n",
              "      <td>NaN</td>\n",
              "      <td>NaN</td>\n",
              "      <td>NaN</td>\n",
              "      <td>NaN</td>\n",
              "    </tr>\n",
              "    <tr>\n",
              "      <th>...</th>\n",
              "      <td>...</td>\n",
              "      <td>...</td>\n",
              "      <td>...</td>\n",
              "      <td>...</td>\n",
              "      <td>...</td>\n",
              "      <td>...</td>\n",
              "      <td>...</td>\n",
              "      <td>...</td>\n",
              "      <td>...</td>\n",
              "      <td>...</td>\n",
              "      <td>...</td>\n",
              "      <td>...</td>\n",
              "      <td>...</td>\n",
              "      <td>...</td>\n",
              "      <td>...</td>\n",
              "      <td>...</td>\n",
              "      <td>...</td>\n",
              "      <td>...</td>\n",
              "      <td>...</td>\n",
              "      <td>...</td>\n",
              "      <td>...</td>\n",
              "      <td>...</td>\n",
              "      <td>...</td>\n",
              "      <td>...</td>\n",
              "      <td>...</td>\n",
              "      <td>...</td>\n",
              "      <td>...</td>\n",
              "      <td>...</td>\n",
              "    </tr>\n",
              "    <tr>\n",
              "      <th>3716</th>\n",
              "      <td>3717</td>\n",
              "      <td>Reservoir</td>\n",
              "      <td>NaN</td>\n",
              "      <td>Swift</td>\n",
              "      <td>DCW</td>\n",
              "      <td>14.4</td>\n",
              "      <td>31.8</td>\n",
              "      <td>-122.11</td>\n",
              "      <td>46.06</td>\n",
              "      <td>292</td>\n",
              "      <td>1.3</td>\n",
              "      <td>61.2</td>\n",
              "      <td>0.93</td>\n",
              "      <td>ICOLD_LRs</td>\n",
              "      <td>United States</td>\n",
              "      <td>NaN</td>\n",
              "      <td>Lewis</td>\n",
              "      <td>Cougar</td>\n",
              "      <td>NaN</td>\n",
              "      <td>NaN</td>\n",
              "      <td>19.0</td>\n",
              "      <td>ICOLD</td>\n",
              "      <td>1246.0</td>\n",
              "      <td>186.0</td>\n",
              "      <td>1958.0</td>\n",
              "      <td>h</td>\n",
              "      <td>c</td>\n",
              "      <td>r</td>\n",
              "    </tr>\n",
              "    <tr>\n",
              "      <th>3717</th>\n",
              "      <td>3718</td>\n",
              "      <td>Reservoir</td>\n",
              "      <td>NaN</td>\n",
              "      <td>New Bullards Bar</td>\n",
              "      <td>DCW</td>\n",
              "      <td>13.0</td>\n",
              "      <td>37.1</td>\n",
              "      <td>-121.13</td>\n",
              "      <td>39.44</td>\n",
              "      <td>583</td>\n",
              "      <td>1.3</td>\n",
              "      <td>20.6</td>\n",
              "      <td>0.90</td>\n",
              "      <td>ICOLD</td>\n",
              "      <td>United States</td>\n",
              "      <td>NaN</td>\n",
              "      <td>N. Yuba</td>\n",
              "      <td>Marysville</td>\n",
              "      <td>NaN</td>\n",
              "      <td>NaN</td>\n",
              "      <td>19.0</td>\n",
              "      <td>ICOLD</td>\n",
              "      <td>0.0</td>\n",
              "      <td>194.0</td>\n",
              "      <td>1970.0</td>\n",
              "      <td>s</td>\n",
              "      <td>h</td>\n",
              "      <td>f</td>\n",
              "    </tr>\n",
              "    <tr>\n",
              "      <th>3718</th>\n",
              "      <td>3719</td>\n",
              "      <td>Reservoir</td>\n",
              "      <td>NaN</td>\n",
              "      <td>Callada</td>\n",
              "      <td>DCW</td>\n",
              "      <td>12.7</td>\n",
              "      <td>34.8</td>\n",
              "      <td>77.17</td>\n",
              "      <td>8.53</td>\n",
              "      <td>122</td>\n",
              "      <td>0.1</td>\n",
              "      <td>0.8</td>\n",
              "      <td>0.50</td>\n",
              "      <td>LRs</td>\n",
              "      <td>India</td>\n",
              "      <td>NaN</td>\n",
              "      <td>Callada</td>\n",
              "      <td>Trivandrum</td>\n",
              "      <td>NaN</td>\n",
              "      <td>NaN</td>\n",
              "      <td>51.0</td>\n",
              "      <td>LRs_cor</td>\n",
              "      <td>0.0</td>\n",
              "      <td>85.0</td>\n",
              "      <td>0.0</td>\n",
              "      <td>NaN</td>\n",
              "      <td>NaN</td>\n",
              "      <td>NaN</td>\n",
              "    </tr>\n",
              "    <tr>\n",
              "      <th>3719</th>\n",
              "      <td>3720</td>\n",
              "      <td>Reservoir</td>\n",
              "      <td>NaN</td>\n",
              "      <td>Lois(Scanlon)</td>\n",
              "      <td>DCW</td>\n",
              "      <td>12.2</td>\n",
              "      <td>29.8</td>\n",
              "      <td>-124.41</td>\n",
              "      <td>49.92</td>\n",
              "      <td>208</td>\n",
              "      <td>0.1</td>\n",
              "      <td>1.8</td>\n",
              "      <td>0.56</td>\n",
              "      <td>ICOLD_LRs</td>\n",
              "      <td>Canada</td>\n",
              "      <td>NaN</td>\n",
              "      <td>Lois</td>\n",
              "      <td>Powell River</td>\n",
              "      <td>NaN</td>\n",
              "      <td>NaN</td>\n",
              "      <td>30.0</td>\n",
              "      <td>Statistics</td>\n",
              "      <td>0.0</td>\n",
              "      <td>64.0</td>\n",
              "      <td>1941.0</td>\n",
              "      <td>h</td>\n",
              "      <td>NaN</td>\n",
              "      <td>NaN</td>\n",
              "    </tr>\n",
              "    <tr>\n",
              "      <th>3720</th>\n",
              "      <td>3721</td>\n",
              "      <td>Reservoir</td>\n",
              "      <td>NaN</td>\n",
              "      <td>New Melones</td>\n",
              "      <td>DCW</td>\n",
              "      <td>11.6</td>\n",
              "      <td>31.9</td>\n",
              "      <td>-120.52</td>\n",
              "      <td>37.98</td>\n",
              "      <td>305</td>\n",
              "      <td>2.4</td>\n",
              "      <td>38.9</td>\n",
              "      <td>1.47</td>\n",
              "      <td>ICOLD</td>\n",
              "      <td>United States</td>\n",
              "      <td>NaN</td>\n",
              "      <td>Stanislaus</td>\n",
              "      <td>Modesto</td>\n",
              "      <td>NaN</td>\n",
              "      <td>NaN</td>\n",
              "      <td>54.0</td>\n",
              "      <td>ICOLD</td>\n",
              "      <td>2323.0</td>\n",
              "      <td>191.0</td>\n",
              "      <td>1979.0</td>\n",
              "      <td>i</td>\n",
              "      <td>c</td>\n",
              "      <td>h</td>\n",
              "    </tr>\n",
              "  </tbody>\n",
              "</table>\n",
              "<p>3721 rows × 28 columns</p>\n",
              "</div>"
            ],
            "text/plain": [
              "      GLWD_ID       TYPE      LAKE_NAME  ... USE_1 USE_2  USE_3\n",
              "0           1       Lake    Caspian Sea  ...   NaN   NaN    NaN\n",
              "1           2       Lake  Lake Superior  ...   NaN   NaN    NaN\n",
              "2           3       Lake  Lake Victoria  ...     i     h    NaN\n",
              "3           4       Lake       Aral Sea  ...   NaN   NaN    NaN\n",
              "4           5       Lake     Lake Huron  ...   NaN   NaN    NaN\n",
              "...       ...        ...            ...  ...   ...   ...    ...\n",
              "3716     3717  Reservoir            NaN  ...     h     c      r\n",
              "3717     3718  Reservoir            NaN  ...     s     h      f\n",
              "3718     3719  Reservoir            NaN  ...   NaN   NaN    NaN\n",
              "3719     3720  Reservoir            NaN  ...     h   NaN    NaN\n",
              "3720     3721  Reservoir            NaN  ...     i     c      h\n",
              "\n",
              "[3721 rows x 28 columns]"
            ]
          },
          "metadata": {
            "tags": []
          },
          "execution_count": 14
        }
      ]
    },
    {
      "cell_type": "code",
      "metadata": {
        "id": "F0hW1KCH_rAb",
        "outputId": "1b1843b5-db2d-4ea5-b416-93ebd732963c",
        "colab": {
          "base_uri": "https://localhost:8080/",
          "height": 282
        }
      },
      "source": [
        "#glwd1[\"ELEV_M\"].hist(weights=glwd1[\"AREA_SKM\"])#(hist_kws={'weights':df.wt.values})\n",
        "#glwd1[\"ELEV_M\"].hist()\n",
        "glwd1[\"LAT_DEG\"].hist(bins=20)"
      ],
      "execution_count": 26,
      "outputs": [
        {
          "output_type": "execute_result",
          "data": {
            "text/plain": [
              "<matplotlib.axes._subplots.AxesSubplot at 0x7ffa9581a7f0>"
            ]
          },
          "metadata": {
            "tags": []
          },
          "execution_count": 26
        },
        {
          "output_type": "display_data",
          "data": {
            "image/png": "[encoded data removed]",
            "text/plain": [
              "<Figure size 432x288 with 1 Axes>"
            ]
          },
          "metadata": {
            "tags": [],
            "needs_background": "light"
          }
        }
      ]
    },
    {
      "cell_type": "code",
      "metadata": {
        "id": "hvrUpSXiDo-4",
        "outputId": "0c2aed6b-f966-48ff-da60-2871085674d3",
        "colab": {
          "base_uri": "https://localhost:8080/",
          "height": 282
        }
      },
      "source": [
        "glwd1[\"LAT_DEG\"].hist(bins=20, weights=glwd1[\"AREA_SKM\"])"
      ],
      "execution_count": 27,
      "outputs": [
        {
          "output_type": "execute_result",
          "data": {
            "text/plain": [
              "<matplotlib.axes._subplots.AxesSubplot at 0x7ffa95330b70>"
            ]
          },
          "metadata": {
            "tags": []
          },
          "execution_count": 27
        },
        {
          "output_type": "display_data",
          "data": {
            "image/png": "[encoded data removed]",
            "text/plain": [
              "<Figure size 432x288 with 1 Axes>"
            ]
          },
          "metadata": {
            "tags": [],
            "needs_background": "light"
          }
        }
      ]
    },
    {
      "cell_type": "code",
      "metadata": {
        "id": "bfDocKRDEmab"
      },
      "source": [
        "(glwd1[\"\"])\n",
        "# join the datasets to see impact of small lakes on above\n",
        "# Also compactness measure"
      ],
      "execution_count": null,
      "outputs": []
    },
    {
      "cell_type": "markdown",
      "metadata": {
        "id": "MD7R-suOujsI"
      },
      "source": [
        "# Part 5.6 - Data Story Telling - *Mini-lecture*"
      ]
    },
    {
      "cell_type": "markdown",
      "metadata": {
        "id": "2pFCb_ffunXS"
      },
      "source": [
        "# Part 5.7 - \"How do I do that?\" Open Session - *Workshop/Discussion*\n",
        "Open discussion and workshop on any python or data science topic of interest."
      ]
    },
    {
      "cell_type": "code",
      "metadata": {
        "id": "lYmfzx64um6w"
      },
      "source": [
        ""
      ],
      "execution_count": null,
      "outputs": []
    },
    {
      "cell_type": "markdown",
      "metadata": {
        "id": "noqaxCyeu0Gl"
      },
      "source": [
        "# Part 5.8 - Assignment"
      ]
    },
    {
      "cell_type": "markdown",
      "metadata": {
        "id": "Y0DcKrm1u2ii"
      },
      "source": [
        "#References"
      ]
    }
  ]
}