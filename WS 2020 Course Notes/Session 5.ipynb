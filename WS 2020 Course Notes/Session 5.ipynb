{
  "nbformat": 4,
  "nbformat_minor": 0,
  "metadata": {
    "colab": {
      "name": "Session 5.ipynb",
      "provenance": [],
      "toc_visible": true,
      "authorship_tag": "ABX9TyMBCajQ92MQriHJklYOJe/E",
      "include_colab_link": true
    },
    "kernelspec": {
      "name": "python3",
      "display_name": "Python 3"
    }
  },
  "cells": [
    {
      "cell_type": "markdown",
      "metadata": {
        "id": "view-in-github",
        "colab_type": "text"
      },
      "source": [
        "<a href=\"https://colab.research.google.com/github/ds4geo/ds4geo/blob/master/WS%202020%20Course%20Notes/Session%205.ipynb\" target=\"_parent\"><img src=\"https://colab.research.google.com/assets/colab-badge.svg\" alt=\"Open In Colab\"/></a>"
      ]
    },
    {
      "cell_type": "markdown",
      "metadata": {
        "id": "Do_8_lVv88uX"
      },
      "source": [
        "# To Do\n",
        "\n",
        "* Student assignment submissions link.\n",
        "\n",
        "**Other**\n",
        "* Submission method\n",
        "* References\n",
        "\n",
        "\n",
        "* Create separate solutions notebook\n",
        "* Enable output cells\n",
        "* Final go-through and checks"
      ]
    },
    {
      "cell_type": "markdown",
      "metadata": {
        "id": "pIsCL6JYm2bk"
      },
      "source": [
        "# **Data Science for Geoscientists - Winter Semester 2020**\n",
        "# **Session 5 - Data Story Telling - 4th November 2020**"
      ]
    },
    {
      "cell_type": "markdown",
      "metadata": {
        "id": "YEL0Cwnfm36b"
      },
      "source": [
        "Weather assignment discuss\n",
        "\n",
        "Simple stats, mean --> kde\n",
        "\n",
        "Data story telling\n",
        "\n",
        "How do I do that open workshop\n",
        "\n",
        "Assignment: weather 2"
      ]
    },
    {
      "cell_type": "markdown",
      "metadata": {
        "id": "qJE4U_5pPN0q"
      },
      "source": [
        "# Part 5.1 - Weather data assignment review - *Discussion*\n",
        "We will look at the assignment submissions and discuss the conclusions (what is the weather like in these cities?) and the effectiveness of the analysis, visualisations and story-telling."
      ]
    },
    {
      "cell_type": "code",
      "metadata": {
        "id": "pi1X-nHbmscW"
      },
      "source": [
        ""
      ],
      "execution_count": null,
      "outputs": []
    },
    {
      "cell_type": "markdown",
      "metadata": {
        "id": "8Aoo3WubaHwl"
      },
      "source": [
        "# Part 5.2 - Statistics: Describing data part 1 - *Workshop*\n",
        "It is useful to be able to describe datasets statistically to summarise their properties.\n",
        "\n",
        "You are provided with 4 small datasets each containing 2 variables (x and y). Describe the datasets by simple statistics (e.g. mean, range, linear regression/correlation coefficient - see if Scipy has a useful function).\n",
        "\n",
        "**Do not plot the data or closely inspect the individual data points** (we will do this later).\n",
        "\n",
        "On the basis of the statistics, comment on these datasets."
      ]
    },
    {
      "cell_type": "code",
      "metadata": {
        "id": "n-dijd5eajli"
      },
      "source": [
        "import pandas as pd\n",
        "from scipy import stats"
      ],
      "execution_count": null,
      "outputs": []
    },
    {
      "cell_type": "code",
      "metadata": {
        "id": "74VZmb-BastV"
      },
      "source": [
        "'''\n",
        "Load the data from here: \"/content/sample_data/anscombe.json\"\n",
        "format is json - find a pandas function to load it\n",
        "'''"
      ],
      "execution_count": null,
      "outputs": []
    },
    {
      "cell_type": "code",
      "metadata": {
        "id": "VwZuGpzja-yf"
      },
      "source": [
        "'''# The 4 datasets are in the same json file (and therefore loaded Pandas DataFrame)\n",
        "They can be distinguished by a column called \"Series\" with values: [\"I\", \"II\", \"III\", \"IV\"]\n",
        "In Pandas, you can select e.g. all the rows of Series I as follows:\n",
        "dat.loc[dat.Series==\"I\"]\n",
        "'''\n"
      ],
      "execution_count": null,
      "outputs": []
    },
    {
      "cell_type": "code",
      "metadata": {
        "id": "FLp0iobRdyjY"
      },
      "source": [
        "### ANSWERS\n",
        "import pandas as pd\n",
        "from scipy import stats\n",
        "dat = pd.read_json(\"/content/sample_data/anscombe.json\")\n",
        "# Select one of the datasets:\n",
        "series_names = [\"I\", \"II\", \"III\", \"IV\"]\n",
        "for n in series_names:\n",
        "  print(dat.loc[dat.Series==n].mean()) # same for std, max, min, etc.\n",
        "  sdat = dat.loc[dat.Series==n]\n",
        "  print(stats.linregress(sdat.X, sdat.Y))"
      ],
      "execution_count": null,
      "outputs": []
    },
    {
      "cell_type": "markdown",
      "metadata": {
        "id": "6HJHklGQakDj"
      },
      "source": [
        "# Part 5.3 - Anscombe's Quartet - *Workshop/Discussion*\n",
        "First we discuss the conclusions of the previous excercise.\n",
        "\n",
        "Then plot each of the datasets. Do you have any additional comments/conclusions?\n",
        "\n",
        "You can read more about Anscombe's Quartet here:\n",
        "\n",
        "**DO NOT read this until you have completed the excercise!**\n",
        "\n",
        "https://en.wikipedia.org/wiki/Anscombe%27s_quartet\n"
      ]
    },
    {
      "cell_type": "code",
      "metadata": {
        "id": "nrsM9VIqfGoy"
      },
      "source": [
        ""
      ],
      "execution_count": null,
      "outputs": []
    },
    {
      "cell_type": "code",
      "metadata": {
        "id": "5LexIQ1QfFSR"
      },
      "source": [
        "#### ANSWERs"
      ],
      "execution_count": null,
      "outputs": []
    },
    {
      "cell_type": "markdown",
      "metadata": {
        "id": "PFP_GxspfvNR"
      },
      "source": [
        "#Part 5.4 - Univariate Statistics (briefly) - *Mini-lecture*\n"
      ]
    },
    {
      "cell_type": "markdown",
      "metadata": {
        "id": "4xwV5W3ffvK_"
      },
      "source": [
        "# Part 5.5 - Describing data part 2 - *Workshop*"
      ]
    }
  ]
}