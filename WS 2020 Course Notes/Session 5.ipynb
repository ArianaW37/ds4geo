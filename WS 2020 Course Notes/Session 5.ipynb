{
  "nbformat": 4,
  "nbformat_minor": 0,
  "metadata": {
    "colab": {
      "name": "Session 5.ipynb",
      "provenance": [],
      "authorship_tag": "ABX9TyPMxVBtlwFoRh17UzsAppsq",
      "include_colab_link": true
    },
    "kernelspec": {
      "name": "python3",
      "display_name": "Python 3"
    }
  },
  "cells": [
    {
      "cell_type": "markdown",
      "metadata": {
        "id": "view-in-github",
        "colab_type": "text"
      },
      "source": [
        "<a href=\"https://colab.research.google.com/github/ds4geo/ds4geo/blob/master/Session_5.ipynb\" target=\"_parent\"><img src=\"https://colab.research.google.com/assets/colab-badge.svg\" alt=\"Open In Colab\"/></a>"
      ]
    },
    {
      "cell_type": "markdown",
      "metadata": {
        "id": "pIsCL6JYm2bk",
        "colab_type": "text"
      },
      "source": [
        "Session 5"
      ]
    },
    {
      "cell_type": "markdown",
      "metadata": {
        "id": "YEL0Cwnfm36b",
        "colab_type": "text"
      },
      "source": [
        "Weather assignment discuss\n",
        "Simple stats, mean --> kde\n",
        "Data story telling\n",
        "How do I do that open workshop\n",
        "Assignment: weather 2"
      ]
    },
    {
      "cell_type": "code",
      "metadata": {
        "id": "pi1X-nHbmscW",
        "colab_type": "code",
        "colab": {}
      },
      "source": [
        ""
      ],
      "execution_count": null,
      "outputs": []
    }
  ]
}
