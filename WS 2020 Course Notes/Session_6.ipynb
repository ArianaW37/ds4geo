{
  "nbformat": 4,
  "nbformat_minor": 0,
  "metadata": {
    "colab": {
      "name": "Session 6.ipynb",
      "provenance": [],
      "authorship_tag": "ABX9TyNLt2M/LLToSjmkq1yl4Bd5",
      "include_colab_link": true
    },
    "kernelspec": {
      "name": "python3",
      "display_name": "Python 3"
    }
  },
  "cells": [
    {
      "cell_type": "markdown",
      "metadata": {
        "id": "view-in-github",
        "colab_type": "text"
      },
      "source": [
        "<a href=\"https://colab.research.google.com/github/ds4geo/ds4geo/blob/master/WS%202020%20Course%20Notes/Session_6.ipynb\" target=\"_parent\"><img src=\"https://colab.research.google.com/assets/colab-badge.svg\" alt=\"Open In Colab\"/></a>"
      ]
    },
    {
      "cell_type": "markdown",
      "metadata": {
        "id": "nxwb308wnGd2",
        "colab_type": "text"
      },
      "source": [
        "Session 6"
      ]
    },
    {
      "cell_type": "markdown",
      "metadata": {
        "id": "260v-T44nGQv",
        "colab_type": "text"
      },
      "source": [
        "Multivariate stats, regressions, curve fitting\n",
        "Introduce main project"
      ]
    },
    {
      "cell_type": "code",
      "metadata": {
        "id": "35PczK1ZnDKo",
        "colab_type": "code",
        "colab": {}
      },
      "source": [
        ""
      ],
      "execution_count": null,
      "outputs": []
    }
  ]
}