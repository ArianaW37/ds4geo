{
  "nbformat": 4,
  "nbformat_minor": 0,
  "metadata": {
    "colab": {
      "name": "Session 10.ipynb",
      "provenance": [],
      "authorship_tag": "ABX9TyO+P6b9LhOtnTsbId5q0hcy",
      "include_colab_link": true
    },
    "kernelspec": {
      "name": "python3",
      "display_name": "Python 3"
    }
  },
  "cells": [
    {
      "cell_type": "markdown",
      "metadata": {
        "id": "view-in-github",
        "colab_type": "text"
      },
      "source": [
        "<a href=\"https://colab.research.google.com/github/ds4geo/ds4geo/blob/master/WS%202020%20Course%20Notes/Session%2010.ipynb\" target=\"_parent\"><img src=\"https://colab.research.google.com/assets/colab-badge.svg\" alt=\"Open In Colab\"/></a>"
      ]
    },
    {
      "cell_type": "markdown",
      "metadata": {
        "id": "bddO_Fy1oYFx",
        "colab_type": "text"
      },
      "source": [
        "Session 10"
      ]
    },
    {
      "cell_type": "markdown",
      "metadata": {
        "id": "sOZUC1B9oX71",
        "colab_type": "text"
      },
      "source": [
        "Scientific computing and collaboration\n",
        "\n",
        "http://yo-yehudi.com/2020/09/14/on-preparing-your-code-for-publication.html"
      ]
    },
    {
      "cell_type": "code",
      "metadata": {
        "id": "QHFYPRi9oVx8",
        "colab_type": "code",
        "colab": {}
      },
      "source": [
        ""
      ],
      "execution_count": null,
      "outputs": []
    }
  ]
}