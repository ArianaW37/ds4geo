{
  "nbformat": 4,
  "nbformat_minor": 0,
  "metadata": {
    "colab": {
      "name": "DS4GEO_L2.ipynb",
      "provenance": [],
      "private_outputs": true,
      "toc_visible": true,
      "authorship_tag": "ABX9TyM0ArvJpPxnaFciIEJPicB0",
      "include_colab_link": true
    },
    "kernelspec": {
      "name": "python3",
      "display_name": "Python 3"
    }
  },
  "cells": [
    {
      "cell_type": "markdown",
      "metadata": {
        "id": "view-in-github",
        "colab_type": "text"
      },
      "source": [
        "<a href=\"https://colab.research.google.com/github/ds4geo/ds4geo/blob/master/WS%202020%20Course%20Notes/Session%202.ipynb\" target=\"_parent\"><img src=\"https://colab.research.google.com/assets/colab-badge.svg\" alt=\"Open In Colab\"/></a>"
      ]
    },
    {
      "cell_type": "markdown",
      "metadata": {
        "id": "dpljx4eBphz6"
      },
      "source": [
        "# To Do\n",
        "\n",
        "\n",
        "----\n",
        "\n",
        "* Student submitted dataset short note\n",
        "* update object based plotting so it works in this notebook\n",
        "* References\n",
        "* Create separate solutions notebook\n",
        "* Enable output cells\n",
        "* Final go-through and checks\n"
      ]
    },
    {
      "cell_type": "markdown",
      "metadata": {
        "id": "b3yfRRs6n8q0"
      },
      "source": [
        "# **Data Science for Geoscientists - Winter Semester 2020**\n",
        "# **Session 2 - Python Basics for Data Science - 14th October 2020**\n",
        "\n",
        "In the previous session, we handled data in a very simple way using the Pandas library. In this session we will introduce some basic python object types for handling data, and learn how to index/slice data (extract only certain parts of the data/object). Specifically, we will cover lists and dictionaries. We will also introduce the two most important python flow controls: if statements and for loops.\n",
        "\n",
        "\n",
        "\n"
      ]
    },
    {
      "cell_type": "markdown",
      "metadata": {
        "id": "wFeaRSt9TrSw"
      },
      "source": [
        "# Part 2.1 - Data Icebreaker - Data Skepticism - *Discussion*\n",
        "Discussion: The United States is the largest exporter of agricultural products in the world. Which country is second? Discuss why."
      ]
    },
    {
      "cell_type": "markdown",
      "metadata": {
        "id": "-sud-tcI8wph"
      },
      "source": [
        "# Part 2.2 - Student Submitted Datasets - Discussion\n",
        "*update and create index - student submitted data sets here: https://github.com/ds4geo/ds4geo/tree/master/data/student_submitted*"
      ]
    },
    {
      "cell_type": "markdown",
      "metadata": {
        "id": "p003MrAa9K7R"
      },
      "source": [
        "# Part 2.3 - Python Objects - *Walkthrough*\n",
        "\n",
        "Python has a number of in-built object types. More are provided by imported libraries, and it is possible to create new types.\n",
        "The type of an object determines how/what data is stored and what can be done with the object."
      ]
    },
    {
      "cell_type": "code",
      "metadata": {
        "id": "wayBUiQqKjhi"
      },
      "source": [
        "# Create object/variable \"a\" and assign integer value 5\n",
        "a = 5\n",
        "# See which type \"a\" is\n",
        "type(a)"
      ],
      "execution_count": null,
      "outputs": []
    },
    {
      "cell_type": "code",
      "metadata": {
        "id": "vZZyzHwtm-n9"
      },
      "source": [
        "# Add an int to an int\n",
        "a + 2"
      ],
      "execution_count": null,
      "outputs": []
    },
    {
      "cell_type": "code",
      "metadata": {
        "id": "8Sl5KaDtm-kS"
      },
      "source": [
        "# Create object \"b\" and assign float value 2.5\n",
        "b = 2.5\n",
        "# See which type \"b\" is\n",
        "type(b)"
      ],
      "execution_count": null,
      "outputs": []
    },
    {
      "cell_type": "code",
      "metadata": {
        "id": "0bxcqi5Im-Zk"
      },
      "source": [
        "# Add an integer and a float\n",
        "a+b"
      ],
      "execution_count": null,
      "outputs": []
    },
    {
      "cell_type": "code",
      "metadata": {
        "id": "ekgu4BVCnHzn"
      },
      "source": [
        "# Create some strings\n",
        "c = \"Geology \"\n",
        "d = \"Rocks!\"\n",
        "type(c)"
      ],
      "execution_count": null,
      "outputs": []
    },
    {
      "cell_type": "code",
      "metadata": {
        "id": "U23_ROqSnHw8"
      },
      "source": [
        "# Concatenate strings with the + operator\n",
        "c+d"
      ],
      "execution_count": null,
      "outputs": []
    },
    {
      "cell_type": "code",
      "metadata": {
        "id": "hFzyW0-mnHn3"
      },
      "source": [
        "# Create a list out of the objects we just made\n",
        "e = [a, b, c, d]\n",
        "type(e)"
      ],
      "execution_count": null,
      "outputs": []
    },
    {
      "cell_type": "code",
      "metadata": {
        "id": "0sicLJURoc1s"
      },
      "source": [
        "# View e\n",
        "e"
      ],
      "execution_count": null,
      "outputs": []
    },
    {
      "cell_type": "code",
      "metadata": {
        "id": "VL_b3cNDsNRR"
      },
      "source": [
        "# Get help and info on an object:\n",
        "e?"
      ],
      "execution_count": null,
      "outputs": []
    },
    {
      "cell_type": "code",
      "metadata": {
        "id": "4fqK4pwuokqF"
      },
      "source": [
        "# Objects have methods depending on their type. Methods are functions applied on\n",
        "# an object.\n",
        "# Use dir to list object methods. Ignore those with form __x__\n",
        "dir(e)"
      ],
      "execution_count": null,
      "outputs": []
    },
    {
      "cell_type": "code",
      "metadata": {
        "id": "9pHuwZ3Lsj3N"
      },
      "source": [
        "# See help on \"append\" method\n",
        "e.append?"
      ],
      "execution_count": null,
      "outputs": []
    },
    {
      "cell_type": "code",
      "metadata": {
        "id": "D2JKNHAls5R1"
      },
      "source": [
        "# Try appending something\n",
        "e.append(\"(Not really!)\")\n",
        "e"
      ],
      "execution_count": null,
      "outputs": []
    },
    {
      "cell_type": "code",
      "metadata": {
        "id": "YdKY5E5ztB0S"
      },
      "source": [
        "# That's not right, perhaps the \"remove\" method can help:\n",
        "e.remove(\"(Not really!)\")\n",
        "e"
      ],
      "execution_count": null,
      "outputs": []
    },
    {
      "cell_type": "code",
      "metadata": {
        "id": "LGY3SsKGtza3"
      },
      "source": [
        "# Overview of built-in types\n",
        "# Most common:\n",
        "my_list = [1,2,3] # list\n",
        "my_string = \"geology rocks\" # string\n",
        "my_int = 1 # integer\n",
        "my_float = 1.5 # float\n",
        "my_bool = True # boolean\n",
        "my_tuple = (1,2,3) # tuple\n",
        "my_dict = {\"key\": 2} # dictionary\n",
        "my_set = {1,2,3} # set\n",
        "\n",
        "# Code related types\n",
        "import pandas as pd\n",
        "pd # module\n",
        "pd.read_csv # function\n",
        "\"geology rocks\".strip # method or function"
      ],
      "execution_count": null,
      "outputs": []
    },
    {
      "cell_type": "markdown",
      "metadata": {
        "id": "EzeDN1bi9g5l"
      },
      "source": [
        "For more detail see:\n",
        "\n",
        "*   Cheat sheet - https://www.datacamp.com/community/tutorials/python-data-science-cheat-sheet-basics\n",
        "*   Good visualisation about lists - https://medium.com/@meghamohan/mutable-and-immutable-side-of-python-c2145cf72747\n",
        "*   Colab notebook examples - https://colab.research.google.com/github/jakevdp/PythonDataScienceHandbook/blob/master/notebooks/02.01-Understanding-Data-Types.ipynb\n",
        "*   Python docs on built-in types and their methods - https://docs.python.org/3/library/stdtypes.html\n",
        "\n"
      ]
    },
    {
      "cell_type": "markdown",
      "metadata": {
        "id": "1QMoY59BoZBt"
      },
      "source": [
        "# Part 2.4 - Lists, Dictionaries and Indexing - *Walkthrough*\n",
        "\n",
        "Lists and dictionaries are built-in python objects useful for storing and handling data."
      ]
    },
    {
      "cell_type": "markdown",
      "metadata": {
        "id": "JUvoXMscfpfj"
      },
      "source": [
        "## 2.2.1 - Lists\n",
        "Python lists are ordered collections of other python objects, separated by commas. They are defined by square brackets [ ]"
      ]
    },
    {
      "cell_type": "code",
      "metadata": {
        "id": "4RsAroYgmrqY"
      },
      "source": [
        "a = [1,2,3] # List of integers\n",
        "print(\"a:\", a)\n",
        "\n",
        "b = [1.5, 2.5, 3.5] # List of floats\n",
        "print(\"b:\", b)"
      ],
      "execution_count": null,
      "outputs": []
    },
    {
      "cell_type": "code",
      "metadata": {
        "id": "MA3ekiYUgY8p"
      },
      "source": [
        "# Lists can contain different types\n",
        "c = [1, \"data\", 2.5]\n",
        "print(\"b:\", b)\n",
        "\n",
        "# Including other lists (nested)\n",
        "d = [[1,2,3], [4,5,6]]\n",
        "print(\"d:\", d)\n",
        "\n",
        "e = [a, b]\n",
        "print(\"e:\", e)"
      ],
      "execution_count": null,
      "outputs": []
    },
    {
      "cell_type": "code",
      "metadata": {
        "id": "gzjXALvu71A1"
      },
      "source": [
        "# They can contain any other python objects\n",
        "import pandas as pd\n",
        "import numpy as np\n",
        "import matplotlib.pyplot as plt\n",
        "f = [pd, np, plt] # But there's no reason to actually do this\n",
        "print(\"f:\", f)"
      ],
      "execution_count": null,
      "outputs": []
    },
    {
      "cell_type": "code",
      "metadata": {
        "id": "wEnPisV-8UT5"
      },
      "source": [
        "# Earlier, you'll recall dir() can be used to find methods on objects\n",
        "a = [1, 2, 3]\n",
        "# Append adds a new item to the end of a list\n",
        "a.append(4)\n",
        "print(\"a:\", a)\n",
        "\n",
        "# Extend joins to lists *in place*\n",
        "a.extend(b) # notice we don't assign a result\n",
        "print(\"a:\", a)\n",
        "# + operator when applied to two lists but not *in place*:\n",
        "h = a + b\n",
        "print(\"h:\", h)\n",
        "\n",
        "# sort does what it suggests, in place\n",
        "a.sort()\n",
        "print(\"a:\", a)"
      ],
      "execution_count": null,
      "outputs": []
    },
    {
      "cell_type": "code",
      "metadata": {
        "id": "lKvxYMn-8JD5"
      },
      "source": [
        "# Tuples are another type very similar to lists except they can't be modified\n",
        "# i.e. you cannot append to a tuple\n",
        "# They are defined by parentheses ( ) instead of [ ]\n",
        "a_tuple = (1, 2, 3)\n",
        "print(\"a_tuple:\", a_tuple)\n",
        "\n",
        "# The specific reasons for using tuples complex.\n",
        "# You will see them in documentation, but usually you can just use a list"
      ],
      "execution_count": null,
      "outputs": []
    },
    {
      "cell_type": "markdown",
      "metadata": {
        "id": "wKya8c8A-KeZ"
      },
      "source": [
        "## 2.2.2 - Dictionaries\n",
        "Python dictionaries are un-ordered collections of pairs known as keys and values. They function like language dictionaries where you look up a word (they key) and see its definition or translation (value).\n",
        "They are defined with braces { }, separated by commas, and colons : indicate the key-value relationships."
      ]
    },
    {
      "cell_type": "code",
      "metadata": {
        "id": "jzjLEC7z-96o"
      },
      "source": [
        "# Create a simple German to English language dictionary\n",
        "De2En = {\"Bier\": \"Beer\", \"Wurst\": \"Sausage\"}\n",
        "\n",
        "# When making lists and dictionaries, you can wrap between lines for readability:\n",
        "De2En = {\"Bier\": \"Beer\",\n",
        "         \"Wurst\": \"Sausage\",\n",
        "         \"Kren\": \"Horseradish\"}\n"
      ],
      "execution_count": null,
      "outputs": []
    },
    {
      "cell_type": "code",
      "metadata": {
        "id": "VGWQ6DiUmXfv"
      },
      "source": [
        "# Values can be any python object, e.g. lists:\n",
        "rocks = {\"igneous\": [\"Granite\", \"Basalt\", \"Rhyolite\"],\n",
        "         \"Sedimentary\": [\"Sandstone\", \"Limestone\"]}\n",
        "\n",
        "# Keys can be some python objects (int, float, string, tuple), but not others (lists or dicts)\n",
        "# Keys and values do not all have to be the same type\n",
        "complex_dict = {0: \"zero\",\n",
        "                \"one point 5\": 1.5,\n",
        "                2.5: [\"two\", \"point\", \"five\"]}\n",
        "\n",
        "# Dictionaries can also be nested like lists.\n",
        "# Note the nesting is multi-line and aligned to improve readability\n",
        "rock_dict = {\"granite\": {\"type\": \"igneous\",\n",
        "                         \"composition\": {\"quartz\": 0.5,\n",
        "                                         \"feldspar\": 0.2},\n",
        "                         \"locations\": [(50.59671,-3.98289),\n",
        "                                       (50.59591,-4.61987)]},\n",
        "             \"sandstone\": {}}\n"
      ],
      "execution_count": null,
      "outputs": []
    },
    {
      "cell_type": "markdown",
      "metadata": {
        "id": "G8WSM2Z7_Mq0"
      },
      "source": [
        "## 2.2.3 - List and Dictionary Indexing\n",
        "You can select objects/data from lists and dictionaries using square brackets [ ].\n",
        "List indexing is based on numeric positions, while dictionary indexing is based on its keys.\n",
        "\n",
        "**Note** python positional indexing (for lists, numpy, pandas, etc) always starts at 0. i.e. the first item is 0. This might seem counter intuitive at first, but when combined with some other features of python, it actually simplifies code in many situations!"
      ]
    },
    {
      "cell_type": "code",
      "metadata": {
        "id": "Ktp65NaU_hFz"
      },
      "source": [
        "# Remind ourselves what is in variable \"c\"\n",
        "print(c)\n",
        "\n",
        "# Print positions 0, 1 and 2 of list \"c\"\n",
        "print(c[0])\n",
        "print(c[1])\n",
        "print(c[2])"
      ],
      "execution_count": null,
      "outputs": []
    },
    {
      "cell_type": "code",
      "metadata": {
        "id": "kUl0Hm56swWn"
      },
      "source": [
        "# If we try to index a position beyond the size of the list, we get an index error\n",
        "# Uncomment this line to try it.\n",
        "# (It is commented out so you can run all the code in this notebook without generating an error)\n",
        "#print(c[3])"
      ],
      "execution_count": null,
      "outputs": []
    },
    {
      "cell_type": "code",
      "metadata": {
        "id": "UPKTGv5gs9Zc"
      },
      "source": [
        "# List indexing also works with negative numbers in reverse, with -1 being the last index\n",
        "print(c)\n",
        "print(c[-1]) # the last item in c"
      ],
      "execution_count": null,
      "outputs": []
    },
    {
      "cell_type": "code",
      "metadata": {
        "id": "0pQdDsxdtAVD"
      },
      "source": [
        "# With nested objects, indexing can be stacked with sets of square brackets [ ][ ]\n",
        "print(d)\n",
        "print(d[1])\n",
        "print(d[1][2])"
      ],
      "execution_count": null,
      "outputs": []
    },
    {
      "cell_type": "code",
      "metadata": {
        "id": "o6LzIarTuicP"
      },
      "source": [
        "# Indexing tuples and strings works exactly the same way\n",
        "print(a_tuple)\n",
        "print(a_tuple[0])\n",
        "\n",
        "print(c)\n",
        "print(c[1])\n",
        "print(c[1][2])"
      ],
      "execution_count": null,
      "outputs": []
    },
    {
      "cell_type": "code",
      "metadata": {
        "id": "rcox6VdWuw4T"
      },
      "source": [
        "# For lists, tuples and strings (and numpy - see later), ranges also work.\n",
        "# Ranges are \"half-open\", i.e. include the first index, but not the last.\n",
        "# This is so when you use a range of e.g. 2:4, you get a result of length 2, despite indexing starting at 0\n",
        "print(a)\n",
        "print(a[2:4])"
      ],
      "execution_count": null,
      "outputs": []
    },
    {
      "cell_type": "code",
      "metadata": {
        "id": "XEXjAkKki02n"
      },
      "source": [
        "# Leaving out a number:\n",
        "# Everything after position 2:\n",
        "print(a[2:])\n",
        "# Everything before position 4:\n",
        "print(a[:4])"
      ],
      "execution_count": null,
      "outputs": []
    },
    {
      "cell_type": "code",
      "metadata": {
        "id": "U7jlEDI0i3M5"
      },
      "source": [
        "# A third number can be added to define the step.\n",
        "# for example, take every 2nd item from 0 to 5th position of a:\n",
        "print(a[0:5:2])\n",
        "# Or take every second item from the whole list:\n",
        "print(a[::2])"
      ],
      "execution_count": null,
      "outputs": []
    },
    {
      "cell_type": "code",
      "metadata": {
        "id": "BoHF-i6ExPp9"
      },
      "source": [
        "# Also useful is finding the length of lists, dicts and strings:\n",
        "print(\"length of list a:\", len(a))\n",
        "print(\"length of dict rocks:\", len(rocks))\n",
        "print(\"length of string in position 1 of list c:\", len(c[1]))"
      ],
      "execution_count": null,
      "outputs": []
    },
    {
      "cell_type": "code",
      "metadata": {
        "id": "E0XESPXRypsz"
      },
      "source": [
        "# Dictionaries are indexed by their keys:\n",
        "print(De2En[\"Bier\"])\n",
        "\n",
        "# And example of indexing nested objects\n",
        "print(rocks[\"igneous\"])\n",
        "print(rocks[\"igneous\"][1])\n",
        "print(rock_dict[\"granite\"])\n",
        "print(rock_dict[\"granite\"][\"composition\"])\n",
        "print(rock_dict[\"granite\"][\"composition\"][\"quartz\"])"
      ],
      "execution_count": null,
      "outputs": []
    },
    {
      "cell_type": "code",
      "metadata": {
        "id": "qxxkP3Z3z7rE"
      },
      "source": [
        "# You can also expand dictionaries using indexing assignment:\n",
        "De2En[\"Semmel\"] = \"Bread roll\"\n",
        "print(De2En)\n",
        "\n",
        "rocks[\"metamorphic\"] = [\"Gneiss, Schist\"]\n",
        "print(rocks)\n",
        "\n",
        "# And you can use methods on the objects indexed:\n",
        "rocks[\"igneous\"].append(\"Gabbro\")\n",
        "print(rocks)"
      ],
      "execution_count": null,
      "outputs": []
    },
    {
      "cell_type": "code",
      "metadata": {
        "id": "4tktNc5E0PLa"
      },
      "source": [
        ""
      ],
      "execution_count": null,
      "outputs": []
    },
    {
      "cell_type": "markdown",
      "metadata": {
        "id": "fsRGvHu6FvuE"
      },
      "source": [
        "# Part 2.5 - Indexing excercise - *Workshop*"
      ]
    },
    {
      "cell_type": "code",
      "metadata": {
        "id": "jKY-fbhLGAkm"
      },
      "source": [
        "# From this list\n",
        "base_list = [\"a\", \"b\", \"c\", \"d\", \"e\",\n",
        "             \"f\", \"g\", \"h\", \"i\", \"j\",\n",
        "             \"k\", \"l\", \"m\", \"n\", \"o\",\n",
        "             \"p\", \"q\", \"r\", \"s\", \"t\",\n",
        "             \"u\", \"v\", \"w\", \"x\", \"y\", \"z\"]"
      ],
      "execution_count": null,
      "outputs": []
    },
    {
      "cell_type": "code",
      "metadata": {
        "id": "OVZ1cH8qkbNf"
      },
      "source": [
        "# Create the following lists using indexing:\n",
        "# 1. [\"a\", \"b\", \"c\", \"d\", \"e\"]\n",
        "# 2. [\"x\", \"y\", \"z\"]\n",
        "# 3. [\"a\", \"f\", \"k\", \"p\", \"u\", \"z\"]\n",
        "# 4. [\"m\", \"p\", \"s\", \"v\", \"y\"]\n"
      ],
      "execution_count": null,
      "outputs": []
    },
    {
      "cell_type": "code",
      "metadata": {
        "id": "_Iwmic3QlKJQ"
      },
      "source": [
        "# 5. From the dictionary \"rock\", get the last sedimentary rock type\n",
        "# 6. From the dictionary \"complex_dict\", get the string \"five\"\n",
        "# 7. From the dictionary \"rock_dict\", get the y coordinate of the second location of granite\n"
      ],
      "execution_count": null,
      "outputs": []
    },
    {
      "cell_type": "markdown",
      "metadata": {
        "id": "sR5h6LKgnA6-"
      },
      "source": [
        "# Part 2.6 - Advanced/Object Based Plotting - *Workshop*\n",
        "\n",
        "Matplotlib provides a more advanced system for plotting and controlling figures. One explicitly creates figure and axes object and uses their methods to control all aspects of creating figures.\n",
        "\n",
        "**Task**:\n",
        "Create a plot with both the LR04 and NGRIP records (see see Session 1) with a shared x axis but separate y axes, and view only the time period covered by both records.\n",
        "\n",
        "Try using `plt.subplots` to create a figure and axis which you can then use for plotting. `ax.twinx` will also be useful.\n",
        "\n",
        "Use code completion and the help documentation. The help documentation usually contains a useful examples section.\n",
        "\n",
        "Remember to comment your code!"
      ]
    },
    {
      "cell_type": "code",
      "metadata": {
        "id": "v38zYwnZQhhr"
      },
      "source": [
        "### ANSWER\n",
        "# Load data as in previous session:\n",
        "dat_LR04 = pd.read_csv(\"https://raw.githubusercontent.com/ds4geo/ds4geo/master/data/timeseries/LR04stack.txt\", sep=\"\\t\", header=3)\n",
        "dat_LR04.columns = [\"Time\", \"d18O\", \"error\"]\n",
        "dat_NGRIP = pd.read_csv(\"https://raw.githubusercontent.com/ds4geo/ds4geo/master/data/timeseries/NGRIP_chronology_20.tab\", sep=\"\\t\", header=20)\n",
        "dat_NGRIP.columns = [\"age\", \"depth\", \"error\", \"d18O\"]"
      ],
      "execution_count": null,
      "outputs": []
    },
    {
      "cell_type": "code",
      "metadata": {
        "id": "FPGiPeh4K-PM"
      },
      "source": [
        "### ANSWER\n",
        "fig, ax = plt.subplots()\n",
        "# Create a second axis in the same location and with a linked x scale with ax.twinx()\n",
        "ax2 = ax.twinx()\n",
        "\n",
        "ax.plot(dat_NGRIP[\"age\"], dat_NGRIP[\"d18O\"], color=\"orange\", label=\"NGRIP\")\n",
        "ax2.plot(dat_LR04[\"Time\"], dat_LR04[\"d18O\"], color=\"blue\", label=\"LR04\")\n",
        "ax.set_xlim(0,45) # x axes are linked, so only need to set one of them\n",
        "ax2.set_ylim(5.5,3)\n",
        "# \n",
        "ax.set_xlabel(\"time (ka)\")\n",
        "ax.set_ylabel(\"NGRIP ice d18O\")\n",
        "ax2.set_ylabel(\"LR04 d18O d18O\")\n",
        "ax.set_title(\"Comparison of LR04 and NGRIP ice d18O for mid-MIS3 to present\")"
      ],
      "execution_count": null,
      "outputs": []
    },
    {
      "cell_type": "markdown",
      "metadata": {
        "id": "uUByJuKsb7y2"
      },
      "source": [
        "#Part 2.7 - Python flow controls - *Walkthrough*\n",
        "Flow controls turn scripting lists of commands into complex programs.\n",
        "There are two main types:\n",
        "* **If** statements which allow code to be executed based on a decision statement.\n",
        "* **Loops** which allow a program to run through the same block of code many times.\n",
        "If statements and loops are often used in combination.\n",
        "\n",
        "Most languages use parentheses or curly brackets to indicate the code which defines the decision or loop, along with the code to be executed based on the decision or within the loop. Python however follows a different approach.\n",
        "If statements and loops (along with a number of other more advanced statements) are defined by indentation with spaces or tabs. The number of spaces or tabs does not matter, but 4 spaces if typical.\n",
        "\n",
        "A helpful resource for constructing python code with flow controls from block diagrams can be found here (be sure to select python as the language):\n",
        "\n",
        "https://developers.google.com/blockly\n",
        "\n",
        "If you are not familiar with python syntax, this tool might be quite helpful!"
      ]
    },
    {
      "cell_type": "markdown",
      "metadata": {
        "id": "5mOchuoPcF4L"
      },
      "source": [
        "## Part 2.7.1 If statements\n",
        "If statements contain a condition which should evaluate to True or False, followed by an indented block to execute if the condition is True. Optionally also an else statement followed by a block to execute if the condition is False.\n",
        "\n",
        "```\n",
        "if <condition>:\n",
        "      <code if true>\n",
        "else:\n",
        "      <code if false>\n",
        "```\n"
      ]
    },
    {
      "cell_type": "code",
      "metadata": {
        "id": "fmUwjybEeYvs"
      },
      "source": [
        "a = 5\n",
        "if a > 1: # test, is a greater than 1\n",
        "  # Indented block with code if above is True\n",
        "  print(a, \"is greater than 1\")"
      ],
      "execution_count": null,
      "outputs": []
    },
    {
      "cell_type": "code",
      "metadata": {
        "id": "o82v_SSbmo9_"
      },
      "source": [
        "# This won't print anything\n",
        "a = 0\n",
        "if a > 1:\n",
        "  print(a, \"is greater than 1\")"
      ],
      "execution_count": null,
      "outputs": []
    },
    {
      "cell_type": "code",
      "metadata": {
        "id": "OByJ07Mymr_e"
      },
      "source": [
        "# Add an else - excecuted if the original if statement is False\n",
        "a = 0\n",
        "if a > 1:\n",
        "  print(a, \"is greater than 1\")\n",
        "else: # at indentation level of the original if\n",
        "  print(a, \"is less than 1\")"
      ],
      "execution_count": null,
      "outputs": []
    },
    {
      "cell_type": "code",
      "metadata": {
        "id": "5vW4ufBcqpcL"
      },
      "source": [
        "# Ifs (and loops) can be nested:\n",
        "a = 5\n",
        "if a > 1:\n",
        "  if a < 9:\n",
        "    print(a, \"is greater than 1 and less than 9\")\n",
        "  else: # Note the levels of indentation\n",
        "    print(a,\"is greater than 9\")\n",
        "else:\n",
        "  print(a,\"is less than 1\")\n",
        "\n",
        "# try different values of a"
      ],
      "execution_count": null,
      "outputs": []
    },
    {
      "cell_type": "code",
      "metadata": {
        "id": "xzMO-__prNVp"
      },
      "source": [
        "# We can use if statements to achieve complex things like:\n",
        "print(rocks)\n",
        "new_rock = \"Dolomite\"\n",
        "if new_rock not in rocks[\"Sedimentary\"]:\n",
        "  rocks[\"Sedimentary\"].append(new_rock)\n",
        "\n",
        "print(rocks)"
      ],
      "execution_count": null,
      "outputs": []
    },
    {
      "cell_type": "markdown",
      "metadata": {
        "id": "N6XORZivUIt1"
      },
      "source": [
        "## Part 2.7.2. (For) Loops\n",
        "The most common types of loop in python are for loops.\n",
        "For loops iterate over items in an iterable object (like a list). In other words: *for* each item in *x*, do *y*.\n",
        "We begin with the for statement, which defines the iterator and the variable name used to represent the individual items on each iteration of the loop, followed by the indented code to execute on each iteration:\n",
        "\n",
        "\n",
        "```\n",
        "for <item name> in <iterator>:\n",
        "        <code to execute>\n",
        "```\n",
        "\n",
        "\n"
      ]
    },
    {
      "cell_type": "code",
      "metadata": {
        "id": "LgpVv7Cqyfj5"
      },
      "source": [
        "print(b)\n",
        "# Print each item in \"b\", one, by one\n",
        "for i in b:\n",
        "  print(i)"
      ],
      "execution_count": null,
      "outputs": []
    },
    {
      "cell_type": "code",
      "metadata": {
        "id": "Q4PW-EbFkw01"
      },
      "source": [
        "# Iterating over a dictionary returns its keys\n",
        "print(rocks)\n",
        "for k in rocks:\n",
        "  print(k)"
      ],
      "execution_count": null,
      "outputs": []
    },
    {
      "cell_type": "code",
      "metadata": {
        "id": "cAVy5mO-lyWV"
      },
      "source": [
        "# Loops can be nested\n",
        "for k in rocks: # Loop over the dict keys\n",
        "  for r in rocks[k]: # loop over the list items which are the values of the dict\n",
        "    print(r, \"is a\", k, \"rock\")"
      ],
      "execution_count": null,
      "outputs": []
    },
    {
      "cell_type": "code",
      "metadata": {
        "id": "Jj7b3kHe11GK"
      },
      "source": [
        "# the built-in range function allows iterating over a series of integers\n",
        "# try range? to see the help docs\n",
        "for i in range(5):\n",
        "  print(i)"
      ],
      "execution_count": null,
      "outputs": []
    },
    {
      "cell_type": "code",
      "metadata": {
        "id": "FR8l9ZL8mk4A"
      },
      "source": [
        "# We can do more interesting things in the loop:\n",
        "for i in range(10):\n",
        "  # First 10 powers of 2\n",
        "  x = 2 ** i\n",
        "  print(x)"
      ],
      "execution_count": null,
      "outputs": []
    },
    {
      "cell_type": "code",
      "metadata": {
        "id": "MDwzogVjmhEB"
      },
      "source": [
        "# Its common to want to create a list out of the results of the loop.\n",
        "# Create an empty list:\n",
        "powers = []\n",
        "for i in range(10):\n",
        "  x = 2 ** i\n",
        "  # append the result to the list\n",
        "  powers.append(x)\n",
        "\n",
        "print(powers)\n"
      ],
      "execution_count": null,
      "outputs": []
    },
    {
      "cell_type": "code",
      "metadata": {
        "id": "3EonQOdMpE59"
      },
      "source": [
        "\"\"\"Sometimes its helpful to know the iteration number as well.\n",
        "When the iterator contains more than one value (e.g. with enumerate, zip,\n",
        "dict.items() or lists of lists), one can \"unpack\" them by providing multiple\n",
        "variable names in the for statement.\n",
        "\"\"\"\n",
        "for c, i in enumerate(rocks[\"igneous\"]): # c is counter, i is object\n",
        "  print(\"The number\",c,\" igenous rock is\", i)"
      ],
      "execution_count": null,
      "outputs": []
    },
    {
      "cell_type": "code",
      "metadata": {
        "id": "sjH7wJb1mg8r"
      },
      "source": [
        "# We can also combine loops and if statements:\n",
        "rocks_begining_with_g = []\n",
        "for rock in rocks[\"igneous\"]: # Loop over igneous rocks list\n",
        "  if rock[0] == \"G\": # See if first letter is G\n",
        "    rocks_begining_with_g.append(rock) # If so, append to list\n",
        "print(rocks_begining_with_g)"
      ],
      "execution_count": null,
      "outputs": []
    },
    {
      "cell_type": "markdown",
      "metadata": {
        "id": "gi8R6RgvGH0t"
      },
      "source": [
        "# Part 2.8 - Flow control excercise - *Workshop*"
      ]
    },
    {
      "cell_type": "code",
      "metadata": {
        "id": "rl-B9jB9MPLB"
      },
      "source": [
        "# Create the following lists using loops:\n",
        "# 1. [3,6,9,12,15,18....300] \n",
        "# 2. The above list by a different approach\n",
        "# 3. A list of all integers divisible by 3 and 7 between 1 and 1000\n"
      ],
      "execution_count": null,
      "outputs": []
    },
    {
      "cell_type": "code",
      "metadata": {
        "id": "Tpf88JaIrkNi"
      },
      "source": [
        "### ANSWERS\n",
        "ans1 = [j for j in range(3,301,3)]\n",
        "# or\n",
        "ans1 = list(range(3,301,3))\n",
        "# or\n",
        "ans2 = [j * 3 for j in range(1,101)]\n",
        "\n",
        "ans3 = [j if j%3 for j in range(1,1001)]"
      ],
      "execution_count": null,
      "outputs": []
    },
    {
      "cell_type": "markdown",
      "metadata": {
        "id": "JEuZRpzfGPNt"
      },
      "source": [
        "# Part 2.9 - Other python plotting libraries - *Mini-lecture*\n",
        "Matplotlib is by far the most popular plotting library for python. It is extremely powerful and flexible for creating static publication quality graphics. However, other plotting libraries exist with different focuses:\n",
        "\n",
        "* Matplotlib for static graphics, quick plotting and publication quality graphics, (integrated into many other libraries)\n",
        "* Plotly for interactive or static/publication quality\n",
        "* Bokeh for interactive/web plots\n",
        "* Seaborn for quick but powerful stats plots\n",
        "* Altair - different approach to making plots based on how we reason about data\n",
        "\n",
        "This example notebook provides examples of each:\n",
        "\n",
        "https://colab.research.google.com/notebooks/charts.ipynb#scrollTo=N-u5cYwpS-y0\n",
        "\n",
        "It is highly recommended to go through the examples and experiment with these libraries in your own time and in the assignments. However, be sure to also get experience with Matplotlib because it is so common.\n",
        "\n"
      ]
    },
    {
      "cell_type": "markdown",
      "metadata": {
        "id": "PDLhscsFVp7i"
      },
      "source": [
        "# Part 2.10 - Week 2 Assignment\n",
        "One of the most critical basic skills in data science is data visualisation, whether making quick plots to explore data, or publication quality graphics, or anything in between. Through this course we will routinely plot data in the classes and assignments.\n",
        "\n",
        "**Task**\n",
        "\n",
        "Create a Jupyter notebook in which you load data and make at least 2 different plots.\n",
        "\n",
        "*Datasets*\n",
        "\n",
        "You can use datasets from the ds4geo github repository (e.g. which were submitted as the week 1 assignment) or any dataset which you can load directly from a url (e.g. from http://www.pangaea.de).\n",
        "(At any time you can submit extra datasets to be hosted in the ds4geo repository for sharing with the rest of the class. Please follow the same instructions as for the Week 1 Assignment.)\n",
        "\n",
        "*Plots*\n",
        "\n",
        "You can make any type of plots (doesn't have to be a time-series), but the type should be appropriate to the data.\n",
        "The plots do not need to be very complicated, but try to make clear, readable and interesting plots to share with the rest of the class.\n",
        "\n",
        "*Libraries*\n",
        "\n",
        "You may use any python plotting library, but it is recommended to use Matplotlib (or its Pandas integration - see pd.DataFrame.plot?) unless you are already experienced with it.\n",
        "\n",
        "*How to get help*\n",
        "\n",
        "Don't be afraid to use google! Typing \"python\" followed by a description of what you want to do often results in useful Stackoverflow forum discussions with code snippets. e.g. \"python matplotlib two x axes\"\n",
        "\n",
        "If can't figure something out, note it down in your notebook. We will have the opportunity to answer such questions later in the course.\n",
        "\n",
        "Remember to comment you code!\n",
        "\n",
        "**Submission**\n",
        "\n",
        "* Submit the assignment here: https://github.com/ds4geo/ds4geo_ws2020/tree/master/Assignments/Session%202\n",
        "* See readme about how to use github for assessment submissions [here](../Github%20Assignment%20Readme.md)\n",
        "* The **deadline** is 23:59 on 20th October 2020.\n",
        "* This assignment comprises 5% of the assessment for the course. Marks are awarded for effort.\n",
        "\n",
        "Submitted notebooks are available to the whole class, and will be discussed in Session 3.\n",
        "\n"
      ]
    },
    {
      "cell_type": "markdown",
      "metadata": {
        "id": "zFRIiCkkY4jc"
      },
      "source": [
        "# References"
      ]
    },
    {
      "cell_type": "code",
      "metadata": {
        "id": "uqbWp_kr3xMx"
      },
      "source": [
        ""
      ],
      "execution_count": null,
      "outputs": []
    }
  ]
}