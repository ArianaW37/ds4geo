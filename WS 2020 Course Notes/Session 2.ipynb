{
  "nbformat": 4,
  "nbformat_minor": 0,
  "metadata": {
    "colab": {
      "name": "DS4GEO_L2.ipynb",
      "provenance": [],
      "private_outputs": true,
      "toc_visible": true,
      "authorship_tag": "ABX9TyOwyDvASO9XdyXAB4DxTz+T",
      "include_colab_link": true
    },
    "kernelspec": {
      "name": "python3",
      "display_name": "Python 3"
    }
  },
  "cells": [
    {
      "cell_type": "markdown",
      "metadata": {
        "id": "view-in-github",
        "colab_type": "text"
      },
      "source": [
        "<a href=\"https://colab.research.google.com/github/ds4geo/ds4geo/blob/master/WS%202020%20Course%20Notes/Session%202.ipynb\" target=\"_parent\"><img src=\"https://colab.research.google.com/assets/colab-badge.svg\" alt=\"Open In Colab\"/></a>"
      ]
    },
    {
      "cell_type": "markdown",
      "metadata": {
        "id": "dpljx4eBphz6",
        "colab_type": "text"
      },
      "source": [
        "# To Do\n",
        "\n",
        "* Create separate solutions notebook\n",
        "* Enable output cells\n",
        "* Final go-through and checks\n"
      ]
    },
    {
      "cell_type": "markdown",
      "metadata": {
        "id": "b3yfRRs6n8q0",
        "colab_type": "text"
      },
      "source": [
        "# **Data Science for Geoscientists - Winter Semester 2020**\n",
        "# **Session 2**\n",
        "\n",
        "In the previous session, we handled data in a very simple way using pandas. In this session we will introduce a few other helpful python object types for handling data, and expecially learn how to index/slice data (extract only certain parts of the data/object). Specifically, we will cover lists, dictionaries, and arrays from the numpy library.\n",
        "\n",
        "We will also introduce simple array operations and aggregations, then apply these topics to a worked example from the geosciences.\n",
        "\n",
        "\n",
        "\n"
      ]
    },
    {
      "cell_type": "markdown",
      "metadata": {
        "id": "wFeaRSt9TrSw",
        "colab_type": "text"
      },
      "source": [
        "# Part 2.1 - Data Icebreaker - Data Skepticism - *Discussion*\n",
        "Discussion: On the largest and second largest exporters of agricultural products in the world."
      ]
    },
    {
      "cell_type": "markdown",
      "metadata": {
        "id": "-sud-tcI8wph",
        "colab_type": "text"
      },
      "source": [
        "# Part 2.2 - Student Submitted Datasets - Discussion"
      ]
    },
    {
      "cell_type": "markdown",
      "metadata": {
        "id": "p003MrAa9K7R",
        "colab_type": "text"
      },
      "source": [
        "# Part 2.3 - Python Objects - *Walkthrough*\n",
        "\n",
        "Python has a number of in-built object types. More are provided by imported libraries, and it is possible to create new types.\n",
        "The type of an object determines how/what data is stored and what can be done with the object."
      ]
    },
    {
      "cell_type": "code",
      "metadata": {
        "id": "wayBUiQqKjhi",
        "colab_type": "code",
        "colab": {}
      },
      "source": [
        "# Create object/variable \"a\" and assign integer value 5\n",
        "a = 5\n",
        "# See which type \"a\" is\n",
        "type(a)"
      ],
      "execution_count": null,
      "outputs": []
    },
    {
      "cell_type": "code",
      "metadata": {
        "id": "vZZyzHwtm-n9",
        "colab_type": "code",
        "colab": {}
      },
      "source": [
        "# Add an int to an int\n",
        "a + 2"
      ],
      "execution_count": null,
      "outputs": []
    },
    {
      "cell_type": "code",
      "metadata": {
        "id": "8Sl5KaDtm-kS",
        "colab_type": "code",
        "colab": {}
      },
      "source": [
        "# Create object \"b\" and assign float value 2.5\n",
        "b = 2.5\n",
        "# See which type \"b\" is\n",
        "type(b)"
      ],
      "execution_count": null,
      "outputs": []
    },
    {
      "cell_type": "code",
      "metadata": {
        "id": "0bxcqi5Im-Zk",
        "colab_type": "code",
        "colab": {}
      },
      "source": [
        "# Add an integer and a float\n",
        "a+b"
      ],
      "execution_count": null,
      "outputs": []
    },
    {
      "cell_type": "code",
      "metadata": {
        "id": "ekgu4BVCnHzn",
        "colab_type": "code",
        "colab": {}
      },
      "source": [
        "# Create some strings\n",
        "c = \"Geology \"\n",
        "d = \"Rocks!\"\n",
        "type(c)"
      ],
      "execution_count": null,
      "outputs": []
    },
    {
      "cell_type": "code",
      "metadata": {
        "id": "U23_ROqSnHw8",
        "colab_type": "code",
        "colab": {}
      },
      "source": [
        "# Concatenate strings with the + operator\n",
        "c+d"
      ],
      "execution_count": null,
      "outputs": []
    },
    {
      "cell_type": "code",
      "metadata": {
        "id": "hFzyW0-mnHn3",
        "colab_type": "code",
        "colab": {}
      },
      "source": [
        "# Create a list out of the objects we just made\n",
        "e = [a, b, c, d]\n",
        "type(e)"
      ],
      "execution_count": null,
      "outputs": []
    },
    {
      "cell_type": "code",
      "metadata": {
        "id": "0sicLJURoc1s",
        "colab_type": "code",
        "colab": {}
      },
      "source": [
        "# View e\n",
        "e"
      ],
      "execution_count": null,
      "outputs": []
    },
    {
      "cell_type": "code",
      "metadata": {
        "id": "VL_b3cNDsNRR",
        "colab_type": "code",
        "colab": {}
      },
      "source": [
        "# Get help and info on an object:\n",
        "e?"
      ],
      "execution_count": null,
      "outputs": []
    },
    {
      "cell_type": "code",
      "metadata": {
        "id": "4fqK4pwuokqF",
        "colab_type": "code",
        "colab": {}
      },
      "source": [
        "# Objects have methods depending on their type. Methods are functions applied on\n",
        "# an object.\n",
        "# Use dir to list object methods. Ignore those with form __x__\n",
        "dir(e)"
      ],
      "execution_count": null,
      "outputs": []
    },
    {
      "cell_type": "code",
      "metadata": {
        "id": "9pHuwZ3Lsj3N",
        "colab_type": "code",
        "colab": {}
      },
      "source": [
        "# See help on \"append\" method\n",
        "e.append?"
      ],
      "execution_count": null,
      "outputs": []
    },
    {
      "cell_type": "code",
      "metadata": {
        "id": "D2JKNHAls5R1",
        "colab_type": "code",
        "colab": {}
      },
      "source": [
        "# Try appending something\n",
        "e.append(\"(Not really!)\")\n",
        "e"
      ],
      "execution_count": null,
      "outputs": []
    },
    {
      "cell_type": "code",
      "metadata": {
        "id": "YdKY5E5ztB0S",
        "colab_type": "code",
        "colab": {}
      },
      "source": [
        "# That's not right, perhaps the \"remove\" method can help:\n",
        "e.remove(\"(Not really!)\")\n",
        "e"
      ],
      "execution_count": null,
      "outputs": []
    },
    {
      "cell_type": "markdown",
      "metadata": {
        "id": "EzeDN1bi9g5l",
        "colab_type": "text"
      },
      "source": [
        "For more detail see:\n",
        "\n",
        "*   Cheat sheet - https://www.datacamp.com/community/tutorials/python-data-science-cheat-sheet-basics\n",
        "*   https://colab.research.google.com/github/jakevdp/PythonDataScienceHandbook/blob/master/notebooks/02.01-Understanding-Data-Types.ipynb\n",
        "*   https://medium.com/analytics-vidhya/data-types-in-python-506009234f89\n"
      ]
    },
    {
      "cell_type": "markdown",
      "metadata": {
        "id": "1QMoY59BoZBt",
        "colab_type": "text"
      },
      "source": [
        "# Part 2.4 - Lists, Dictionaries and Indexing - *Walkthrough*\n",
        "\n",
        "Lists and dictionaries are built-in python objects useful for storing and handling data."
      ]
    },
    {
      "cell_type": "markdown",
      "metadata": {
        "id": "JUvoXMscfpfj",
        "colab_type": "text"
      },
      "source": [
        "## 2.2.1 - Lists\n",
        "Python lists are ordered collections of other python objects, separated by commas. They are defined by square brackets [ ]"
      ]
    },
    {
      "cell_type": "code",
      "metadata": {
        "id": "4RsAroYgmrqY",
        "colab_type": "code",
        "colab": {}
      },
      "source": [
        "a = [1,2,3] # List of integers\n",
        "print(\"a:\", a)\n",
        "\n",
        "b = [1.5, 2.5, 3.5] # List of floats\n",
        "print(\"b:\", b)"
      ],
      "execution_count": null,
      "outputs": []
    },
    {
      "cell_type": "code",
      "metadata": {
        "id": "MA3ekiYUgY8p",
        "colab_type": "code",
        "colab": {}
      },
      "source": [
        "# Lists can contain different types\n",
        "c = [1, \"data\", 2.5]\n",
        "print(\"b:\", b)\n",
        "\n",
        "# Including other lists (nested)\n",
        "d = [[1,2,3], [4,5,6]]\n",
        "print(\"d:\", d)\n",
        "\n",
        "e = [a, b]\n",
        "print(\"e:\", e)"
      ],
      "execution_count": null,
      "outputs": []
    },
    {
      "cell_type": "code",
      "metadata": {
        "id": "gzjXALvu71A1",
        "colab_type": "code",
        "colab": {}
      },
      "source": [
        "# They can contain any other python objects\n",
        "import pandas as pd\n",
        "import numpy as np\n",
        "import matplotlib.pyplot as plt\n",
        "f = [pd, np, plt] # But there's no reason to actually do this\n",
        "print(\"f:\", f)"
      ],
      "execution_count": null,
      "outputs": []
    },
    {
      "cell_type": "code",
      "metadata": {
        "id": "wEnPisV-8UT5",
        "colab_type": "code",
        "colab": {}
      },
      "source": [
        "# From last week, you'll recall dir() can be used to find methods on objects\n",
        "a = [1, 2, 3]\n",
        "# Append adds a new item to the end of a list\n",
        "a.append(4)\n",
        "print(\"a:\", a)\n",
        "\n",
        "# Extend joins to lists *in place*\n",
        "a.extend(b) # notice we don't assign a result\n",
        "print(\"a:\", a)\n",
        "# + operator when applied to two lists but not *in place*:\n",
        "h = a + b\n",
        "print(\"h:\", h)\n",
        "\n",
        "# sort does what it suggests, in place\n",
        "a.sort()\n",
        "print(\"a:\", a)"
      ],
      "execution_count": null,
      "outputs": []
    },
    {
      "cell_type": "code",
      "metadata": {
        "id": "lKvxYMn-8JD5",
        "colab_type": "code",
        "colab": {}
      },
      "source": [
        "# Tuples are another type very similar to lists except they can't be modified\n",
        "# i.e. you cannot append to a tuple\n",
        "# They are defined by parentheses ( ) instead of [ ]\n",
        "a_tuple = (1, 2, 3)\n",
        "print(\"a_tuple:\", a_tuple)\n",
        "\n",
        "# The specific reasons for using tuples complex.\n",
        "# You will see them in documentation, but usually you can just use a list"
      ],
      "execution_count": null,
      "outputs": []
    },
    {
      "cell_type": "markdown",
      "metadata": {
        "id": "wKya8c8A-KeZ",
        "colab_type": "text"
      },
      "source": [
        "## 2.2.2 - Dictionaries\n",
        "Python dictionaries are un-ordered collections of pairs known as keys and values. They function like language dictionaries where you look up a word (they key) and see its definition or translation (value).\n",
        "They are defined with braces { }, separated by commas, and colons : indicate the key-value relationships."
      ]
    },
    {
      "cell_type": "code",
      "metadata": {
        "id": "jzjLEC7z-96o",
        "colab_type": "code",
        "colab": {}
      },
      "source": [
        "# Create a simple German to English language dictionary\n",
        "De2En = {\"Bier\": \"Beer\", \"Wurst\": \"Sausage\"}\n",
        "\n",
        "# When making lists and dictionaries, you can wrap between lines for readability:\n",
        "De2En = {\"Bier\": \"Beer\",\n",
        "         \"Wurst\": \"Sausage\",\n",
        "         \"Kren\": \"Horseradish\"}\n"
      ],
      "execution_count": null,
      "outputs": []
    },
    {
      "cell_type": "code",
      "metadata": {
        "id": "VGWQ6DiUmXfv",
        "colab_type": "code",
        "colab": {}
      },
      "source": [
        "# Values can be any python object, e.g. lists:\n",
        "rocks = {\"igneous\": [\"Granite\", \"Basalt\", \"Rhyolite\"],\n",
        "         \"Sedimentary\": [\"Sandstone\", \"Limestone\"]}\n",
        "\n",
        "# Keys can be some python objects (int, float, string, tuple), but not others (lists or dicts)\n",
        "# Keys and values do not all have to be the same type\n",
        "complex_dict = {0: \"zero\",\n",
        "                \"one point 5\": 1.5,\n",
        "                2.5: [\"two\", \"point\", \"five\"]}\n",
        "\n",
        "# Dictionaries can also be nested like lists.\n",
        "# Note the nesting is multi-line and aligned to improve readability\n",
        "rock_dict = {\"granite\": {\"type\": \"igneous\",\n",
        "                         \"composition\": {\"quartz\": 0.5,\n",
        "                                         \"feldspar\": 0.2},\n",
        "                         \"locations\": [(50.59671,-3.98289),\n",
        "                                       (50.59591,-4.61987)]},\n",
        "             \"sandstone\": {}}\n"
      ],
      "execution_count": null,
      "outputs": []
    },
    {
      "cell_type": "markdown",
      "metadata": {
        "id": "G8WSM2Z7_Mq0",
        "colab_type": "text"
      },
      "source": [
        "## 2.2.3 - List and Dictionary Indexing\n",
        "You can select objects/data from lists and dictionaries using square brackets [ ].\n",
        "List indexing is based on numeric positions, while dictionary indexing is based on its keys.\n",
        "\n",
        "**Note** python positional indexing (for lists, numpy, pandas, etc) always starts at 0. i.e. the first item is 0. This might seem counter intuitive at first, but when combined with some other features of python, it actually simplifies code in many situations!"
      ]
    },
    {
      "cell_type": "code",
      "metadata": {
        "id": "Ktp65NaU_hFz",
        "colab_type": "code",
        "colab": {}
      },
      "source": [
        "# Remind ourselves what is in variable \"c\"\n",
        "print(c)\n",
        "\n",
        "# Print positions 0, 1 and 2 of list \"c\"\n",
        "print(c[0])\n",
        "print(c[1])\n",
        "print(c[2])"
      ],
      "execution_count": null,
      "outputs": []
    },
    {
      "cell_type": "code",
      "metadata": {
        "id": "kUl0Hm56swWn",
        "colab_type": "code",
        "colab": {}
      },
      "source": [
        "# If we try to index a position beyond the size of the list, we get an index error\n",
        "# Uncomment this line to try it.\n",
        "# (It is commented out so you can run all the code in this notebook without generating an error)\n",
        "#print(c[3])"
      ],
      "execution_count": null,
      "outputs": []
    },
    {
      "cell_type": "code",
      "metadata": {
        "id": "UPKTGv5gs9Zc",
        "colab_type": "code",
        "colab": {}
      },
      "source": [
        "# List indexing also works with negative numbers in reverse, with -1 being the last index\n",
        "print(c)\n",
        "print(c[-1]) # the last item in c"
      ],
      "execution_count": null,
      "outputs": []
    },
    {
      "cell_type": "code",
      "metadata": {
        "id": "0pQdDsxdtAVD",
        "colab_type": "code",
        "colab": {}
      },
      "source": [
        "# With nested objects, indexing can be stacked with sets of square brackets [ ][ ]\n",
        "print(d)\n",
        "print(d[1])\n",
        "print(d[1][2])"
      ],
      "execution_count": null,
      "outputs": []
    },
    {
      "cell_type": "code",
      "metadata": {
        "id": "o6LzIarTuicP",
        "colab_type": "code",
        "colab": {}
      },
      "source": [
        "# Indexing tuples and strings works exactly the same way\n",
        "print(a_tuple)\n",
        "print(a_tuple[0])\n",
        "\n",
        "print(c)\n",
        "print(c[1])\n",
        "print(c[1][2])"
      ],
      "execution_count": null,
      "outputs": []
    },
    {
      "cell_type": "code",
      "metadata": {
        "id": "rcox6VdWuw4T",
        "colab_type": "code",
        "colab": {}
      },
      "source": [
        "# For lists, tuples and strings (and numpy - see later), ranges also work.\n",
        "# Ranges are \"half-open\", i.e. include the first index, but not the last.\n",
        "# This is so when you use a range of e.g. 2:4, you get a result of length 2, despite indexing starting at 0\n",
        "print(a)\n",
        "print(a[2:4])"
      ],
      "execution_count": null,
      "outputs": []
    },
    {
      "cell_type": "code",
      "metadata": {
        "id": "BoHF-i6ExPp9",
        "colab_type": "code",
        "colab": {}
      },
      "source": [
        "# Also useful is finding the length of lists, dicts and strings:\n",
        "print(\"length of list a:\", len(a))\n",
        "print(\"length of dict rocks:\", len(rocks))\n",
        "print(\"length of string in position 1 of list c:\", len(c[1]))"
      ],
      "execution_count": null,
      "outputs": []
    },
    {
      "cell_type": "code",
      "metadata": {
        "id": "E0XESPXRypsz",
        "colab_type": "code",
        "colab": {}
      },
      "source": [
        "# Dictionaries are indexed by their keys:\n",
        "print(De2En[\"Bier\"])\n",
        "\n",
        "# And example of indexing nested objects\n",
        "print(rocks[\"igneous\"])\n",
        "print(rocks[\"igneous\"][1])\n",
        "print(rock_dict[\"granite\"])\n",
        "print(rock_dict[\"granite\"][\"composition\"])\n",
        "print(rock_dict[\"granite\"][\"composition\"][\"quartz\"])"
      ],
      "execution_count": null,
      "outputs": []
    },
    {
      "cell_type": "code",
      "metadata": {
        "id": "qxxkP3Z3z7rE",
        "colab_type": "code",
        "colab": {}
      },
      "source": [
        "# You can also expand dictionaries using indexing assignment:\n",
        "De2En[\"Semmel\"] = \"Bread roll\"\n",
        "print(De2En)\n",
        "\n",
        "rocks[\"metamorphic\"] = [\"Gneiss, Schist\"]\n",
        "print(rocks)\n",
        "\n",
        "# And you can use methods on the objects indexed:\n",
        "rocks[\"igneous\"].append(\"Gabbro\")\n",
        "print(rocks)"
      ],
      "execution_count": null,
      "outputs": []
    },
    {
      "cell_type": "code",
      "metadata": {
        "id": "4tktNc5E0PLa",
        "colab_type": "code",
        "colab": {}
      },
      "source": [
        ""
      ],
      "execution_count": null,
      "outputs": []
    },
    {
      "cell_type": "markdown",
      "metadata": {
        "id": "fsRGvHu6FvuE",
        "colab_type": "text"
      },
      "source": [
        "# Part 2.5 - Indexing excercise - *Workshop*"
      ]
    },
    {
      "cell_type": "code",
      "metadata": {
        "id": "jKY-fbhLGAkm",
        "colab_type": "code",
        "colab": {}
      },
      "source": [
        ""
      ],
      "execution_count": null,
      "outputs": []
    },
    {
      "cell_type": "markdown",
      "metadata": {
        "id": "sR5h6LKgnA6-",
        "colab_type": "text"
      },
      "source": [
        "# Part 2.6 - Advanced/Object Based Plotting - *Walkthrough*\n",
        "\n",
        "Matplotlib provides a more advanced system for plotting and controlling figures. One explicitly creates figure and axes object and uses their methods to control all aspects of creating figures.\n",
        "\n",
        "**Task**:\n",
        "Create a plot with both the LR04 and NGRIP records with a shared x axis but separate y axes, and view only the time period covered by both records.\n",
        "\n",
        "Try using `plt.subplots` to create a figure and axis which you can then use for plotting. `ax.twinx` will also be useful.\n",
        "\n",
        "Use code completion and the help documentation. The help documentation usually contains a useful examples section.\n",
        "\n",
        "Remember to comment your code!"
      ]
    },
    {
      "cell_type": "code",
      "metadata": {
        "id": "FPGiPeh4K-PM",
        "colab_type": "code",
        "colab": {}
      },
      "source": [
        "# \n",
        "fig, ax = plt.subplots()\n",
        "# Create a second axis in the same location and with a linked x scale with ax.twinx()\n",
        "ax2 = ax.twinx()\n",
        "\n",
        "ax.plot(dat_NGRIP[\"age\"], dat_NGRIP[\"d18O\"], color=\"orange\", label=\"NGRIP\")\n",
        "ax2.plot(dat_LR04[\"Time\"], dat_LR04[\"d18O\"], color=\"blue\", label=\"LR04\")\n",
        "ax.set_xlim(0,45) # x axes are linked, so only need to set one of them\n",
        "ax2.set_ylim(5.5,3)\n",
        "# \n",
        "ax.set_xlabel(\"time (ka)\")\n",
        "ax.set_ylabel(\"NGRIP ice d18O\")\n",
        "ax2.set_ylabel(\"LR04 d18O d18O\")\n",
        "ax.set_title(\"Comparison of LR04 and NGRIP ice d18O for mid-MIS3 to present\")"
      ],
      "execution_count": null,
      "outputs": []
    },
    {
      "cell_type": "markdown",
      "metadata": {
        "id": "uUByJuKsb7y2",
        "colab_type": "text"
      },
      "source": [
        "#Part 2.7 - Python flow controls - *Walkthrough*\n",
        "Flow controls turn scripting lists of commands into complex programs.\n",
        "There are two main types:\n",
        "* **If** statements which allow code to be executed based on a decision statement.\n",
        "* **Loops** which allow a program to run through the same block of code many times.\n",
        "If statements and loops are often used in combination.\n",
        "\n",
        "Most languages use parentheses or curly brackets to indicate the code which defines the decision or loop, along with the code to be executed based on the decision or within the loop. Python however follows a different approach.\n",
        "If statements and loops (along with a number of other more advanced statements) are defined by indentation with spaces or tabs. The number of spaces or tabs does not matter, but 4 spaces if typical."
      ]
    },
    {
      "cell_type": "markdown",
      "metadata": {
        "id": "5mOchuoPcF4L",
        "colab_type": "text"
      },
      "source": [
        "## Part 2.7.1 If statements\n",
        "\n"
      ]
    },
    {
      "cell_type": "code",
      "metadata": {
        "id": "fmUwjybEeYvs",
        "colab_type": "code",
        "colab": {}
      },
      "source": [
        "[2] == [2]\n"
      ],
      "execution_count": null,
      "outputs": []
    },
    {
      "cell_type": "markdown",
      "metadata": {
        "id": "gi8R6RgvGH0t",
        "colab_type": "text"
      },
      "source": [
        "# Part 2.8 - Plotting and flow control excercise - *Workshop*"
      ]
    },
    {
      "cell_type": "code",
      "metadata": {
        "id": "IHcf7E20GL2V",
        "colab_type": "code",
        "colab": {}
      },
      "source": [
        ""
      ],
      "execution_count": null,
      "outputs": []
    },
    {
      "cell_type": "markdown",
      "metadata": {
        "id": "JEuZRpzfGPNt",
        "colab_type": "text"
      },
      "source": [
        "# Part 2.9 - Other python plotting libraries - *Mini-lecture*"
      ]
    },
    {
      "cell_type": "markdown",
      "metadata": {
        "id": "PDLhscsFVp7i",
        "colab_type": "text"
      },
      "source": [
        "# Part 2.10 - Week 2 Assignment\n",
        "load and plot some data - 1-2 data sets - can be yours, someone elses' from last week, or something new (in which case, please provide source!)\n",
        "\n",
        "doesn't have to be ambitious, but try to make clear, readable and interesting plots\n",
        "\n",
        "Show progression - except for errors, show every plot you make - i.e. don't edit cells you've already run, copy the code into the next and improve.\n",
        "e.g. like here: https://miro.medium.com/max/1400/1*cSkEKPFA30qLdRSYXwT_fQ.png\n",
        "\n",
        "Can use matplotlib, or another library if ambitious.\n",
        "\n",
        "Try to google (python matplotlib ....) if you don't know how to do something. Stackoverflow is your friend!\n",
        "\n",
        "If can't figure something out, note it down in your assignment - we'll have a data viz deep-dive/long workshop session later in the course.\n",
        "\n",
        "\n"
      ]
    },
    {
      "cell_type": "markdown",
      "metadata": {
        "id": "zFRIiCkkY4jc",
        "colab_type": "text"
      },
      "source": [
        "# References"
      ]
    },
    {
      "cell_type": "code",
      "metadata": {
        "id": "uqbWp_kr3xMx",
        "colab_type": "code",
        "colab": {}
      },
      "source": [
        ""
      ],
      "execution_count": null,
      "outputs": []
    }
  ]
}