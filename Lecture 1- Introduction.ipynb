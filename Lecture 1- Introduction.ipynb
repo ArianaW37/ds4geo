{
  "nbformat": 4,
  "nbformat_minor": 0,
  "metadata": {
    "kernelspec": {
      "display_name": "Python 3",
      "language": "python",
      "name": "python3"
    },
    "language_info": {
      "codemirror_mode": {
        "name": "ipython",
        "version": 3
      },
      "file_extension": ".py",
      "mimetype": "text/x-python",
      "name": "python",
      "nbconvert_exporter": "python",
      "pygments_lexer": "ipython3",
      "version": "3.7.7"
    },
    "colab": {
      "name": "Parana hydro.ipynb",
      "provenance": []
    }
  },
  "cells": [
    {
      "cell_type": "markdown",
      "metadata": {
        "id": "0AzNOwMiBnIw",
        "colab_type": "text"
      },
      "source": [
        "Welcome to python running in a Jupyter Notebook in Google Colab!\n",
        "\n",
        "We are going to load, view and plot the famous Lisiecki and Raymo (2005) \"LR04 stack\" benthic d18O stack with just a few lines of python code.\n",
        "\n",
        "Below is a \"code cell\".\n",
        "Follow the instructions in the comments.\n"
      ]
    },
    {
      "cell_type": "code",
      "metadata": {
        "id": "6j50f2MA6SV1",
        "colab_type": "code",
        "colab": {}
      },
      "source": [
        "# Click here and run the code cell by pressing the play button, or ctrl+enter\n",
        "# Import some libraries with useful functionality\n",
        "import pandas as pd # For loading and manipulating data\n",
        "import matplotlib.pyplot as plt"
      ],
      "execution_count": 1,
      "outputs": []
    },
    {
      "cell_type": "code",
      "metadata": {
        "id": "--0CP6Cv6SV_",
        "colab_type": "code",
        "colab": {}
      },
      "source": [
        "# Load the LR04 stack from a csv file hosted in the course github repository using pandas\n",
        "dat = pd.read_csv(r\"https://raw.githubusercontent.com/ds4geo/ds4geo/master/data/timeseries/LR04stack.txt\", sep=\"\\t\", header=3)"
      ],
      "execution_count": 26,
      "outputs": []
    },
    {
      "cell_type": "code",
      "metadata": {
        "id": "Iu2mr3z26SWF",
        "colab_type": "code",
        "colab": {
          "base_uri": "https://localhost:8080/",
          "height": 419
        },
        "outputId": "853c56c5-5f4a-4b04-8c6c-f301e7db8d35"
      },
      "source": [
        "# Display an overview of the loaded data\n",
        "dat"
      ],
      "execution_count": 30,
      "outputs": [
        {
          "output_type": "execute_result",
          "data": {
            "text/html": [
              "<div>\n",
              "<style scoped>\n",
              "    .dataframe tbody tr th:only-of-type {\n",
              "        vertical-align: middle;\n",
              "    }\n",
              "\n",
              "    .dataframe tbody tr th {\n",
              "        vertical-align: top;\n",
              "    }\n",
              "\n",
              "    .dataframe thead th {\n",
              "        text-align: right;\n",
              "    }\n",
              "</style>\n",
              "<table border=\"1\" class=\"dataframe\">\n",
              "  <thead>\n",
              "    <tr style=\"text-align: right;\">\n",
              "      <th></th>\n",
              "      <th>Time (ka)</th>\n",
              "      <th>Benthic d18O (per mil)</th>\n",
              "      <th>Standard error (per mil)</th>\n",
              "    </tr>\n",
              "  </thead>\n",
              "  <tbody>\n",
              "    <tr>\n",
              "      <th>0</th>\n",
              "      <td>0.0</td>\n",
              "      <td>3.23</td>\n",
              "      <td>0.03</td>\n",
              "    </tr>\n",
              "    <tr>\n",
              "      <th>1</th>\n",
              "      <td>1.0</td>\n",
              "      <td>3.23</td>\n",
              "      <td>0.04</td>\n",
              "    </tr>\n",
              "    <tr>\n",
              "      <th>2</th>\n",
              "      <td>2.0</td>\n",
              "      <td>3.18</td>\n",
              "      <td>0.03</td>\n",
              "    </tr>\n",
              "    <tr>\n",
              "      <th>3</th>\n",
              "      <td>3.0</td>\n",
              "      <td>3.29</td>\n",
              "      <td>0.03</td>\n",
              "    </tr>\n",
              "    <tr>\n",
              "      <th>4</th>\n",
              "      <td>4.0</td>\n",
              "      <td>3.30</td>\n",
              "      <td>0.03</td>\n",
              "    </tr>\n",
              "    <tr>\n",
              "      <th>...</th>\n",
              "      <td>...</td>\n",
              "      <td>...</td>\n",
              "      <td>...</td>\n",
              "    </tr>\n",
              "    <tr>\n",
              "      <th>2110</th>\n",
              "      <td>5300.0</td>\n",
              "      <td>2.91</td>\n",
              "      <td>0.06</td>\n",
              "    </tr>\n",
              "    <tr>\n",
              "      <th>2111</th>\n",
              "      <td>5305.0</td>\n",
              "      <td>2.79</td>\n",
              "      <td>0.04</td>\n",
              "    </tr>\n",
              "    <tr>\n",
              "      <th>2112</th>\n",
              "      <td>5310.0</td>\n",
              "      <td>2.79</td>\n",
              "      <td>0.09</td>\n",
              "    </tr>\n",
              "    <tr>\n",
              "      <th>2113</th>\n",
              "      <td>5315.0</td>\n",
              "      <td>2.84</td>\n",
              "      <td>0.07</td>\n",
              "    </tr>\n",
              "    <tr>\n",
              "      <th>2114</th>\n",
              "      <td>5320.0</td>\n",
              "      <td>2.91</td>\n",
              "      <td>0.09</td>\n",
              "    </tr>\n",
              "  </tbody>\n",
              "</table>\n",
              "<p>2115 rows × 3 columns</p>\n",
              "</div>"
            ],
            "text/plain": [
              "      Time (ka)  Benthic d18O (per mil)  Standard error (per mil)\n",
              "0           0.0                    3.23                      0.03\n",
              "1           1.0                    3.23                      0.04\n",
              "2           2.0                    3.18                      0.03\n",
              "3           3.0                    3.29                      0.03\n",
              "4           4.0                    3.30                      0.03\n",
              "...         ...                     ...                       ...\n",
              "2110     5300.0                    2.91                      0.06\n",
              "2111     5305.0                    2.79                      0.04\n",
              "2112     5310.0                    2.79                      0.09\n",
              "2113     5315.0                    2.84                      0.07\n",
              "2114     5320.0                    2.91                      0.09\n",
              "\n",
              "[2115 rows x 3 columns]"
            ]
          },
          "metadata": {
            "tags": []
          },
          "execution_count": 30
        }
      ]
    },
    {
      "cell_type": "code",
      "metadata": {
        "scrolled": true,
        "id": "RnSosePP6SWL",
        "colab_type": "code",
        "colab": {
          "base_uri": "https://localhost:8080/",
          "height": 282
        },
        "outputId": "526bfc9b-6df9-4f13-e128-bec7eda447e4"
      },
      "source": [
        "# Plot the data using matplotlib\n",
        "plt.plot(dat[\"Time (ka)\"], dat[\"Benthic d18O (per mil)\"])"
      ],
      "execution_count": 34,
      "outputs": [
        {
          "output_type": "execute_result",
          "data": {
            "text/plain": [
              "[<matplotlib.lines.Line2D at 0x7f9a35059630>]"
            ]
          },
          "metadata": {
            "tags": []
          },
          "execution_count": 34
        },
        {
          "output_type": "display_data",
          "data": {
            "image/png": "[encoded data removed]",
            "text/plain": [
              "<Figure size 432x288 with 1 Axes>"
            ]
          },
          "metadata": {
            "tags": [],
            "needs_background": "light"
          }
        }
      ]
    },
    {
      "cell_type": "code",
      "metadata": {
        "id": "raNr9Jyw6SWP",
        "colab_type": "code",
        "colab": {}
      },
      "source": [
        "\n"
      ],
      "execution_count": null,
      "outputs": []
    },
    {
      "cell_type": "code",
      "metadata": {
        "id": "IG4azvJd6SWT",
        "colab_type": "code",
        "colab": {}
      },
      "source": [
        "\n"
      ],
      "execution_count": null,
      "outputs": []
    },
    {
      "cell_type": "code",
      "metadata": {
        "id": "tNsFN91X6SWX",
        "colab_type": "code",
        "colab": {}
      },
      "source": [
        ""
      ],
      "execution_count": null,
      "outputs": []
    }
  ]
}
