{
  "nbformat": 4,
  "nbformat_minor": 0,
  "metadata": {
    "kernelspec": {
      "display_name": "Python 3",
      "language": "python",
      "name": "python3"
    },
    "language_info": {
      "codemirror_mode": {
        "name": "ipython",
        "version": 3
      },
      "file_extension": ".py",
      "mimetype": "text/x-python",
      "name": "python",
      "nbconvert_exporter": "python",
      "pygments_lexer": "ipython3",
      "version": "3.7.7"
    },
    "colab": {
      "name": "Lecture 1- Introduction.ipynb",
      "provenance": [],
      "include_colab_link": true
    }
  },
  "cells": [
    {
      "cell_type": "markdown",
      "metadata": {
        "id": "view-in-github",
        "colab_type": "text"
      },
      "source": [
        "<a href=\"https://colab.research.google.com/github/ds4geo/ds4geo/blob/master/Lecture%201-%20Introduction.ipynb\" target=\"_parent\"><img src=\"https://colab.research.google.com/assets/colab-badge.svg\" alt=\"Open In Colab\"/></a>"
      ]
    },
    {
      "cell_type": "markdown",
      "metadata": {
        "id": "0AzNOwMiBnIw",
        "colab_type": "text"
      },
      "source": [
        "**Lecture 1 Practical Excercises**\n",
        "\n",
        "**Section 1**\n",
        "\n",
        "Welcome to python running in a Jupyter Notebook in Google Colab!\n",
        "\n",
        "We are going to load, view and plot the famous Lisiecki and Raymo (2005) \"LR04 stack\" benthic d18O stack with just a few lines of python code.\n",
        "\n",
        "Below is a \"code cell\".\n",
        "Follow the instructions in the comments.\n"
      ]
    },
    {
      "cell_type": "code",
      "metadata": {
        "id": "6j50f2MA6SV1",
        "colab_type": "code",
        "colab": {}
      },
      "source": [
        "# Click here and run the code cell by pressing the play button, or ctrl+enter\n",
        "# Import some libraries with useful functionality\n",
        "import pandas as pd # For loading and manipulating data\n",
        "import matplotlib.pyplot as plt"
      ],
      "execution_count": 2,
      "outputs": []
    },
    {
      "cell_type": "code",
      "metadata": {
        "id": "--0CP6Cv6SV_",
        "colab_type": "code",
        "colab": {}
      },
      "source": [
        "# Load the LR04 stack from a csv file hosted in the course github repository using pandas\n",
        "dat = pd.read_csv(r\"https://raw.githubusercontent.com/ds4geo/ds4geo/master/data/timeseries/LR04stack_short.csv\")"
      ],
      "execution_count": 3,
      "outputs": []
    },
    {
      "cell_type": "code",
      "metadata": {
        "id": "Iu2mr3z26SWF",
        "colab_type": "code",
        "colab": {
          "base_uri": "https://localhost:8080/",
          "height": 419
        },
        "outputId": "b68e8f9b-88e3-457c-e2ad-9a6560630f26"
      },
      "source": [
        "# Display an overview of the loaded data\n",
        "dat"
      ],
      "execution_count": 4,
      "outputs": [
        {
          "output_type": "execute_result",
          "data": {
            "text/html": [
              "<div>\n",
              "<style scoped>\n",
              "    .dataframe tbody tr th:only-of-type {\n",
              "        vertical-align: middle;\n",
              "    }\n",
              "\n",
              "    .dataframe tbody tr th {\n",
              "        vertical-align: top;\n",
              "    }\n",
              "\n",
              "    .dataframe thead th {\n",
              "        text-align: right;\n",
              "    }\n",
              "</style>\n",
              "<table border=\"1\" class=\"dataframe\">\n",
              "  <thead>\n",
              "    <tr style=\"text-align: right;\">\n",
              "      <th></th>\n",
              "      <th>Time</th>\n",
              "      <th>d18O</th>\n",
              "    </tr>\n",
              "  </thead>\n",
              "  <tbody>\n",
              "    <tr>\n",
              "      <th>0</th>\n",
              "      <td>0</td>\n",
              "      <td>3.23</td>\n",
              "    </tr>\n",
              "    <tr>\n",
              "      <th>1</th>\n",
              "      <td>1</td>\n",
              "      <td>3.23</td>\n",
              "    </tr>\n",
              "    <tr>\n",
              "      <th>2</th>\n",
              "      <td>2</td>\n",
              "      <td>3.18</td>\n",
              "    </tr>\n",
              "    <tr>\n",
              "      <th>3</th>\n",
              "      <td>3</td>\n",
              "      <td>3.29</td>\n",
              "    </tr>\n",
              "    <tr>\n",
              "      <th>4</th>\n",
              "      <td>4</td>\n",
              "      <td>3.30</td>\n",
              "    </tr>\n",
              "    <tr>\n",
              "      <th>...</th>\n",
              "      <td>...</td>\n",
              "      <td>...</td>\n",
              "    </tr>\n",
              "    <tr>\n",
              "      <th>136</th>\n",
              "      <td>136</td>\n",
              "      <td>4.82</td>\n",
              "    </tr>\n",
              "    <tr>\n",
              "      <th>137</th>\n",
              "      <td>137</td>\n",
              "      <td>4.80</td>\n",
              "    </tr>\n",
              "    <tr>\n",
              "      <th>138</th>\n",
              "      <td>138</td>\n",
              "      <td>4.89</td>\n",
              "    </tr>\n",
              "    <tr>\n",
              "      <th>139</th>\n",
              "      <td>139</td>\n",
              "      <td>4.87</td>\n",
              "    </tr>\n",
              "    <tr>\n",
              "      <th>140</th>\n",
              "      <td>140</td>\n",
              "      <td>4.98</td>\n",
              "    </tr>\n",
              "  </tbody>\n",
              "</table>\n",
              "<p>141 rows × 2 columns</p>\n",
              "</div>"
            ],
            "text/plain": [
              "     Time  d18O\n",
              "0       0  3.23\n",
              "1       1  3.23\n",
              "2       2  3.18\n",
              "3       3  3.29\n",
              "4       4  3.30\n",
              "..    ...   ...\n",
              "136   136  4.82\n",
              "137   137  4.80\n",
              "138   138  4.89\n",
              "139   139  4.87\n",
              "140   140  4.98\n",
              "\n",
              "[141 rows x 2 columns]"
            ]
          },
          "metadata": {
            "tags": []
          },
          "execution_count": 4
        }
      ]
    },
    {
      "cell_type": "code",
      "metadata": {
        "scrolled": true,
        "id": "RnSosePP6SWL",
        "colab_type": "code",
        "colab": {
          "base_uri": "https://localhost:8080/",
          "height": 282
        },
        "outputId": "1a776ca3-771a-4406-d3fe-e80f2b3bcb3b"
      },
      "source": [
        "# Plot the data using matplotlib\n",
        "plt.plot(dat[\"Time\"], dat[\"d18O\"])"
      ],
      "execution_count": 5,
      "outputs": [
        {
          "output_type": "execute_result",
          "data": {
            "text/plain": [
              "[<matplotlib.lines.Line2D at 0x7fb847028e10>]"
            ]
          },
          "metadata": {
            "tags": []
          },
          "execution_count": 5
        },
        {
          "output_type": "display_data",
          "data": {
            "image/png": "[encoded data removed]",
            "text/plain": [
              "<Figure size 432x288 with 1 Axes>"
            ]
          },
          "metadata": {
            "tags": [],
            "needs_background": "light"
          }
        }
      ]
    },
    {
      "cell_type": "markdown",
      "metadata": {
        "id": "Tw2cCB5IsNZG",
        "colab_type": "text"
      },
      "source": [
        "**Section 2**\n",
        "\n",
        "The above example uses simplified data and the most basic plotting.\n",
        "Now we will load data from the actual data file published by Lisiecki and Raymo (2005), and we will improve the plotting. To do this we will need to use additional arguments and functions.\n"
      ]
    },
    {
      "cell_type": "code",
      "metadata": {
        "id": "uDvtWKELvR10",
        "colab_type": "code",
        "colab": {}
      },
      "source": [
        "'''\n",
        "Multi-line comments can be created using triple inverted commas.\n",
        "\n",
        "Load the original LR04 stack from a tab delimited txt file\n",
        "Check the data file here: https://github.com/ds4geo/ds4geo/blob/master/data/timeseries/LR04stack.txt\n",
        "\n",
        "You'll notice the column headings are on line/row 5 and the data starts on row 6.\n",
        "Therefore we need to tell pd.read_csv which row the headings are on.\n",
        "We can do this by adding a keyword argument called \"header\".\n",
        "pd.read_csv ignores blank lines by default, and python starts counts at 0, so we pass header=3\n",
        "\n",
        "The delimiter of this file is tab, not comma, so we also need to use the sep argument with the value \"\\t\" for tab.\n",
        "'''\n",
        "# Read the original LR04 stack\n",
        "dat = pd.read_csv(r\"https://raw.githubusercontent.com/ds4geo/ds4geo/master/data/timeseries/LR04stack.txt\", sep=\"\\t\", header=3)\n"
      ],
      "execution_count": 6,
      "outputs": []
    },
    {
      "cell_type": "code",
      "metadata": {
        "id": "mW9vg3Ol3qFj",
        "colab_type": "code",
        "colab": {
          "base_uri": "https://localhost:8080/",
          "height": 419
        },
        "outputId": "a22a7a60-9b71-40ac-f1d0-7a46698fbe4a"
      },
      "source": [
        "# Display an overview of the loaded data. The data is stored as a pandas DataFrame\n",
        "dat"
      ],
      "execution_count": 7,
      "outputs": [
        {
          "output_type": "execute_result",
          "data": {
            "text/html": [
              "<div>\n",
              "<style scoped>\n",
              "    .dataframe tbody tr th:only-of-type {\n",
              "        vertical-align: middle;\n",
              "    }\n",
              "\n",
              "    .dataframe tbody tr th {\n",
              "        vertical-align: top;\n",
              "    }\n",
              "\n",
              "    .dataframe thead th {\n",
              "        text-align: right;\n",
              "    }\n",
              "</style>\n",
              "<table border=\"1\" class=\"dataframe\">\n",
              "  <thead>\n",
              "    <tr style=\"text-align: right;\">\n",
              "      <th></th>\n",
              "      <th>Time (ka)</th>\n",
              "      <th>Benthic d18O (per mil)</th>\n",
              "      <th>Standard error (per mil)</th>\n",
              "    </tr>\n",
              "  </thead>\n",
              "  <tbody>\n",
              "    <tr>\n",
              "      <th>0</th>\n",
              "      <td>0.0</td>\n",
              "      <td>3.23</td>\n",
              "      <td>0.03</td>\n",
              "    </tr>\n",
              "    <tr>\n",
              "      <th>1</th>\n",
              "      <td>1.0</td>\n",
              "      <td>3.23</td>\n",
              "      <td>0.04</td>\n",
              "    </tr>\n",
              "    <tr>\n",
              "      <th>2</th>\n",
              "      <td>2.0</td>\n",
              "      <td>3.18</td>\n",
              "      <td>0.03</td>\n",
              "    </tr>\n",
              "    <tr>\n",
              "      <th>3</th>\n",
              "      <td>3.0</td>\n",
              "      <td>3.29</td>\n",
              "      <td>0.03</td>\n",
              "    </tr>\n",
              "    <tr>\n",
              "      <th>4</th>\n",
              "      <td>4.0</td>\n",
              "      <td>3.30</td>\n",
              "      <td>0.03</td>\n",
              "    </tr>\n",
              "    <tr>\n",
              "      <th>...</th>\n",
              "      <td>...</td>\n",
              "      <td>...</td>\n",
              "      <td>...</td>\n",
              "    </tr>\n",
              "    <tr>\n",
              "      <th>2110</th>\n",
              "      <td>5300.0</td>\n",
              "      <td>2.91</td>\n",
              "      <td>0.06</td>\n",
              "    </tr>\n",
              "    <tr>\n",
              "      <th>2111</th>\n",
              "      <td>5305.0</td>\n",
              "      <td>2.79</td>\n",
              "      <td>0.04</td>\n",
              "    </tr>\n",
              "    <tr>\n",
              "      <th>2112</th>\n",
              "      <td>5310.0</td>\n",
              "      <td>2.79</td>\n",
              "      <td>0.09</td>\n",
              "    </tr>\n",
              "    <tr>\n",
              "      <th>2113</th>\n",
              "      <td>5315.0</td>\n",
              "      <td>2.84</td>\n",
              "      <td>0.07</td>\n",
              "    </tr>\n",
              "    <tr>\n",
              "      <th>2114</th>\n",
              "      <td>5320.0</td>\n",
              "      <td>2.91</td>\n",
              "      <td>0.09</td>\n",
              "    </tr>\n",
              "  </tbody>\n",
              "</table>\n",
              "<p>2115 rows × 3 columns</p>\n",
              "</div>"
            ],
            "text/plain": [
              "      Time (ka)  Benthic d18O (per mil)  Standard error (per mil)\n",
              "0           0.0                    3.23                      0.03\n",
              "1           1.0                    3.23                      0.04\n",
              "2           2.0                    3.18                      0.03\n",
              "3           3.0                    3.29                      0.03\n",
              "4           4.0                    3.30                      0.03\n",
              "...         ...                     ...                       ...\n",
              "2110     5300.0                    2.91                      0.06\n",
              "2111     5305.0                    2.79                      0.04\n",
              "2112     5310.0                    2.79                      0.09\n",
              "2113     5315.0                    2.84                      0.07\n",
              "2114     5320.0                    2.91                      0.09\n",
              "\n",
              "[2115 rows x 3 columns]"
            ]
          },
          "metadata": {
            "tags": []
          },
          "execution_count": 7
        }
      ]
    },
    {
      "cell_type": "code",
      "metadata": {
        "id": "XEDASHu_5WE1",
        "colab_type": "code",
        "colab": {
          "base_uri": "https://localhost:8080/",
          "height": 51
        },
        "outputId": "e0d9749f-029d-4c0a-df95-ccc63c6676fe"
      },
      "source": [
        "# The long column names are annoying to type out while coding, so we can rename them if we want:\n",
        "# The DataFrame object dat has an attribute called columns.\n",
        "# We can use the core python print function to display objects in the cell output (or terminal)\n",
        "print(dat.columns)\n",
        "\n",
        "# We can overwrite the column names by assigning a list of new ones to the columns attribute.\n",
        "dat.columns = [\"Time\", \"d18O\", \"error\"]\n",
        "\n",
        "# Print the column names again to see the change\n",
        "print(dat.columns)"
      ],
      "execution_count": 8,
      "outputs": [
        {
          "output_type": "stream",
          "text": [
            "Index(['Time (ka)', 'Benthic d18O (per mil)', 'Standard error (per mil)'], dtype='object')\n",
            "Index(['Time', 'd18O', 'error'], dtype='object')\n"
          ],
          "name": "stdout"
        }
      ]
    },
    {
      "cell_type": "code",
      "metadata": {
        "id": "raNr9Jyw6SWP",
        "colab_type": "code",
        "colab": {
          "base_uri": "https://localhost:8080/",
          "height": 282
        },
        "outputId": "90826c0d-74bc-4f7b-969d-bf6cad0706a8"
      },
      "source": [
        "# Plot the data with matplotlib\n",
        "plt.plot(dat[\"Time\"], dat[\"d18O\"])"
      ],
      "execution_count": 9,
      "outputs": [
        {
          "output_type": "execute_result",
          "data": {
            "text/plain": [
              "[<matplotlib.lines.Line2D at 0x7fb846b12518>]"
            ]
          },
          "metadata": {
            "tags": []
          },
          "execution_count": 9
        },
        {
          "output_type": "display_data",
          "data": {
            "image/png": "[encoded data removed]",
            "text/plain": [
              "<Figure size 432x288 with 1 Axes>"
            ]
          },
          "metadata": {
            "tags": [],
            "needs_background": "light"
          }
        }
      ]
    },
    {
      "cell_type": "code",
      "metadata": {
        "id": "nQBW_Gdf6ZAk",
        "colab_type": "code",
        "colab": {
          "base_uri": "https://localhost:8080/",
          "height": 286
        },
        "outputId": "18777c92-bf82-4ea6-ad9a-d56fdf2128d2"
      },
      "source": [
        "# That shows the whole record which isn't easy to read\n",
        "# Now we add some basic plotting controls: axes limits\n",
        "\n",
        "# Plot the data\n",
        "plt.plot(dat[\"Time\"], dat[\"d18O\"])\n",
        "\n",
        "# Limit the X axis to the last 140 ka\n",
        "plt.xlim(0, 140)\n",
        "# Limit the Y axis to a sensible range\n",
        "plt.ylim(3, 5.5)"
      ],
      "execution_count": 14,
      "outputs": [
        {
          "output_type": "execute_result",
          "data": {
            "text/plain": [
              "(3.0, 5.5)"
            ]
          },
          "metadata": {
            "tags": []
          },
          "execution_count": 14
        },
        {
          "output_type": "display_data",
          "data": {
            "image/png": "[encoded data removed]",
            "text/plain": [
              "<Figure size 432x288 with 1 Axes>"
            ]
          },
          "metadata": {
            "tags": [],
            "needs_background": "light"
          }
        }
      ]
    },
    {
      "cell_type": "code",
      "metadata": {
        "id": "IG4azvJd6SWT",
        "colab_type": "code",
        "colab": {
          "base_uri": "https://localhost:8080/",
          "height": 286
        },
        "outputId": "ea703c60-97c6-48e8-fd76-205b68ca4c78"
      },
      "source": [
        "# This record is often shown filpped vertically so warm inter-glacial periods are \"up\"\n",
        "# Sometimes it is also shown flipped horizontally so time goes left to right\n",
        "\n",
        "# Plot the data\n",
        "plt.plot(dat[\"Time\"], dat[\"d18O\"])\n",
        "\n",
        "# Flip the X axis by reversing\n",
        "plt.xlim(140, 0)\n",
        "# Flip the Y axis in the same way\n",
        "plt.ylim(5.5, 3)"
      ],
      "execution_count": 15,
      "outputs": [
        {
          "output_type": "execute_result",
          "data": {
            "text/plain": [
              "(5.5, 3.0)"
            ]
          },
          "metadata": {
            "tags": []
          },
          "execution_count": 15
        },
        {
          "output_type": "display_data",
          "data": {
            "image/png": "[encoded data removed]",
            "text/plain": [
              "<Figure size 432x288 with 1 Axes>"
            ]
          },
          "metadata": {
            "tags": [],
            "needs_background": "light"
          }
        }
      ]
    },
    {
      "cell_type": "markdown",
      "metadata": {
        "id": "rw7Nc9Jg9xnO",
        "colab_type": "text"
      },
      "source": [
        "**Section 3**\n"
      ]
    },
    {
      "cell_type": "code",
      "metadata": {
        "id": "tNsFN91X6SWX",
        "colab_type": "code",
        "colab": {}
      },
      "source": [
        "dat = pd.read_csv(\"https://raw.githubusercontent.com/ds4geo/ds4geo/master/data/timeseries/NGRIP_chronology_20.tab\", sep=\"\\t\", header=20)\n",
        "#dat = pd.read_csv(r\"https://raw.githubusercontent.com/ds4geo/ds4geo/master/data/timeseries/NGRIP_chronology_20.tab\", sep=, header=)"
      ],
      "execution_count": 20,
      "outputs": []
    },
    {
      "cell_type": "code",
      "metadata": {
        "id": "NQwUrDCUqGy8",
        "colab_type": "code",
        "colab": {
          "base_uri": "https://localhost:8080/",
          "height": 419
        },
        "outputId": "38213e2c-13e8-44cf-fc25-cff66a0133a0"
      },
      "source": [
        "dat"
      ],
      "execution_count": 21,
      "outputs": [
        {
          "output_type": "execute_result",
          "data": {
            "text/html": [
              "<div>\n",
              "<style scoped>\n",
              "    .dataframe tbody tr th:only-of-type {\n",
              "        vertical-align: middle;\n",
              "    }\n",
              "\n",
              "    .dataframe tbody tr th {\n",
              "        vertical-align: top;\n",
              "    }\n",
              "\n",
              "    .dataframe thead th {\n",
              "        text-align: right;\n",
              "    }\n",
              "</style>\n",
              "<table border=\"1\" class=\"dataframe\">\n",
              "  <thead>\n",
              "    <tr style=\"text-align: right;\">\n",
              "      <th></th>\n",
              "      <th>Age [ka BP]</th>\n",
              "      <th>Depth ice/snow [m]</th>\n",
              "      <th>Age e [±]</th>\n",
              "      <th>δ18O H2O [‰ SMOW]</th>\n",
              "    </tr>\n",
              "  </thead>\n",
              "  <tbody>\n",
              "    <tr>\n",
              "      <th>0</th>\n",
              "      <td>-0.03</td>\n",
              "      <td>7.35</td>\n",
              "      <td>0.001</td>\n",
              "      <td>-35.16</td>\n",
              "    </tr>\n",
              "    <tr>\n",
              "      <th>1</th>\n",
              "      <td>-0.01</td>\n",
              "      <td>14.15</td>\n",
              "      <td>0.001</td>\n",
              "      <td>-35.82</td>\n",
              "    </tr>\n",
              "    <tr>\n",
              "      <th>2</th>\n",
              "      <td>0.01</td>\n",
              "      <td>20.40</td>\n",
              "      <td>0.001</td>\n",
              "      <td>-35.11</td>\n",
              "    </tr>\n",
              "    <tr>\n",
              "      <th>3</th>\n",
              "      <td>0.03</td>\n",
              "      <td>26.10</td>\n",
              "      <td>0.001</td>\n",
              "      <td>-34.65</td>\n",
              "    </tr>\n",
              "    <tr>\n",
              "      <th>4</th>\n",
              "      <td>0.05</td>\n",
              "      <td>31.53</td>\n",
              "      <td>0.001</td>\n",
              "      <td>-34.53</td>\n",
              "    </tr>\n",
              "    <tr>\n",
              "      <th>...</th>\n",
              "      <td>...</td>\n",
              "      <td>...</td>\n",
              "      <td>...</td>\n",
              "      <td>...</td>\n",
              "    </tr>\n",
              "    <tr>\n",
              "      <th>2083</th>\n",
              "      <td>41.63</td>\n",
              "      <td>2127.35</td>\n",
              "      <td>1.651</td>\n",
              "      <td>-43.61</td>\n",
              "    </tr>\n",
              "    <tr>\n",
              "      <th>2084</th>\n",
              "      <td>41.65</td>\n",
              "      <td>2127.64</td>\n",
              "      <td>1.652</td>\n",
              "      <td>-42.91</td>\n",
              "    </tr>\n",
              "    <tr>\n",
              "      <th>2085</th>\n",
              "      <td>41.67</td>\n",
              "      <td>2127.94</td>\n",
              "      <td>1.653</td>\n",
              "      <td>-41.92</td>\n",
              "    </tr>\n",
              "    <tr>\n",
              "      <th>2086</th>\n",
              "      <td>41.69</td>\n",
              "      <td>2128.20</td>\n",
              "      <td>1.654</td>\n",
              "      <td>-41.67</td>\n",
              "    </tr>\n",
              "    <tr>\n",
              "      <th>2087</th>\n",
              "      <td>41.71</td>\n",
              "      <td>2128.48</td>\n",
              "      <td>1.656</td>\n",
              "      <td>-43.75</td>\n",
              "    </tr>\n",
              "  </tbody>\n",
              "</table>\n",
              "<p>2088 rows × 4 columns</p>\n",
              "</div>"
            ],
            "text/plain": [
              "      Age [ka BP]  Depth ice/snow [m]  Age e [±]  δ18O H2O [‰ SMOW]\n",
              "0           -0.03                7.35      0.001             -35.16\n",
              "1           -0.01               14.15      0.001             -35.82\n",
              "2            0.01               20.40      0.001             -35.11\n",
              "3            0.03               26.10      0.001             -34.65\n",
              "4            0.05               31.53      0.001             -34.53\n",
              "...           ...                 ...        ...                ...\n",
              "2083        41.63             2127.35      1.651             -43.61\n",
              "2084        41.65             2127.64      1.652             -42.91\n",
              "2085        41.67             2127.94      1.653             -41.92\n",
              "2086        41.69             2128.20      1.654             -41.67\n",
              "2087        41.71             2128.48      1.656             -43.75\n",
              "\n",
              "[2088 rows x 4 columns]"
            ]
          },
          "metadata": {
            "tags": []
          },
          "execution_count": 21
        }
      ]
    },
    {
      "cell_type": "code",
      "metadata": {
        "id": "3tku93c3-F7O",
        "colab_type": "code",
        "colab": {}
      },
      "source": [
        "dat.columns = [\"age\", \"depth\", \"error\", \"d18O\"]\n",
        "# dat.columns = [$]"
      ],
      "execution_count": 22,
      "outputs": []
    },
    {
      "cell_type": "code",
      "metadata": {
        "id": "MGmWbwCEgKP5",
        "colab_type": "code",
        "colab": {
          "base_uri": "https://localhost:8080/",
          "height": 282
        },
        "outputId": "191e1620-071f-4d51-feb8-80e92bccc93a"
      },
      "source": [
        "plt.plot(dat[\"age\"], dat[\"d18O\"])\n",
        "plt.xlim(40, 30)"
      ],
      "execution_count": 26,
      "outputs": [
        {
          "output_type": "execute_result",
          "data": {
            "text/plain": [
              "(40.0, 30.0)"
            ]
          },
          "metadata": {
            "tags": []
          },
          "execution_count": 26
        },
        {
          "output_type": "display_data",
          "data": {
            "image/png": "[encoded data removed]",
            "text/plain": [
              "<Figure size 432x288 with 1 Axes>"
            ]
          },
          "metadata": {
            "tags": [],
            "needs_background": "light"
          }
        }
      ]
    },
    {
      "cell_type": "code",
      "metadata": {
        "id": "a6CyqgxJgOE8",
        "colab_type": "code",
        "colab": {}
      },
      "source": [
        ""
      ],
      "execution_count": null,
      "outputs": []
    }
  ]
}
